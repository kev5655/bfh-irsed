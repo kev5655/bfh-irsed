{
 "cells": [
  {
   "cell_type": "code",
   "execution_count": 1,
   "id": "26aa10dc",
   "metadata": {},
   "outputs": [
    {
     "name": "stdout",
     "output_type": "stream",
     "text": [
      "Found 24 URLs:\n",
      "https://en.wikipedia.org/wiki/Elixir_(programming_language)\n",
      "https://en.wikipedia.org/wiki/MATLAB\n",
      "https://en.wikipedia.org/wiki/Rust_(programming_language)\n",
      "https://en.wikipedia.org/wiki/Python_(programming_language)\n",
      "https://en.wikipedia.org/wiki/R_(programming_language)\n",
      "https://en.wikipedia.org/wiki/Zig_(programming_language)\n",
      "https://en.wikipedia.org/wiki/Scala_(programming_language)\n",
      "https://en.wikipedia.org/wiki/Haskell\n",
      "https://en.wikipedia.org/wiki/PowerShell\n",
      "https://en.wikipedia.org/wiki/Java_(programming_language)\n",
      "https://en.wikipedia.org/wiki/Assembly_language\n",
      "https://en.wikipedia.org/wiki/Swift_(programming_language)\n",
      "https://en.wikipedia.org/wiki/Lua\n",
      "https://en.wikipedia.org/wiki/C_Sharp_(programming_language)\n",
      "https://en.wikipedia.org/wiki/C_(programming_language)\n",
      "https://en.wikipedia.org/wiki/Ruby_(programming_language)\n",
      "https://en.wikipedia.org/wiki/TypeScript\n",
      "https://en.wikipedia.org/wiki/Apache_Groovy\n",
      "https://en.wikipedia.org/wiki/JavaScript\n",
      "https://en.wikipedia.org/wiki/Dart_(programming_language)\n",
      "https://en.wikipedia.org/wiki/Go_(programming_language)\n",
      "https://en.wikipedia.org/wiki/Kotlin_(programming_language)\n",
      "https://en.wikipedia.org/wiki/PHP\n",
      "https://en.wikipedia.org/wiki/C%2B%2B\n"
     ]
    }
   ],
   "source": [
    "import json\n",
    "\n",
    "# Load the JSON file\n",
    "with open('/home/bfh/irsed/daten/ProgLang/24_4/prog_lang.json', 'r', encoding='utf-8') as file:\n",
    "    data = json.load(file)\n",
    "\n",
    "# Extract all URLs\n",
    "urls = [item['url'] for item in data if 'url' in item]\n",
    "\n",
    "# Print the URLs\n",
    "print(f\"Found {len(urls)} URLs:\")\n",
    "for url in urls:\n",
    "    print(url)"
   ]
  }
 ],
 "metadata": {
  "kernelspec": {
   "display_name": "Python 3",
   "language": "python",
   "name": "python3"
  },
  "language_info": {
   "codemirror_mode": {
    "name": "ipython",
    "version": 3
   },
   "file_extension": ".py",
   "mimetype": "text/x-python",
   "name": "python",
   "nbconvert_exporter": "python",
   "pygments_lexer": "ipython3",
   "version": "3.10.12"
  }
 },
 "nbformat": 4,
 "nbformat_minor": 5
}
