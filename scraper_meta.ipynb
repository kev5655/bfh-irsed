{
 "cells": [
  {
   "cell_type": "code",
   "execution_count": 13,
   "id": "a775b359",
   "metadata": {},
   "outputs": [
    {
     "name": "stderr",
     "output_type": "stream",
     "text": [
      "Scraping: 100%|██████████| 24/24 [00:22<00:00,  1.07page/s]"
     ]
    },
    {
     "name": "stdout",
     "output_type": "stream",
     "text": [
      "Written 24 records to /home/bfh/irsed/daten/ProgLang\n"
     ]
    },
    {
     "name": "stderr",
     "output_type": "stream",
     "text": [
      "\n"
     ]
    }
   ],
   "source": [
    "from bs4 import BeautifulSoup\n",
    "import requests\n",
    "import re\n",
    "import json\n",
    "from tqdm import tqdm\n",
    "from time import sleep\n",
    "from typing import List, Dict, Any\n",
    "\n",
    "CITATION_RE = re.compile(r\"\\[.+?\\]\")\n",
    "MULTI_PARADIGM_RE = re.compile(r\"^\\s*Multi-paradigm\\s*:?\", flags=re.I)\n",
    "SPLIT_RE = re.compile(r\"[,;\\u2022\\u00B7\\n]+\")  # comma, semicolon, bullet, middot, newline\n",
    "WHITESPACE_RE = re.compile(r\"\\s+\")\n",
    "\n",
    "def extract_paradigms_from_html(html: str) -> List[str]:\n",
    "    \"\"\"Return a list of paradigms found in the page's infobox.\"\"\"\n",
    "\n",
    "    soup = BeautifulSoup(html, \"html.parser\")\n",
    "    infobox = soup.find(\"table\", class_=lambda c: c and \"infobox\" in c)\n",
    "    if not infobox:\n",
    "        return []\n",
    "\n",
    "    # Search for a <th> that contains the word \"Paradigm\"\n",
    "    th = infobox.find(\n",
    "        \"th\",\n",
    "        string=lambda s: isinstance(s, str) and \"paradigm\" in s.lower(),\n",
    "    )\n",
    "    if not th:\n",
    "        return []\n",
    "    td = th.find_next(\"td\")\n",
    "    if not td:\n",
    "        return []\n",
    "\n",
    "    # Remove footnotes\n",
    "    for sup in td.find_all(\"sup\"):\n",
    "        sup.decompose()\n",
    "\n",
    "    # Strategy 1: use the anchor tags – this covers most cases (including Rust)\n",
    "    anchors = [a.get_text(\" \", strip=True) for a in td.select(\"a[href]\")]\n",
    "    paradigms = [a for a in anchors if a]\n",
    "\n",
    "    # Strategy 2: if anchors produced nothing, fall back to raw text split\n",
    "    if not paradigms:\n",
    "        raw = CITATION_RE.sub(\"\", td.get_text(\" \", strip=True))\n",
    "        raw = MULTI_PARADIGM_RE.sub(\"\", raw)\n",
    "        parts = SPLIT_RE.split(raw)\n",
    "        paradigms = [WHITESPACE_RE.sub(\" \", p).strip() for p in parts if p.strip()]\n",
    "\n",
    "    # Deduplicate while preserving order (case‑insensitive)\n",
    "    seen = set()\n",
    "    unique = []\n",
    "    for p in paradigms:\n",
    "        key = p.lower()\n",
    "        if key not in seen:\n",
    "            seen.add(key)\n",
    "            unique.append(p)\n",
    "    return unique\n",
    "\n",
    "\n",
    "def process_records(records: List[Dict[str, Any]], delay: float = 0.5) -> List[Dict[str, Any]]:\n",
    "    \"\"\"Enrich every record with a `paradigm` key and return the new list.\"\"\"\n",
    "\n",
    "    enriched = []\n",
    "    for rec in tqdm(records, desc=\"Scraping\", unit=\"page\"):\n",
    "        url = rec.get(\"url\")\n",
    "        paradigms: List[str]\n",
    "        if not url:\n",
    "            paradigms = [\"TODO: add manually\"]\n",
    "        else:\n",
    "            try:\n",
    "                r = requests.get(url, timeout=20)\n",
    "                r.raise_for_status()\n",
    "                paradigms = \" \".join(extract_paradigms_from_html(r.text)) \n",
    "                if not paradigms:\n",
    "                    paradigms = [\"TODO: add manually\"]\n",
    "            except Exception as e:\n",
    "                print(f\"[WARN] {url}: {e}\")\n",
    "                paradigms = [\"TODO: add manually\"]\n",
    "        new_rec = dict(rec)  # shallow copy keeps all original keys\n",
    "        new_rec[\"paradigm\"] = paradigms\n",
    "        enriched.append(new_rec)\n",
    "        sleep(delay)\n",
    "    return enriched\n",
    "\n",
    "\n",
    "with open(\"/home/bfh/irsed/daten/ProgLang/24/prog_lang.json\", \"r\", encoding=\"utf-8\") as f:\n",
    "    original_records = json.load(f)\n",
    "\n",
    "enriched = process_records(original_records)\n",
    "\n",
    "# Write JSON\n",
    "with open(\"/home/bfh/irsed/daten/ProgLang/out.json\", \"w\", encoding=\"utf-8\") as f:\n",
    "    json.dump(enriched, f, ensure_ascii=False, indent=2)\n",
    "\n",
    "print(f\"Written {len(enriched)} records to /home/bfh/irsed/daten/ProgLang\")"
   ]
  },
  {
   "cell_type": "code",
   "execution_count": null,
   "id": "ecbed3f8",
   "metadata": {},
   "outputs": [],
   "source": []
  }
 ],
 "metadata": {
  "kernelspec": {
   "display_name": "Python 3",
   "language": "python",
   "name": "python3"
  },
  "language_info": {
   "codemirror_mode": {
    "name": "ipython",
    "version": 3
   },
   "file_extension": ".py",
   "mimetype": "text/x-python",
   "name": "python",
   "nbconvert_exporter": "python",
   "pygments_lexer": "ipython3",
   "version": "3.10.12"
  }
 },
 "nbformat": 4,
 "nbformat_minor": 5
}
