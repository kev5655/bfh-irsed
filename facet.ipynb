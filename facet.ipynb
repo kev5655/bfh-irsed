{
 "cells": [
  {
   "cell_type": "code",
   "execution_count": null,
   "id": "c1da9a32",
   "metadata": {},
   "outputs": [],
   "source": [
    "\n",
    "expected_langs = [    \n",
    "    # Facets\n",
    "    {\n",
    "        \"standard_query\": \"document:\\\"All programming languages\\\"\",\n",
    "        \"facets\": [\"paradigm\", \"typing_discipline\"],\n",
    "        \"expected_langs\": [\n",
    "            {\"lang\": \"Java\",         \"rank\": 1},\n",
    "            {\"lang\": \"Python\",       \"rank\": 2}\n",
    "        ],\n",
    "    },\n",
    "    {\n",
    "        \"standard_query\": \"document:\\\"languages that support concurrency\\\"\",\n",
    "        \"facets\": [\"paradigm\"],\n",
    "        \"expected_langs\": [\n",
    "            {\"lang\": \"Elixir\",       \"rank\": 1},\n",
    "            {\"lang\": \"Go\",           \"rank\": 2},\n",
    "            {\"lang\": \"Scala\",        \"rank\": 3}\n",
    "        ]\n",
    "    },\n",
    "    {\n",
    "        \"standard_query\": \"document:functional\",\n",
    "        \"facets\": [\"paradigm\", \"typing_discipline\"],\n",
    "        \"filter_query\": \"typing_discipline:*static*\",\n",
    "        \"expected_langs\": [\n",
    "            {\"lang\": \"Haskell\",      \"rank\": 1},\n",
    "            {\"lang\": \"Elixir\",       \"rank\": 2},\n",
    "            {\"lang\": \"Scala\",        \"rank\": 3},\n",
    "            {\"lang\": \"R\",            \"rank\": 4},\n",
    "            {\"lang\": \"Rust\",         \"rank\": 5},\n",
    "            {\"lang\": \"Python\",       \"rank\": 6},\n",
    "            {\"lang\": \"TypeScript\",   \"rank\": 7},\n",
    "            {\"lang\": \"JavaScript\",   \"rank\": 8},\n",
    "            {\"lang\": \"Kotlin\",       \"rank\": 9},\n",
    "            {\"lang\": \"Swift\",        \"rank\": 10},\n",
    "            {\"lang\": \"Lua\",          \"rank\": 11},\n",
    "            {\"lang\": \"Ruby\",         \"rank\": 12},\n",
    "            {\"lang\": \"Apache Groovy\",\"rank\": 13},\n",
    "        ]\n",
    "    },\n",
    "]"
   ]
  },
  {
   "cell_type": "code",
   "execution_count": 14,
   "id": "6659494c",
   "metadata": {},
   "outputs": [
    {
     "name": "stdout",
     "output_type": "stream",
     "text": [
      "DEBUG - Sending to Solr: {'rows': 30, 'wt': 'json', 'facet': 'true', 'facet.field': ['paradigm', 'typing_discipline'], 'q': 'document:\"All programming languages\"'}\n",
      "Ranking-Abgleich:\n",
      "DEBUG - Sending to Solr: {'rows': 30, 'wt': 'json', 'facet': 'true', 'facet.field': ['paradigm'], 'q': 'document:\"languages that support concurrency\"'}\n",
      "Ranking-Abgleich:\n",
      "DEBUG - Sending to Solr: {'rows': 30, 'wt': 'json', 'facet': 'true', 'facet.field': ['paradigm', 'typing_discipline'], 'q': 'document:functional'}\n",
      "Ranking-Abgleich:\n"
     ]
    }
   ],
   "source": [
    "from core import evaluate_case, EvaluationResult\n",
    "\n",
    "# Beispiel: core und Konfiguration\n",
    "cores = [\"ProgLang24_5\"]\n",
    "\n",
    "results = []\n",
    "for core in cores:\n",
    "    solr_url = f'http://10.248.16.116:8983/solr/{core}/select'\n",
    "    for case in expected_langs:\n",
    "        result: EvaluationResult = evaluate_case(case, solr_url, core, case[\"facets\"])\n",
    "        results.append(result)\n"
   ]
  },
  {
   "cell_type": "code",
   "execution_count": 15,
   "id": "2c6c1986",
   "metadata": {},
   "outputs": [],
   "source": [
    "import json\n",
    "\n",
    "with open(\"./results/results-facets.json\", \"w\", encoding=\"utf-8\") as f:\n",
    "    json.dump(results, f, ensure_ascii=False, indent=2)"
   ]
  }
 ],
 "metadata": {
  "kernelspec": {
   "display_name": "Python 3",
   "language": "python",
   "name": "python3"
  },
  "language_info": {
   "codemirror_mode": {
    "name": "ipython",
    "version": 3
   },
   "file_extension": ".py",
   "mimetype": "text/x-python",
   "name": "python",
   "nbconvert_exporter": "python",
   "pygments_lexer": "ipython3",
   "version": "3.10.12"
  }
 },
 "nbformat": 4,
 "nbformat_minor": 5
}
