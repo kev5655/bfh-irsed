{
 "cells": [
  {
   "cell_type": "markdown",
   "metadata": {},
   "source": [
    "# Setup und Konfiguration\n",
    "\n",
    "In diesem Abschnitt werden alle benötigten Bibliotheken importiert und grundlegende Einstellungen wie Dateipfade, Filterlisten und Konstanten definiert. Die Filterlisten bestimmen, welche Programmiersprachen berücksichtigt oder ausgeschlossen werden."
   ]
  },
  {
   "cell_type": "code",
   "execution_count": 1,
   "metadata": {},
   "outputs": [
    {
     "name": "stdout",
     "output_type": "stream",
     "text": [
      "25\n"
     ]
    }
   ],
   "source": [
    "from bs4 import BeautifulSoup\n",
    "import requests\n",
    "import re\n",
    "import json\n",
    "from dicttoxml import dicttoxml\n",
    "from xml.dom.minidom import parseString\n",
    "from time import sleep\n",
    "import math\n",
    "from tqdm import tqdm\n",
    "import os\n",
    "from urllib.parse import urlparse\n",
    "\n",
    "path = \"/home/bfh/irsed/daten/ProgLang\"\n",
    "temp_path = \"/home/bfh/irsed/daten/ProgLang/temp\"\n",
    "max_text_len=32765\n",
    "cPP = r'C%2B%2B'\n",
    "\n",
    "filter_languages = [\"Python_(programming_language)\", \"Go_(programming_language)\", \"typescript\",\n",
    "                    \"JavaScript\", \"Java_(programming_language)\", \"Rust_(programming_language)\", \"Bash_(Unix_shell)\", \n",
    "                    \"C_Sharp_(programming_language)\", cPP , \"C_(programming_language)\",\n",
    "                    \"PHP\", \"PowerShell\", \"Kotlin_(programming_language)\", \"Lua\", \n",
    "                    \"Dart_(programming_language)\", \"Assembly_language\", \"Ruby_(programming_language)\",\n",
    "                    \"Swift_(programming_language)\", \"R_(programming_language)\", \"MATLAB\",\n",
    "                    \"Apache_Groovy\", \"Scala_(programming_language)\", \"Haskell\", \"Elixir_(programming_language)\",\n",
    "                    \"Zig_(programming_language)\"]\n",
    "print(len(filter_languages))\n",
    "filter_not_languages =  [\"Lingo\", \"JavaFX_Script\", \"Join_Java\", \"ABC_(programming_language)\",\n",
    "                        \"Bc_(programming_language)\", \"LPC_(programming_language)\", \"SA-C_(programming_language)\"\n",
    "                        \"Orc_(programming_language)\", \"ACC_(programming_language)\", \"Arc_(programming_language)\",\n",
    "                        \"XC_(programming_language)\", \"TRAC_(programming_language)\", \"Planner_(programming_language)\",\n",
    "                        \"IBM_Basic_assembly_language\", \"SA-C_(programming_language)\", \"Clipper_(programming_language)\",\n",
    "                        \"Factor_(programming_language)\", \"Fj%C3%B6lnir_(programming_language)\", \"Actor_(programming_language)\",\n",
    "                        \"Escher_(programming_language)\", \"SR_(programming_language)\", \"Euler_(programming_language)\"]"
   ]
  },
  {
   "cell_type": "markdown",
   "metadata": {},
   "source": [
    "# Wikipedia-Seite laden und parsen\n",
    "\n",
    "Hier wird die Wikipedia-Seite mit der Liste der Programmiersprachen abgerufen und mit BeautifulSoup geparst, um die HTML-Struktur für die weitere Verarbeitung vorzubereiten."
   ]
  },
  {
   "cell_type": "markdown",
   "metadata": {},
   "source": [
    "[Link](https://en.wikipedia.org/wiki/List_of_programming_languages)"
   ]
  },
  {
   "cell_type": "code",
   "execution_count": 2,
   "metadata": {},
   "outputs": [],
   "source": [
    "baseUrl = \"https://en.wikipedia.org\"\n",
    "# baseUrl = \"https://de.wikipedia.org\"\n",
    "progListUrl = f\"{baseUrl}/wiki/List_of_programming_languages\"\n",
    "\n",
    "resp = requests.get(progListUrl)\n",
    "content = resp.text\n",
    "soup = BeautifulSoup(content, 'lxml')"
   ]
  },
  {
   "cell_type": "markdown",
   "metadata": {},
   "source": [
    "# Hilfsfunktionen für Link-Filterung\n",
    "\n",
    "Diese Funktionen helfen dabei, die gefundenen Links nach gewünschten und unerwünschten Programmiersprachen zu filtern."
   ]
  },
  {
   "cell_type": "code",
   "execution_count": 3,
   "metadata": {},
   "outputs": [],
   "source": [
    "def contains_any_language(link: str, languages: list[str]) -> bool:\n",
    "    \"\"\"Check if link contains any of the given languages.\"\"\"\n",
    "    link = link.lower()\n",
    "    return any(lang.lower() == link for lang in languages)\n",
    "\n",
    "def create_url_map(links: list[str]) -> dict:\n",
    "    \"\"\"Create a map with the last part of the URL as the key and the full URL as the value.\"\"\"\n",
    "    return {link.rsplit('/', 1)[-1]: link for link in links}\n",
    "\n",
    "def filter_programming_links(\n",
    "    links: list[str],\n",
    "    include_languages: list[str] = None,\n",
    "    exclude_languages: list[str] = None\n",
    ") -> list[str]:\n",
    "    include_languages = include_languages or []\n",
    "    exclude_languages = exclude_languages or []\n",
    "\n",
    "    if not include_languages and not exclude_languages:\n",
    "        return links\n",
    "    \n",
    "    url_map = create_url_map(links)\n",
    "    keys = list(url_map.keys())\n",
    "\n",
    "    if include_languages:\n",
    "        keys = [key for key in keys if contains_any_language(key, include_languages)]\n",
    "\n",
    "    # Exclude keys based on exclude_languages\n",
    "    if exclude_languages:\n",
    "        keys = [key for key in keys if not contains_any_language(key, exclude_languages)]\n",
    "\n",
    "    return [url_map[key] for key in keys]"
   ]
  },
  {
   "cell_type": "markdown",
   "metadata": {},
   "source": [
    "# Links zu Programmiersprachen extrahieren und filtern\n",
    "\n",
    "Hier werden alle relevanten Links zu einzelnen Programmiersprachen aus dem HTML extrahiert und anhand der Filterlisten eingeschränkt."
   ]
  },
  {
   "cell_type": "code",
   "execution_count": 4,
   "metadata": {},
   "outputs": [
    {
     "name": "stdout",
     "output_type": "stream",
     "text": [
      "Found Links 792\n",
      "All Links ['https://en.wikipedia.org/wiki/List_of_programming_languages_by_type', 'https://en.wikipedia.org/wiki/Timeline_of_programming_languages', 'https://en.wikipedia.org/wiki/Generational_list_of_programming_languages', 'https://en.wikipedia.org/wiki/Template:Programming_language_lists', 'https://en.wikipedia.org/wiki/Template_talk:Programming_language_lists', 'https://en.wikipedia.org/wiki/Special:EditPage/Template:Programming_language_lists', 'https://en.wikipedia.org#0–9', 'https://en.wikipedia.org#A', 'https://en.wikipedia.org#B', 'https://en.wikipedia.org#C', 'https://en.wikipedia.org#D', 'https://en.wikipedia.org#E', 'https://en.wikipedia.org#F', 'https://en.wikipedia.org#G', 'https://en.wikipedia.org#H', 'https://en.wikipedia.org#I', 'https://en.wikipedia.org#J', 'https://en.wikipedia.org#K', 'https://en.wikipedia.org#L', 'https://en.wikipedia.org#M', 'https://en.wikipedia.org#N', 'https://en.wikipedia.org#O', 'https://en.wikipedia.org#P', 'https://en.wikipedia.org#Q', 'https://en.wikipedia.org#R', 'https://en.wikipedia.org#S', 'https://en.wikipedia.org#T', 'https://en.wikipedia.org#U', 'https://en.wikipedia.org#V', 'https://en.wikipedia.org#W', 'https://en.wikipedia.org#X', 'https://en.wikipedia.org#Y', 'https://en.wikipedia.org#Z', 'https://en.wikipedia.org#See_also', 'https://en.wikipedia.org/wiki/A_Sharp_(.NET)', 'https://en.wikipedia.org/wiki/A-0_System', 'https://en.wikipedia.org/wiki/A%2B_(programming_language)', 'https://en.wikipedia.org/wiki/ABAP', 'https://en.wikipedia.org/wiki/ABC_(programming_language)', 'https://en.wikipedia.org/wiki/ACC_(programming_language)', 'https://en.wikipedia.org/wiki/Accent_(programming_language)', 'https://en.wikipedia.org/wiki/Action!_(programming_language)', 'https://en.wikipedia.org/wiki/ActionScript', 'https://en.wikipedia.org/wiki/Actor_(programming_language)', 'https://en.wikipedia.org/wiki/Ada_(programming_language)', 'https://en.wikipedia.org/wiki/ISO/IEC_8652', 'https://en.wikipedia.org/wiki/Adenine_(programming_language)', 'https://en.wikipedia.org/wiki/AdvPL', 'https://en.wikipedia.org/wiki/Agda_(programming_language)', 'https://en.wikipedia.org/wiki/Agilent_VEE', 'https://en.wikipedia.org/wiki/Agora_(programming_language)', 'https://en.wikipedia.org/wiki/AIMMS', 'https://en.wikipedia.org/wiki/Aldor', 'https://en.wikipedia.org/wiki/Alef_(programming_language)', 'https://en.wikipedia.org/wiki/Algebraic_Logic_Functional_programming_language', 'https://en.wikipedia.org/wiki/ALGOL_58', 'https://en.wikipedia.org/wiki/ALGOL_60', 'https://en.wikipedia.org/wiki/ALGOL_68', 'https://en.wikipedia.org/wiki/ALGOL_W', 'https://en.wikipedia.org/wiki/Alice_(programming_language)', 'https://en.wikipedia.org/wiki/Alma-0', 'https://en.wikipedia.org/wiki/AmbientTalk', 'https://en.wikipedia.org/wiki/Amiga_E', 'https://en.wikipedia.org/wiki/AMPL', 'https://en.wikipedia.org/wiki/%D0%90%D0%BD%D0%B0%D0%BB%D0%B8%D1%82%D0%B8%D0%BA', 'https://en.wikipedia.org/wiki/AngelScript', 'https://en.wikipedia.org/wiki/Apache_Pig', 'https://en.wikipedia.org/wiki/Apex_(programming_language)', 'https://en.wikipedia.org/wiki/APL_(programming_language)', 'https://en.wikipedia.org/wiki/App_Inventor_for_Android_(programming_language)', 'https://en.wikipedia.org/wiki/AppleScript', 'https://en.wikipedia.org/wiki/APT_(programming_language)', 'https://en.wikipedia.org/wiki/Arc_(programming_language)', 'https://en.wikipedia.org/wiki/ArkTS', 'https://en.wikipedia.org/wiki/ARexx', 'https://en.wikipedia.org/wiki/Argus_(programming_language)', 'https://en.wikipedia.org/wiki/Assembly_language', 'https://en.wikipedia.org/wiki/AssemblyScript', 'https://en.wikipedia.org/wiki/ATS_(programming_language)', 'https://en.wikipedia.org/wiki/AutoHotkey', 'https://en.wikipedia.org/wiki/AutoIt', 'https://en.wikipedia.org/wiki/AutoLISP', 'https://en.wikipedia.org/wiki/Averest', 'https://en.wikipedia.org/wiki/AWK', 'https://en.wikipedia.org/wiki/Axum_(programming_language)', 'https://en.wikipedia.org/wiki/B_(programming_language)', 'https://en.wikipedia.org/wiki/Babbage_(programming_language)', 'https://en.wikipedia.org/wiki/Ballerina_(programming_language)', 'https://en.wikipedia.org/wiki/Bash_(Unix_shell)', 'https://en.wikipedia.org/wiki/BASIC', 'https://en.wikipedia.org/wiki/Batch_file', 'https://en.wikipedia.org/wiki/Bc_(programming_language)', 'https://en.wikipedia.org/wiki/BCPL', 'https://en.wikipedia.org/wiki/BeanShell', 'https://en.wikipedia.org/wiki/BETA_(programming_language)', 'https://en.wikipedia.org/wiki/BLISS', 'https://en.wikipedia.org/wiki/Blockly', 'https://en.wikipedia.org/wiki/BlooP_and_FlooP', 'https://en.wikipedia.org/wiki/Boo_(programming_language)', 'https://en.wikipedia.org/wiki/Boomerang_(programming_language)', 'https://en.wikipedia.org/wiki/Bosque_(programming_language)', 'https://en.wikipedia.org/wiki/C_(programming_language)', 'https://en.wikipedia.org/wiki/C--', 'https://en.wikipedia.org/wiki/C%2B%2B', 'https://en.wikipedia.org/wiki/C*', 'https://en.wikipedia.org/wiki/C_Sharp_(programming_language)', 'https://en.wikipedia.org/wiki/C/AL', 'https://en.wikipedia.org/wiki/Cach%C3%A9_ObjectScript', 'https://en.wikipedia.org/wiki/C_Shell', 'https://en.wikipedia.org/wiki/Caml', 'https://en.wikipedia.org/wiki/Carbon_(programming_language)', 'https://en.wikipedia.org/wiki/Catrobat', 'https://en.wikipedia.org/wiki/Cayenne_(programming_language)', 'https://en.wikipedia.org/wiki/Cecil_(programming_language)', 'https://en.wikipedia.org/wiki/CESIL', 'https://en.wikipedia.org/wiki/C%C3%A9u_(programming_language)', 'https://en.wikipedia.org/wiki/Ceylon_(programming_language)', 'https://en.wikipedia.org/wiki/CFEngine', 'https://en.wikipedia.org/wiki/Cg_(programming_language)', 'https://en.wikipedia.org/wiki/Ch_(computer_programming)', 'https://en.wikipedia.org/wiki/Chapel_(programming_language)', 'https://en.wikipedia.org/wiki/Charm_(language)', 'https://en.wikipedia.org/wiki/CHILL', 'https://en.wikipedia.org/wiki/CHIP-8', 'https://en.wikipedia.org/wiki/ChucK', 'https://en.wikipedia.org/wiki/Cilk', 'https://en.wikipedia.org/wiki/Claire_(programming_language)', 'https://en.wikipedia.org/wiki/Clarion_(programming_language)', 'https://en.wikipedia.org/wiki/Clean_(programming_language)', 'https://en.wikipedia.org/wiki/Clipper_(programming_language)', 'https://en.wikipedia.org/wiki/CLIPS_(programming_language)', 'https://en.wikipedia.org/wiki/CLIST', 'https://en.wikipedia.org/wiki/Clojure', 'https://en.wikipedia.org/wiki/CLU_(programming_language)', 'https://en.wikipedia.org/wiki/CMS-2_(programming_language)', 'https://en.wikipedia.org/wiki/COBOL', 'https://en.wikipedia.org/wiki/CobolScript', 'https://en.wikipedia.org/wiki/Cobra_(programming_language)', 'https://en.wikipedia.org/wiki/CoffeeScript', 'https://en.wikipedia.org/wiki/ColdFusion', 'https://en.wikipedia.org/wiki/COMAL', 'https://en.wikipedia.org/wiki/COMIT', 'https://en.wikipedia.org/wiki/Common_Intermediate_Language', 'https://en.wikipedia.org/wiki/Common_Lisp', 'https://en.wikipedia.org/wiki/COMPASS', 'https://en.wikipedia.org/wiki/Component_Pascal', 'https://en.wikipedia.org/wiki/COMTRAN', 'https://en.wikipedia.org/wiki/Concurrent_Pascal', 'https://en.wikipedia.org/wiki/Constraint_Handling_Rules', 'https://en.wikipedia.org/wiki/Control_Language', 'https://en.wikipedia.org/wiki/Rocq_(software)', 'https://en.wikipedia.org/wiki/CORAL', 'https://en.wikipedia.org/wiki/CorVision', 'https://en.wikipedia.org/wiki/COWSEL', 'https://en.wikipedia.org/wiki/CPL_(programming_language)', 'https://en.wikipedia.org/wiki/Cryptol', 'https://en.wikipedia.org/wiki/Crystal_(programming_language)', 'https://en.wikipedia.org/wiki/Csound', 'https://en.wikipedia.org/wiki/Cuneiform_(programming_language)', 'https://en.wikipedia.org/wiki/Curl_(programming_language)', 'https://en.wikipedia.org/wiki/Curry_(programming_language)', 'https://en.wikipedia.org/wiki/Cybil_(programming_language)', 'https://en.wikipedia.org/wiki/Cyclone_(programming_language)', 'https://en.wikipedia.org/wiki/Cypher_Query_Language', 'https://en.wikipedia.org/wiki/Cython', 'https://en.wikipedia.org/wiki/CEEMAC', 'https://en.wikipedia.org/wiki/D_(programming_language)', 'https://en.wikipedia.org/wiki/Dart_(programming_language)', 'https://en.wikipedia.org/wiki/Darwin_(programming_language)', 'https://en.wikipedia.org/wiki/DataFlex', 'https://en.wikipedia.org/wiki/Datalog', 'https://en.wikipedia.org/wiki/DATATRIEVE', 'https://en.wikipedia.org/wiki/DBase', 'https://en.wikipedia.org/wiki/Dc_(computer_program)', 'https://en.wikipedia.org/wiki/DIGITAL_Command_Language', 'https://en.wikipedia.org/wiki/Delphi_(software)', 'https://en.wikipedia.org/wiki/DIBOL', 'https://en.wikipedia.org/wiki/Dink_Smallwood#Modification', 'https://en.wikipedia.org/wiki/Dog_(programming_language)', 'https://en.wikipedia.org/wiki/Draco_(programming_language)', 'https://en.wikipedia.org/wiki/DRAKON', 'https://en.wikipedia.org/wiki/Dylan_(programming_language)', 'https://en.wikipedia.org/wiki/DYNAMO_(programming_language)', 'https://en.wikipedia.org/wiki/Data_analysis_expressions', 'https://en.wikipedia.org/wiki/E_(programming_language)', 'https://en.wikipedia.org/wiki/Ease_(programming_language)', 'https://en.wikipedia.org/wiki/PL/I', 'https://en.wikipedia.org/wiki/Easytrieve', 'https://en.wikipedia.org/wiki/ECMAScript', 'https://en.wikipedia.org/wiki/Edinburgh_IMP', 'https://en.wikipedia.org/wiki/EGL_(programming_language)', 'https://en.wikipedia.org/wiki/Eiffel_(programming_language)', 'https://en.wikipedia.org/wiki/ELAN_(programming_language)', 'https://en.wikipedia.org/wiki/Elixir_(programming_language)', 'https://en.wikipedia.org/wiki/Elm_(programming_language)', 'https://en.wikipedia.org/wiki/Emacs_Lisp', 'https://en.wikipedia.org/wiki/Emerald_(programming_language)', 'https://en.wikipedia.org/wiki/Epigram_(programming_language)', 'https://en.wikipedia.org/wiki/Easy_Programming_Language', 'https://en.wikipedia.org/wiki/Erlang_(programming_language)', 'https://en.wikipedia.org/wiki/Es_(Unix_shell)', 'https://en.wikipedia.org/wiki/Escher_(programming_language)', 'https://en.wikipedia.org/wiki/Executive_Systems_Problem_Oriented_Language', 'https://en.wikipedia.org/wiki/Esterel', 'https://en.wikipedia.org/wiki/Etoys_(programming_language)', 'https://en.wikipedia.org/wiki/Euclid_(programming_language)', 'https://en.wikipedia.org/wiki/Euler_(programming_language)', 'https://en.wikipedia.org/wiki/Euphoria_(programming_language)', 'https://en.wikipedia.org/wiki/EusLisp_Robot_Programming_Language', 'https://en.wikipedia.org/wiki/CMS_EXEC', 'https://en.wikipedia.org/wiki/EXEC_2', 'https://en.wikipedia.org/wiki/Executable_UML', 'https://en.wikipedia.org/wiki/Ezhil_(programming_language)', 'https://en.wikipedia.org/wiki/F_(programming_language)', 'https://en.wikipedia.org/wiki/F_Sharp_(programming_language)', 'https://en.wikipedia.org/wiki/F*_(programming_language)', 'https://en.wikipedia.org/wiki/Factor_(programming_language)', 'https://en.wikipedia.org/wiki/Fantom_(programming_language)', 'https://en.wikipedia.org/wiki/FAUST_(programming_language)', 'https://en.wikipedia.org/wiki/FFP_(programming_language)', 'https://en.wikipedia.org/wiki/Friendly_interactive_shell', 'https://en.wikipedia.org/wiki/Fj%C3%B6lnir_(programming_language)', 'https://en.wikipedia.org/wiki/FL_(programming_language)', 'https://en.wikipedia.org/wiki/Flavors_(programming_language)', 'https://en.wikipedia.org/wiki/Flex_(language)', 'https://en.wikipedia.org/wiki/Flix_(programming_language)', 'https://en.wikipedia.org/wiki/BlooP_and_FlooP', 'https://en.wikipedia.org/wiki/FLOW-MATIC', 'https://en.wikipedia.org/wiki/FOCAL_(programming_language)', 'https://en.wikipedia.org/wiki/FOCUS', 'https://en.wikipedia.org/wiki/FOIL_(programming_language)', 'https://en.wikipedia.org/wiki/FORMAC', 'https://en.wikipedia.org/wiki/Formula_language', 'https://en.wikipedia.org/wiki/Forth_(programming_language)', 'https://en.wikipedia.org/wiki/Fortran', 'https://en.wikipedia.org/wiki/Fortress_(programming_language)', 'https://en.wikipedia.org/wiki/FP_(programming_language)', 'https://en.wikipedia.org/wiki/FoxPro_(programming_language)', 'https://en.wikipedia.org/wiki/Franz_Lisp', 'https://en.wikipedia.org/wiki/Futhark_(programming_language)', 'https://en.wikipedia.org/wiki/Game_Maker_Language', 'https://en.wikipedia.org/wiki/GameMonkey_Script', 'https://en.wikipedia.org/wiki/General_Algebraic_Modeling_System', 'https://en.wikipedia.org/wiki/GAP_computer_algebra_system', 'https://en.wikipedia.org/wiki/G-code', 'https://en.wikipedia.org/wiki/Godot_(game_engine)', 'https://en.wikipedia.org/wiki/Geometric_Description_Language', 'https://en.wikipedia.org/wiki/GEORGE_(programming_language)', 'https://en.wikipedia.org/wiki/Gleam_(programming_language)', 'https://en.wikipedia.org/wiki/OpenGL_Shading_Language', 'https://en.wikipedia.org/wiki/GNU_E', 'https://en.wikipedia.org/wiki/GNU_Guile', 'https://en.wikipedia.org/wiki/GNU_Octave', 'https://en.wikipedia.org/wiki/Go_(programming_language)', 'https://en.wikipedia.org/wiki/Go!_(programming_language)', 'https://en.wikipedia.org/wiki/Game_Oriented_Assembly_Lisp', 'https://en.wikipedia.org/wiki/G%C3%B6del_(programming_language)', 'https://en.wikipedia.org/wiki/Golo_(programming_language)', 'https://en.wikipedia.org/wiki/MAD_(programming_language)', 'https://en.wikipedia.org/wiki/Google_Apps_Script', 'https://en.wikipedia.org/wiki/Gosu_(programming_language)', 'https://en.wikipedia.org/wiki/IBM_1620#GOTRAN', 'https://en.wikipedia.org/wiki/GPSS', 'https://en.wikipedia.org/wiki/Computer_Sciences_Corporation', 'https://en.wikipedia.org/wiki/GRASS_(programming_language)', 'https://en.wikipedia.org/wiki/Grasshopper_3D', 'https://en.wikipedia.org/wiki/Apache_Groovy', 'https://en.wikipedia.org/wiki/Hack_(programming_language)', 'https://en.wikipedia.org/wiki/HAGGIS', 'https://en.wikipedia.org/wiki/HAL/S', 'https://en.wikipedia.org/wiki/Halide_(programming_language)', 'https://en.wikipedia.org/wiki/Hamilton_C_shell', 'https://en.wikipedia.org/wiki/Harbour_(software)', 'https://en.wikipedia.org/wiki/Hartmann_pipeline', 'https://en.wikipedia.org/wiki/Haskell', 'https://en.wikipedia.org/wiki/Haxe', 'https://en.wikipedia.org/wiki/Hermes_(programming_language)', 'https://en.wikipedia.org/wiki/High_Level_Assembly', 'https://en.wikipedia.org/wiki/High_Level_Shader_Language', 'https://en.wikipedia.org/wiki/Hollywood_(programming_language)', 'https://en.wikipedia.org/wiki/TempleOS', 'https://en.wikipedia.org/wiki/Hop_(software)', 'https://en.wikipedia.org/wiki/Hopscotch_(programming_language)', 'https://en.wikipedia.org/wiki/Hope_(programming_language)', 'https://en.wikipedia.org/wiki/Hume_(programming_language)', 'https://en.wikipedia.org/wiki/HyperTalk', 'https://en.wikipedia.org/wiki/Hy_(programming_language)', 'https://en.wikipedia.org/wiki/Io_(programming_language)', 'https://en.wikipedia.org/wiki/Icon_(programming_language)', 'https://en.wikipedia.org/wiki/IBM_Basic_assembly_language', 'https://en.wikipedia.org/wiki/IBM_Informix-4GL', 'https://en.wikipedia.org/wiki/IBM_RPG', 'https://en.wikipedia.org/wiki/IDL_(programming_language)', 'https://en.wikipedia.org/wiki/Idris_(programming_language)', 'https://en.wikipedia.org/wiki/Inform_(programming_language)', 'https://en.wikipedia.org/wiki/Instruction_List', 'https://en.wikipedia.org/wiki/ISLISP', 'https://en.wikipedia.org/wiki/J_(programming_language)', 'https://en.wikipedia.org/wiki/J_Sharp', 'https://en.wikipedia.org/wiki/Visual_J%2B%2B', 'https://en.wikipedia.org/wiki/JADE_(programming_language)', 'https://en.wikipedia.org/wiki/Jai_(programming_language)', 'https://en.wikipedia.org/wiki/JAL_(compiler)', 'https://en.wikipedia.org/wiki/Janus_(concurrent_constraint_programming_language)', 'https://en.wikipedia.org/wiki/Janus_(time-reversible_computing_programming_language)', 'https://en.wikipedia.org/wiki/JASS_(scripting_language)', 'https://en.wikipedia.org/wiki/Java_(programming_language)', 'https://en.wikipedia.org/wiki/JavaFX_Script', 'https://en.wikipedia.org/wiki/JavaScript', 'https://en.wikipedia.org/wiki/Jess_(programming_language)', 'https://en.wikipedia.org/wiki/Job_Control_Language', 'https://en.wikipedia.org/wiki/JEAN', 'https://en.wikipedia.org/wiki/Join_Java', 'https://en.wikipedia.org/wiki/JOSS', 'https://en.wikipedia.org/wiki/Joule_(programming_language)', 'https://en.wikipedia.org/wiki/JOVIAL', 'https://en.wikipedia.org/wiki/Joy_(programming_language)', 'https://en.wikipedia.org/wiki/Jq_(programming_language)', 'https://en.wikipedia.org/wiki/JScript', 'https://en.wikipedia.org/wiki/JScript_.NET', 'https://en.wikipedia.org/wiki/Julia_(programming_language)', 'https://en.wikipedia.org/wiki/Jython', 'https://en.wikipedia.org/wiki/K_(programming_language)', 'https://en.wikipedia.org/wiki/Kaleidoscope_(programming_language)', 'https://en.wikipedia.org/wiki/Karel_(programming_language)', 'https://en.wikipedia.org/wiki/IntelliCorp_(Software)', 'https://en.wikipedia.org/wiki/KiXtart', 'https://en.wikipedia.org/wiki/Klerer-May_System', 'https://en.wikipedia.org/wiki/Knowledge_Interchange_Format', 'https://en.wikipedia.org/wiki/Kojo_(programming_language)', 'https://en.wikipedia.org/wiki/Kotlin_(programming_language)', 'https://en.wikipedia.org/wiki/Kent_Recursive_Calculator', 'https://en.wikipedia.org/wiki/KRL_(programming_language)', 'https://en.wikipedia.org/wiki/KUKA_Robot_Language', 'https://en.wikipedia.org/wiki/KRYPTON', 'https://en.wikipedia.org/wiki/KornShell', 'https://en.wikipedia.org/wiki/Kodu_Game_Lab', 'https://en.wikipedia.org/wiki/Kivy_(framework)#Kv_language', 'https://en.wikipedia.org/wiki/LabVIEW', 'https://en.wikipedia.org/wiki/Ladder_logic', 'https://en.wikipedia.org/wiki/LANSA_(development_environment)', 'https://en.wikipedia.org/wiki/Lasso_(programming_language)', 'https://en.wikipedia.org/wiki/Little_Computer_3', 'https://en.wikipedia.org/wiki/Lean_(proof_assistant)', 'https://en.wikipedia.org/wiki/Legoscript', 'https://en.wikipedia.org/wiki/Little_Implementation_Language', 'https://en.wikipedia.org/wiki/LilyPond', 'https://en.wikipedia.org/wiki/Limbo_(programming_language)', 'https://en.wikipedia.org/wiki/LINC_4GL', 'https://en.wikipedia.org/wiki/Lingo_(programming_language)', 'https://en.wikipedia.org/wiki/LINQ', 'https://en.wikipedia.org/wiki/LIS_(programming_language)', 'https://en.wikipedia.org/wiki/Language_for_Instruction_Set_Architecture', 'https://en.wikipedia.org/wiki/Language_H', 'https://en.wikipedia.org/wiki/Lisp_(programming_language)', 'https://en.wikipedia.org/wiki/Lithe_(programming_language)', 'https://en.wikipedia.org/wiki/Little_b_(programming_language)', 'https://en.wikipedia.org/wiki/Ethereum#Contract_source_code', 'https://en.wikipedia.org/wiki/Logo_(programming_language)', 'https://en.wikipedia.org/wiki/Logtalk', 'https://en.wikipedia.org/wiki/LotusScript', 'https://en.wikipedia.org/wiki/LPC_(programming_language)', 'https://en.wikipedia.org/wiki/LSE_(programming_language)', 'https://en.wikipedia.org/wiki/Linden_Scripting_Language', 'https://en.wikipedia.org/wiki/LiveCode', 'https://en.wikipedia.org/wiki/LiveScript_(programming_language)', 'https://en.wikipedia.org/wiki/Lua_(programming_language)', 'https://en.wikipedia.org/wiki/Lucid_(programming_language)', 'https://en.wikipedia.org/wiki/Lustre_(programming_language)', 'https://en.wikipedia.org/wiki/LYaPAS', 'https://en.wikipedia.org/wiki/Lynx_(programming_language)', 'https://en.wikipedia.org/wiki/M_Formula_language', 'https://en.wikipedia.org/wiki/M4_(computer_language)', 'https://en.wikipedia.org/wiki/Machine_code', 'https://en.wikipedia.org/wiki/MAD_(programming_language)', 'https://en.wikipedia.org/wiki/MAD_(programming_language)', 'https://en.wikipedia.org/wiki/Magik_(programming_language)', 'https://en.wikipedia.org/wiki/Magma_computer_algebra_system', 'https://en.wikipedia.org/wiki/Maple_(software)', 'https://en.wikipedia.org/wiki/MAPPER', 'https://en.wikipedia.org/wiki/MARK_IV_(software)', 'https://en.wikipedia.org/wiki/Mary_(programming_language)', 'https://en.wikipedia.org/wiki/MATLAB', 'https://en.wikipedia.org/wiki/Microsoft_Macro_Assembler', 'https://en.wikipedia.org/wiki/MATH-MATIC', 'https://en.wikipedia.org/wiki/Maude_system', 'https://en.wikipedia.org/wiki/Maxima_(software)', 'https://en.wikipedia.org/wiki/Macsyma', 'https://en.wikipedia.org/wiki/Max_(software)', 'https://en.wikipedia.org/wiki/Autodesk_3ds_Max', 'https://en.wikipedia.org/wiki/Maya_Embedded_Language', 'https://en.wikipedia.org/wiki/MDL_(programming_language)', 'https://en.wikipedia.org/wiki/Mercury_(programming_language)', 'https://en.wikipedia.org/wiki/Mesa_(programming_language)', 'https://en.wikipedia.org/wiki/MHEG-5', 'https://en.wikipedia.org/wiki/Microassembler', 'https://en.wikipedia.org/wiki/Microsoft_Power_Fx', 'https://en.wikipedia.org/wiki/MIIS_(programming_language)', 'https://en.wikipedia.org/wiki/MIMIC', 'https://en.wikipedia.org/wiki/Mirah_(programming_language)', 'https://en.wikipedia.org/wiki/Miranda_(programming_language)', 'https://en.wikipedia.org/wiki/MIVA_Script', 'https://en.wikipedia.org/wiki/ML_(programming_language)', 'https://en.wikipedia.org/wiki/Model_204', 'https://en.wikipedia.org/wiki/Modelica', 'https://en.wikipedia.org/wiki/Modula', 'https://en.wikipedia.org/wiki/Modula-2', 'https://en.wikipedia.org/wiki/Modula-3', 'https://en.wikipedia.org/wiki/Mohol_programming_languages', 'https://en.wikipedia.org/wiki/Mojo_(programming_language)', 'https://en.wikipedia.org/wiki/MOO_(programming_language)', 'https://en.wikipedia.org/wiki/Mortran', 'https://en.wikipedia.org/wiki/Mouse_(programming_language)', 'https://en.wikipedia.org/wiki/MPD_(programming_language)', 'https://en.wikipedia.org/wiki/MIRC_scripting_language', 'https://en.wikipedia.org/wiki/MUMPS', 'https://en.wikipedia.org/wiki/MuPAD', 'https://en.wikipedia.org/wiki/Ethereum#Programming_languages', 'https://en.wikipedia.org/wiki/Mystic_BBS', 'https://en.wikipedia.org/wiki/Netwide_Assembler', 'https://en.wikipedia.org/wiki/Napier88', 'https://en.wikipedia.org/wiki/Neko_(programming_language)', 'https://en.wikipedia.org/wiki/Nemerle', 'https://en.wikipedia.org/wiki/NESL', 'https://en.wikipedia.org/wiki/Net.Data', 'https://en.wikipedia.org/wiki/NetLogo', 'https://en.wikipedia.org/wiki/NetRexx', 'https://en.wikipedia.org/wiki/NewLISP', 'https://en.wikipedia.org/wiki/NEWP', 'https://en.wikipedia.org/wiki/Newspeak_(programming_language)', 'https://en.wikipedia.org/wiki/NewtonScript', 'https://en.wikipedia.org/wiki/Nial', 'https://en.wikipedia.org/wiki/Nickle_(programming_language)', 'https://en.wikipedia.org/wiki/Nickle_(programming_language)', 'https://en.wikipedia.org/wiki/Nim_(programming_language)', 'https://en.wikipedia.org/wiki/Nix_package_manager', 'https://en.wikipedia.org/wiki/NORD_Programming_Language', 'https://en.wikipedia.org/wiki/Not_eXactly_C', 'https://en.wikipedia.org/wiki/Not_Quite_C', 'https://en.wikipedia.org/wiki/Nullsoft_Scriptable_Install_System', 'https://en.wikipedia.org/wiki/Nu_(programming_language)', 'https://en.wikipedia.org/wiki/NWScript', 'https://en.wikipedia.org/wiki/NXT-G', 'https://en.wikipedia.org/wiki/O:XML', 'https://en.wikipedia.org/wiki/Oak_(programming_language)', 'https://en.wikipedia.org/wiki/Oberon_(programming_language)', 'https://en.wikipedia.org/wiki/OBJ2', 'https://en.wikipedia.org/wiki/Object_Lisp', 'https://en.wikipedia.org/wiki/ObjectLOGO', 'https://en.wikipedia.org/wiki/Object_REXX', 'https://en.wikipedia.org/wiki/Object_Pascal', 'https://en.wikipedia.org/wiki/Objective-C', 'https://en.wikipedia.org/wiki/Obliq', 'https://en.wikipedia.org/wiki/OCaml', 'https://en.wikipedia.org/wiki/Occam_(programming_language)', 'https://en.wikipedia.org/wiki/Occam-%CF%80', 'https://en.wikipedia.org/wiki/GNU_Octave', 'https://en.wikipedia.org/wiki/OmniMark', 'https://en.wikipedia.org/wiki/Opa_(programming_language)', 'https://en.wikipedia.org/wiki/Opal_(programming_language)', 'https://en.wikipedia.org/wiki/Open_Programming_Language', 'https://en.wikipedia.org/wiki/OpenCL', 'https://en.wikipedia.org/wiki/OpenEdge_Advanced_Business_Language', 'https://en.wikipedia.org/wiki/OpenQASM', 'https://en.wikipedia.org/wiki/OPS5', 'https://en.wikipedia.org/wiki/OptimJ', 'https://en.wikipedia.org/wiki/Orc_(programming_language)', 'https://en.wikipedia.org/wiki/ORCA/Modula-2', 'https://en.wikipedia.org/wiki/Oriel_(scripting_language)', 'https://en.wikipedia.org/wiki/Orwell_(programming_language)', 'https://en.wikipedia.org/wiki/Oxygene_(programming_language)', 'https://en.wikipedia.org/wiki/Oz_(programming_language)', 'https://en.wikipedia.org/wiki/P_(programming_language)', 'https://en.wikipedia.org/wiki/P4_(programming_language)', 'https://en.wikipedia.org/wiki/P%E2%80%B2%E2%80%B2', 'https://en.wikipedia.org/wiki/ParaSail_(programming_language)', 'https://en.wikipedia.org/wiki/PARI/GP', 'https://en.wikipedia.org/wiki/Pascal_(programming_language)', 'https://en.wikipedia.org/wiki/Pascal_Script', 'https://en.wikipedia.org/wiki/PCASTL', 'https://en.wikipedia.org/wiki/Programming_language_for_Computable_Functions', 'https://en.wikipedia.org/wiki/PEARL_(programming_language)', 'https://en.wikipedia.org/wiki/PeopleCode', 'https://en.wikipedia.org/wiki/Perl', 'https://en.wikipedia.org/wiki/Perl_Data_Language', 'https://en.wikipedia.org/wiki/Pharo', 'https://en.wikipedia.org/wiki/PHP', 'https://en.wikipedia.org/wiki/Pico_(programming_language)', 'https://en.wikipedia.org/wiki/Picolisp', 'https://en.wikipedia.org/wiki/Pict_(programming_language)', 'https://en.wikipedia.org/wiki/Pike_(programming_language)', 'https://en.wikipedia.org/wiki/PILOT', 'https://en.wikipedia.org/wiki/Hartmann_pipeline', 'https://en.wikipedia.org/wiki/Pizza_(programming_language)', 'https://en.wikipedia.org/wiki/PL-11', 'https://en.wikipedia.org/wiki/PL/0', 'https://en.wikipedia.org/wiki/Programming_Language_for_Business', 'https://en.wikipedia.org/wiki/PL/C', 'https://en.wikipedia.org/wiki/PL/I', 'https://en.wikipedia.org/wiki/PL/M', 'https://en.wikipedia.org/wiki/PL/P', 'https://en.wikipedia.org/wiki/PL/S', 'https://en.wikipedia.org/wiki/PL/SQL', 'https://en.wikipedia.org/wiki/PL360', 'https://en.wikipedia.org/wiki/PLANC', 'https://en.wikipedia.org/wiki/Plankalk%C3%BCl', 'https://en.wikipedia.org/wiki/Planner_(programming_language)', 'https://en.wikipedia.org/wiki/PLEX_(programming_language)', 'https://en.wikipedia.org/wiki/PLEXIL', 'https://en.wikipedia.org/wiki/Plus_(programming_language)', 'https://en.wikipedia.org/wiki/Pony_(programming_language)', 'https://en.wikipedia.org/wiki/POP-11', 'https://en.wikipedia.org/wiki/POP-2', 'https://en.wikipedia.org/wiki/PostScript', 'https://en.wikipedia.org/wiki/Amiga_E#PortablE', 'https://en.wikipedia.org/wiki/POV-Ray', 'https://en.wikipedia.org/wiki/Powerhouse_(programming_language)', 'https://en.wikipedia.org/wiki/PowerBuilder', 'https://en.wikipedia.org/wiki/PowerShell', 'https://en.wikipedia.org/wiki/Polymorphic_Programming_Language', 'https://en.wikipedia.org/wiki/Processing_(programming_language)', 'https://en.wikipedia.org/wiki/Processing.js', 'https://en.wikipedia.org/wiki/Prograph', 'https://en.wikipedia.org/wiki/Project_Verona', 'https://en.wikipedia.org/wiki/Prolog', 'https://en.wikipedia.org/wiki/PROMAL', 'https://en.wikipedia.org/wiki/Promela', 'https://en.wikipedia.org/wiki/PROSE_modeling_language', 'https://en.wikipedia.org/wiki/Protel', 'https://en.wikipedia.org/wiki/Pro*C', 'https://en.wikipedia.org/wiki/Pure_(programming_language)', 'https://en.wikipedia.org/wiki/Pure_Data', 'https://en.wikipedia.org/wiki/PureScript', 'https://en.wikipedia.org/wiki/PWCT', 'https://en.wikipedia.org/wiki/Python_(programming_language)', 'https://en.wikipedia.org/wiki/Q_(programming_language_from_Kx_Systems)', 'https://en.wikipedia.org/wiki/Q_Sharp', 'https://en.wikipedia.org/wiki/Qalb_(programming_language)', 'https://en.wikipedia.org/wiki/Quantum_Computation_Language', 'https://en.wikipedia.org/wiki/QtScript', 'https://en.wikipedia.org/wiki/QuakeC', 'https://en.wikipedia.org/wiki/Quantum_programming', 'https://en.wikipedia.org/wiki/.QL', 'https://en.wikipedia.org/wiki/R_(programming_language)', 'https://en.wikipedia.org/wiki/R%2B%2B', 'https://en.wikipedia.org/wiki/Racket_(programming_language)', 'https://en.wikipedia.org/wiki/Raku_(programming_language)', 'https://en.wikipedia.org/wiki/RAPID', 'https://en.wikipedia.org/wiki/Rapira', 'https://en.wikipedia.org/wiki/Ratfiv', 'https://en.wikipedia.org/wiki/Ratfor', 'https://en.wikipedia.org/wiki/Rc_(Unix_shell)', 'https://en.wikipedia.org/wiki/Reason_(programming_language)', 'https://en.wikipedia.org/wiki/REBOL', 'https://en.wikipedia.org/wiki/Red_(programming_language)', 'https://en.wikipedia.org/wiki/Core_War', 'https://en.wikipedia.org/wiki/REFAL', 'https://en.wikipedia.org/wiki/REXX', 'https://en.wikipedia.org/wiki/Ring_(programming_language)', 'https://en.wikipedia.org/wiki/Rocq_(software)', 'https://en.wikipedia.org/wiki/ROOP_(programming_language)', 'https://en.wikipedia.org/wiki/IBM_RPG', 'https://en.wikipedia.org/wiki/RPL_(programming_language)', 'https://en.wikipedia.org/wiki/Robot_Battle#Robot_scripting_language', 'https://en.wikipedia.org/wiki/RTL/2', 'https://en.wikipedia.org/wiki/Ruby_(programming_language)', 'https://en.wikipedia.org/wiki/Rust_(programming_language)', 'https://en.wikipedia.org/wiki/S_(programming_language)', 'https://en.wikipedia.org/wiki/S2_(programming_language)', 'https://en.wikipedia.org/wiki/S3_(programming_language)', 'https://en.wikipedia.org/wiki/S-Lang', 'https://en.wikipedia.org/wiki/S-PLUS', 'https://en.wikipedia.org/wiki/SA-C_(programming_language)', 'https://en.wikipedia.org/wiki/SabreTalk', 'https://en.wikipedia.org/wiki/SAIL_(programming_language)', 'https://en.wikipedia.org/wiki/SAKO_(programming_language)', 'https://en.wikipedia.org/wiki/SAS_(software)', 'https://en.wikipedia.org/wiki/SASL_(programming_language)', 'https://en.wikipedia.org/wiki/Sather', 'https://en.wikipedia.org/wiki/Sawzall_(programming_language)', 'https://en.wikipedia.org/wiki/Scala_(programming_language)', 'https://en.wikipedia.org/wiki/Scheme_(programming_language)', 'https://en.wikipedia.org/wiki/Scilab', 'https://en.wikipedia.org/wiki/Scratch_(programming_language)', 'https://en.wikipedia.org/wiki/ScratchJr', 'https://en.wikipedia.org/wiki/Script.NET', 'https://en.wikipedia.org/wiki/Sed', 'https://en.wikipedia.org/wiki/Seed7', 'https://en.wikipedia.org/wiki/Self_(programming_language)', 'https://en.wikipedia.org/wiki/SenseTalk', 'https://en.wikipedia.org/wiki/SequenceL', 'https://en.wikipedia.org/wiki/Ethereum#Programming_languages', 'https://en.wikipedia.org/wiki/SETL', 'https://en.wikipedia.org/wiki/Short_Code_(computer_language)', 'https://en.wikipedia.org/wiki/Superbase_database#History', 'https://en.wikipedia.org/wiki/SIGNAL_(programming_language)', 'https://en.wikipedia.org/wiki/SiMPLE', 'https://en.wikipedia.org/wiki/SIMSCRIPT', 'https://en.wikipedia.org/wiki/Simula', 'https://en.wikipedia.org/wiki/Simulink', 'https://en.wikipedia.org/wiki/SISAL', 'https://en.wikipedia.org/wiki/SKILL', 'https://en.wikipedia.org/wiki/SLIP_(programming_language)', 'https://en.wikipedia.org/wiki/SMALL', 'https://en.wikipedia.org/wiki/Smalltalk', 'https://en.wikipedia.org/wiki/Standard_ML', 'https://en.wikipedia.org/wiki/Strongtalk', 'https://en.wikipedia.org/wiki/Snap!_(programming_language)', 'https://en.wikipedia.org/wiki/SNOBOL', 'https://en.wikipedia.org/wiki/SPITBOL_compiler', 'https://en.wikipedia.org/wiki/Snowball_programming_language', 'https://en.wikipedia.org/wiki/Secure_Operations_Language', 'https://en.wikipedia.org/wiki/Solidity', 'https://en.wikipedia.org/wiki/SOPHAEROS', 'https://en.wikipedia.org/wiki/Source_(programming_language)', 'https://en.wikipedia.org/wiki/SPARK_(programming_language)', 'https://en.wikipedia.org/wiki/Speakeasy_(computational_environment)', 'https://en.wikipedia.org/wiki/Speedcoding', 'https://en.wikipedia.org/wiki/Parallax_Propeller', 'https://en.wikipedia.org/wiki/SP/k', 'https://en.wikipedia.org/wiki/Systems_Programming_Language', 'https://en.wikipedia.org/wiki/IBM_1401_Symbolic_Programming_System', 'https://en.wikipedia.org/wiki/SQL', 'https://en.wikipedia.org/wiki/SQR', 'https://en.wikipedia.org/wiki/Squeak', 'https://en.wikipedia.org/wiki/Squirrel_(programming_language)', 'https://en.wikipedia.org/wiki/SR_(programming_language)', 'https://en.wikipedia.org/wiki/S/SL_programming_language', 'https://en.wikipedia.org/wiki/Starlogo', 'https://en.wikipedia.org/wiki/Strand_(programming_language)', 'https://en.wikipedia.org/wiki/Structured_Text', 'https://en.wikipedia.org/wiki/Stata', 'https://en.wikipedia.org/wiki/Stateflow', 'https://en.wikipedia.org/wiki/Subtext_(programming_language)', 'https://en.wikipedia.org/wiki/Superbase_database', 'https://en.wikipedia.org/wiki/SuperCollider', 'https://en.wikipedia.org/wiki/Superplan', 'https://en.wikipedia.org/wiki/SuperTalk', 'https://en.wikipedia.org/wiki/Swift_(programming_language)', 'https://en.wikipedia.org/wiki/Swift_(parallel_scripting_language)', 'https://en.wikipedia.org/wiki/SYCL', 'https://en.wikipedia.org/wiki/SYMPL', 'https://en.wikipedia.org/wiki/T_(programming_language)', 'https://en.wikipedia.org/wiki/TACL_(programming_language)', 'https://en.wikipedia.org/wiki/TADS', 'https://en.wikipedia.org/wiki/Transaction_Application_Language', 'https://en.wikipedia.org/wiki/Tcl', 'https://en.wikipedia.org/wiki/Tea_(programming_language)', 'https://en.wikipedia.org/wiki/Text_Editor_and_Corrector', 'https://en.wikipedia.org/wiki/TELCOMP', 'https://en.wikipedia.org/wiki/TeX', 'https://en.wikipedia.org/wiki/Tensilica_Instruction_Extension', 'https://en.wikipedia.org/wiki/TMG_(language)', 'https://en.wikipedia.org/wiki/Tom_(pattern_matching_language)', 'https://en.wikipedia.org/wiki/Toi_(programming_language)', 'https://en.wikipedia.org/wiki/Clarion_(programming_language)', 'https://en.wikipedia.org/wiki/Text_Processing_Utility', 'https://en.wikipedia.org/wiki/TRAC_(programming_language)', 'https://en.wikipedia.org/wiki/TTM_(programming_language)', 'https://en.wikipedia.org/wiki/Transact-SQL', 'https://en.wikipedia.org/wiki/Transcript_(programming_language)', 'https://en.wikipedia.org/wiki/TTCN', 'https://en.wikipedia.org/wiki/Turing_(programming_language)', 'https://en.wikipedia.org/wiki/TUTOR', 'https://en.wikipedia.org/wiki/TXL_(programming_language)', 'https://en.wikipedia.org/wiki/TypeScript', 'https://en.wikipedia.org/wiki/Tynker', 'https://en.wikipedia.org/wiki/Ubercode', 'https://en.wikipedia.org/wiki/UCSD_Pascal', 'https://en.wikipedia.org/wiki/Umple', 'https://en.wikipedia.org/wiki/Unicon_(programming_language)', 'https://en.wikipedia.org/wiki/Uniface_(programming_language)', 'https://en.wikipedia.org/wiki/UNITY_(programming_language)', 'https://en.wikipedia.org/wiki/UnrealScript', 'https://en.wikipedia.org/wiki/V_(programming_language)', 'https://en.wikipedia.org/wiki/Vala_(programming_language)', 'https://en.wikipedia.org/wiki/Verse_(programming_language)', 'https://en.wikipedia.org/wiki/Vim_(text_editor)#Vim_script', 'https://en.wikipedia.org/wiki/Ethereum#Smart_contracts', 'https://en.wikipedia.org/wiki/Visual_DataFlex', 'https://en.wikipedia.org/wiki/Visual_DialogScript', 'https://en.wikipedia.org/wiki/Visual_FoxPro', 'https://en.wikipedia.org/wiki/Visual_J%2B%2B', 'https://en.wikipedia.org/wiki/AutoLISP', 'https://en.wikipedia.org/wiki/Visual_Objects', 'https://en.wikipedia.org/wiki/Visual_Prolog', 'https://en.wikipedia.org/wiki/WATFIV', 'https://en.wikipedia.org/wiki/WebAssembly', 'https://en.wikipedia.org/wiki/Whiley_(programming_language)', 'https://en.wikipedia.org/wiki/Wolfram_Language', 'https://en.wikipedia.org/wiki/Wyvern_(programming_language)', 'https://en.wikipedia.org/wiki/X%2B%2B', 'https://en.wikipedia.org/wiki/X10_(programming_language)', 'https://en.wikipedia.org/wiki/XBase%2B%2B', 'https://en.wikipedia.org/wiki/XBL', 'https://en.wikipedia.org/wiki/XC_(programming_language)', 'https://en.wikipedia.org/wiki/XCore_XS1', 'https://en.wikipedia.org/wiki/XL_(programming_language)', 'https://en.wikipedia.org/wiki/Xojo', 'https://en.wikipedia.org/wiki/XOTcl', 'https://en.wikipedia.org/wiki/XOD_(programming_language)', 'https://en.wikipedia.org/wiki/XPL', 'https://en.wikipedia.org/wiki/XPL0', 'https://en.wikipedia.org/wiki/XQuery', 'https://en.wikipedia.org/wiki/XSB', 'https://en.wikipedia.org/wiki/XSLT', 'https://en.wikipedia.org/wiki/Xtend', 'https://en.wikipedia.org/wiki/YASS_(programming_language)', 'https://en.wikipedia.org/wiki/Yorick_(programming_language)', 'https://en.wikipedia.org/wiki/YQL_(programming_language)', 'https://en.wikipedia.org/wiki/Z%2B%2B', 'https://en.wikipedia.org/wiki/Z_shell', 'https://en.wikipedia.org/wiki/Zebra_(programming_language)', 'https://en.wikipedia.org/wiki/ZetaLisp', 'https://en.wikipedia.org/wiki/Zig_(programming_language)', 'https://en.wikipedia.org/wiki/Zonnon', 'https://en.wikipedia.org/wiki/ZOPL', 'https://en.wikipedia.org/wiki/ZPL_(programming_language)', 'https://en.wikipedia.orghttps://en.wiktionary.org/wiki/programming_language', 'https://en.wikipedia.orghttps://commons.wikimedia.org/wiki/Category:Programming_languages', 'https://en.wikipedia.orghttps://en.wikiquote.org/wiki/Special:Search/Programming_languages', 'https://en.wikipedia.orghttps://en.wikibooks.org/wiki/Computer_Programming/Language_concepts', 'https://en.wikipedia.orghttps://en.wikiversity.org/wiki/Special:Search/Programming_languages', 'https://en.wikipedia.org/wiki/Lists_of_programming_languages', 'https://en.wikipedia.org/wiki/List_of_open-source_programming_languages', 'https://en.wikipedia.org/wiki/List_of_programming_languages_by_type', 'https://en.wikipedia.org/wiki/Comparison_of_programming_languages', 'https://en.wikipedia.org/wiki/List_of_BASIC_dialects', 'https://en.wikipedia.org/wiki/List_of_markup_languages', 'https://en.wikipedia.org/wiki/List_of_stylesheet_languages', 'https://en.wikipedia.org/wiki/List_of_programming_languages_for_artificial_intelligence', 'https://en.wikipedia.org/wiki/History_of_programming_languages', 'https://en.wikipedia.org/wiki/Category:Programming_languages', 'https://en.wikipedia.org/wiki/File:Wikibooks-logo-en-noslogan.svg', 'https://en.wikipedia.orghttps://en.wikibooks.org/wiki/List_of_hello_world_programs', 'https://en.wikipedia.org/wiki/Template:Programming_languages', 'https://en.wikipedia.org/wiki/Template_talk:Programming_languages', 'https://en.wikipedia.org/wiki/Special:EditPage/Template:Programming_languages', 'https://en.wikipedia.org/wiki/Comparison_of_programming_languages', 'https://en.wikipedia.org/wiki/Timeline_of_programming_languages', 'https://en.wikipedia.org/wiki/History_of_programming_languages', 'https://en.wikipedia.org/wiki/Ada_(programming_language)', 'https://en.wikipedia.org/wiki/ALGOL', 'https://en.wikipedia.org/wiki/Simula', 'https://en.wikipedia.org/wiki/APL_(programming_language)', 'https://en.wikipedia.org/wiki/Assembly_language', 'https://en.wikipedia.org/wiki/BASIC', 'https://en.wikipedia.org/wiki/Visual_Basic', 'https://en.wikipedia.org/wiki/Visual_Basic_(classic)', 'https://en.wikipedia.org/wiki/Visual_Basic_(.NET)', 'https://en.wikipedia.org/wiki/C_(programming_language)', 'https://en.wikipedia.org/wiki/C%2B%2B', 'https://en.wikipedia.org/wiki/C_Sharp_(programming_language)', 'https://en.wikipedia.org/wiki/COBOL', 'https://en.wikipedia.org/wiki/Erlang_(programming_language)', 'https://en.wikipedia.org/wiki/Elixir_(programming_language)', 'https://en.wikipedia.org/wiki/Forth_(programming_language)', 'https://en.wikipedia.org/wiki/Fortran', 'https://en.wikipedia.org/wiki/Go_(programming_language)', 'https://en.wikipedia.org/wiki/Haskell', 'https://en.wikipedia.org/wiki/Java_(programming_language)', 'https://en.wikipedia.org/wiki/JavaScript', 'https://en.wikipedia.org/wiki/Julia_(programming_language)', 'https://en.wikipedia.org/wiki/Kotlin_(programming_language)', 'https://en.wikipedia.org/wiki/Lisp_(programming_language)', 'https://en.wikipedia.org/wiki/Lua', 'https://en.wikipedia.org/wiki/MATLAB', 'https://en.wikipedia.org/wiki/ML_(programming_language)', 'https://en.wikipedia.org/wiki/Caml', 'https://en.wikipedia.org/wiki/OCaml', 'https://en.wikipedia.org/wiki/Pascal_(programming_language)', 'https://en.wikipedia.org/wiki/Object_Pascal', 'https://en.wikipedia.org/wiki/Perl', 'https://en.wikipedia.org/wiki/Raku_(programming_language)', 'https://en.wikipedia.org/wiki/PHP', 'https://en.wikipedia.org/wiki/Prolog', 'https://en.wikipedia.org/wiki/Python_(programming_language)', 'https://en.wikipedia.org/wiki/R_(programming_language)', 'https://en.wikipedia.org/wiki/Ruby_(programming_language)', 'https://en.wikipedia.org/wiki/Rust_(programming_language)', 'https://en.wikipedia.org/wiki/SAS_language', 'https://en.wikipedia.org/wiki/SQL', 'https://en.wikipedia.org/wiki/Scratch_(programming_language)', 'https://en.wikipedia.org/wiki/Shell_script', 'https://en.wikipedia.org/wiki/Smalltalk', 'https://en.wikipedia.org/wiki/Swift_(programming_language)', 'https://en.wikipedia.org/wiki/List_of_programming_languages_by_type', 'https://en.wikipedia.org/wiki/Generational_list_of_programming_languages', 'https://en.wikipedia.org/wiki/Non-English-based_programming_languages', 'https://en.wikipedia.org/wiki/Category:Programming_languages', 'https://en.wikipedia.org/wiki/File:Octicons-terminal.svg', 'https://en.wikipedia.org/wiki/Portal:Computer_programming']\n",
      "Filtered Links 25\n",
      "Filtered Links {'https://en.wikipedia.org/wiki/Go_(programming_language)', 'https://en.wikipedia.org/wiki/C_(programming_language)', 'https://en.wikipedia.org/wiki/PHP', 'https://en.wikipedia.org/wiki/C_Sharp_(programming_language)', 'https://en.wikipedia.org/wiki/Assembly_language', 'https://en.wikipedia.org/wiki/Haskell', 'https://en.wikipedia.org/wiki/JavaScript', 'https://en.wikipedia.org/wiki/Ruby_(programming_language)', 'https://en.wikipedia.org/wiki/Apache_Groovy', 'https://en.wikipedia.org/wiki/Rust_(programming_language)', 'https://en.wikipedia.org/wiki/Lua', 'https://en.wikipedia.org/wiki/Bash_(Unix_shell)', 'https://en.wikipedia.org/wiki/Kotlin_(programming_language)', 'https://en.wikipedia.org/wiki/TypeScript', 'https://en.wikipedia.org/wiki/Scala_(programming_language)', 'https://en.wikipedia.org/wiki/Elixir_(programming_language)', 'https://en.wikipedia.org/wiki/R_(programming_language)', 'https://en.wikipedia.org/wiki/C%2B%2B', 'https://en.wikipedia.org/wiki/Swift_(programming_language)', 'https://en.wikipedia.org/wiki/Dart_(programming_language)', 'https://en.wikipedia.org/wiki/PowerShell', 'https://en.wikipedia.org/wiki/Python_(programming_language)', 'https://en.wikipedia.org/wiki/Zig_(programming_language)', 'https://en.wikipedia.org/wiki/Java_(programming_language)', 'https://en.wikipedia.org/wiki/MATLAB'}\n"
     ]
    }
   ],
   "source": [
    "a_tags = soup.select(\"div.mw-content-ltr.mw-parser-output li a\")\n",
    "\n",
    "links = [baseUrl + a['href'] for a in a_tags if a.has_attr('href')]\n",
    "print(f\"Found Links {len(links)}\")\n",
    "print(f\"All Links {links}\")\n",
    "\n",
    "filtered_links = set(filter_programming_links(\n",
    "    links=links,\n",
    "    include_languages=filter_languages,\n",
    "    exclude_languages=filter_not_languages\n",
    ")) \n",
    "print(f\"Filtered Links {len(filtered_links)}\")\n",
    "print(f\"Filtered Links {filtered_links}\")\n",
    "links = filtered_links"
   ]
  },
  {
   "cell_type": "markdown",
   "metadata": {},
   "source": [
    "# HTML-Inhalte speichern\n",
    "\n",
    "Diese Funktion speichert den HTML-Inhalt jeder Programmiersprachen-Seite als Datei im angegebenen Verzeichnis."
   ]
  },
  {
   "cell_type": "code",
   "execution_count": 5,
   "metadata": {},
   "outputs": [],
   "source": [
    "def save_html_content(url, html_content, base_path):    \n",
    "    # Create a filename from the URL\n",
    "    parsed_url = urlparse(url)\n",
    "    filename = parsed_url.netloc.replace('.', '_') + parsed_url.path.replace('/', '_')\n",
    "    if not filename.endswith('.html'):\n",
    "        filename += '.html'\n",
    "    \n",
    "    # Create the full path\n",
    "    if not os.path.exists(base_path):\n",
    "        os.makedirs(base_path)\n",
    "    full_path = os.path.join(base_path, filename)\n",
    "    \n",
    "    # Save the content\n",
    "    try:\n",
    "        with open(full_path, 'w', encoding='utf-8') as f:\n",
    "            f.write(html_content)\n",
    "        # print(f\"Saved HTML content to {full_path}\")\n",
    "        return full_path\n",
    "    except Exception as e:\n",
    "        print(f\"Error saving HTML content: {e}\")\n",
    "        return None"
   ]
  },
  {
   "cell_type": "markdown",
   "metadata": {},
   "source": [
    "# Alle Programmiersprachen-Seiten herunterladen\n",
    "\n",
    "Mit dieser Funktion werden alle gefilterten Wikipedia-Seiten zu den Programmiersprachen heruntergeladen und lokal gespeichert."
   ]
  },
  {
   "cell_type": "code",
   "execution_count": 6,
   "metadata": {},
   "outputs": [
    {
     "name": "stdout",
     "output_type": "stream",
     "text": [
      "Estimated time: 1 minutes\n"
     ]
    },
    {
     "name": "stderr",
     "output_type": "stream",
     "text": [
      "Fetching pages:   0%|          | 0/25 [00:00<?, ?it/s]"
     ]
    },
    {
     "name": "stderr",
     "output_type": "stream",
     "text": [
      "Fetching pages: 100%|██████████| 25/25 [00:28<00:00,  1.16s/it]"
     ]
    },
    {
     "name": "stdout",
     "output_type": "stream",
     "text": [
      "Successfully fetched and saved 25 out of 25 pages\n"
     ]
    },
    {
     "name": "stderr",
     "output_type": "stream",
     "text": [
      "\n"
     ]
    }
   ],
   "source": [
    "def fetch_pages(links: list) -> list:\n",
    "    file_paths = []\n",
    "    # Estimate total time (2 seconds per request assuming average response time)\n",
    "    estimated_time = len(links) * 2\n",
    "    print(f\"Estimated time: {math.ceil(estimated_time/60)} minutes\")\n",
    "    \n",
    "    # Use tqdm for progress bar\n",
    "    for link in tqdm(links, desc=\"Fetching pages\"):\n",
    "        try:\n",
    "            resp = requests.get(link, timeout=10)\n",
    "            resp.raise_for_status()  # Raise exception for bad status codes\n",
    "            \n",
    "            content = resp.text\n",
    "            # Save content to file instead of creating soup objects\n",
    "            file_path = save_html_content(link, content, temp_path)\n",
    "            if file_path:\n",
    "                file_paths.append((link, file_path))\n",
    "            \n",
    "            # Polite delay between requests\n",
    "            sleep(1)\n",
    "            \n",
    "        except requests.RequestException as e:\n",
    "            print(f\"Error fetching {link}: {str(e)}\")\n",
    "            # Try next link instead of failing\n",
    "            continue\n",
    "            \n",
    "    print(f\"Successfully fetched and saved {len(file_paths)} out of {len(links)} pages\")\n",
    "    return file_paths\n",
    "\n",
    "file_paths = fetch_pages(links)"
   ]
  },
  {
   "cell_type": "markdown",
   "metadata": {},
   "source": [
    "# Funktionen zur Extraktion von Seitentiteln und Inhalten\n",
    "\n",
    "Diese Funktionen extrahieren den Titel, den Hauptinhalt und die Überschriften einer Wikipedia-Seite. Sie helfen dabei, die Struktur und die relevanten Informationen der Seite zu erfassen."
   ]
  },
  {
   "cell_type": "code",
   "execution_count": 7,
   "metadata": {},
   "outputs": [],
   "source": [
    "def find_title(soup):\n",
    "    return soup.select_one(\"#firstHeading > span\")\n",
    "\n",
    "def find_main_content(soup):\n",
    "    return soup.select_one(\"#mw-content-text > div.mw-content-ltr.mw-parser-output\")\n",
    "\n",
    "def extract_heading_data(element):\n",
    "    \"\"\"Extract heading text and ID from element\"\"\"\n",
    "    first_child = element.contents[0] if element.contents else None\n",
    "    if first_child:\n",
    "        # Clean spans\n",
    "        for span in first_child.find_all(\"span\"):\n",
    "            span.unwrap()\n",
    "        return {\n",
    "            \"id\": first_child.get(\"id\", \"\"),\n",
    "            \"heading\": first_child.text.strip()\n",
    "        }\n",
    "    return None\n",
    "\n",
    "def find_all_headings(main_content):\n",
    "    \"\"\"Extract all headings with their IDs using list comprehension\"\"\"\n",
    "    return [\n",
    "        extract_heading_data(element)\n",
    "        for element in main_content.select(\".mw-heading\")\n",
    "        if element.contents and extract_heading_data(element)\n",
    "    ]\n",
    "\n",
    "def get_content_until_next_heading(parent_element):\n",
    "    \"\"\"Get all content between current element and next heading\"\"\"\n",
    "    content = []\n",
    "    current = parent_element.find_next_sibling()\n",
    "    \n",
    "    while current and 'mw-heading' not in current.get('class', []):\n",
    "        if current.name != 'style':\n",
    "            content.append(current)\n",
    "        current = current.find_next_sibling()    \n",
    "        \n",
    "    return content\n",
    "\n",
    "\n",
    "def get_all_text_from_heading_id(main_content, heading_id):\n",
    "    target_element = main_content.select_one(f'[id=\"{heading_id}\"]')\n",
    "    \n",
    "    if not target_element:\n",
    "        return None\n",
    "    \n",
    "    \n",
    "    parent_element = target_element.parent\n",
    "    if not parent_element:\n",
    "        return None\n",
    "    \n",
    "    content_elements = get_content_until_next_heading(parent_element)\n",
    "    combined_text = ' '.join(element.text.strip() for element in content_elements)\n",
    "    clean_text = re.sub(r'\\[\\d{1,3}\\]', '', combined_text)\n",
    "    clean_text = ' '.join(clean_text.split())\n",
    "    \n",
    "    return clean_text\n",
    "\n",
    "def convert_to_valid_field(heading: str):\n",
    "    return re.sub(r'[^a-z_]', '', \n",
    "                 heading\n",
    "                 .strip()\n",
    "                 .lower()\n",
    "                 .replace(' ', '_')\n",
    "                 .replace('-', '_')\n",
    "                 .encode(\"ascii\", \"ignore\")\n",
    "                 .decode(\"ascii\"))\n",
    "    \n",
    "    "
   ]
  },
  {
   "cell_type": "markdown",
   "metadata": {},
   "source": [
    "# Verarbeitung und Speicherung der extrahierten Inhalte\n",
    "\n",
    "Hier werden die gespeicherten HTML-Dateien verarbeitet, die relevanten Inhalte extrahiert und als strukturierte JSON-Datei gespeichert."
   ]
  },
  {
   "cell_type": "code",
   "execution_count": 1,
   "metadata": {},
   "outputs": [
    {
     "ename": "NameError",
     "evalue": "name 'file_paths' is not defined",
     "output_type": "error",
     "traceback": [
      "\u001b[0;31m---------------------------------------------------------------------------\u001b[0m",
      "\u001b[0;31mNameError\u001b[0m                                 Traceback (most recent call last)",
      "Cell \u001b[0;32mIn[1], line 122\u001b[0m\n\u001b[1;32m    119\u001b[0m     \u001b[38;5;28;01mreturn\u001b[39;00m field_names\n\u001b[1;32m    121\u001b[0m \u001b[38;5;66;03m# Save the field names instead of pages\u001b[39;00m\n\u001b[0;32m--> 122\u001b[0m field_list \u001b[38;5;241m=\u001b[39m process_soups_content(\u001b[43mfile_paths\u001b[49m)\n",
      "\u001b[0;31mNameError\u001b[0m: name 'file_paths' is not defined"
     ]
    }
   ],
   "source": [
    "def process_soups_content(file_paths):\n",
    "    field_names = set()\n",
    "    output_file = f\"{path}/prog_lang.json\"\n",
    "    \n",
    "    # Start with an empty array\n",
    "    with open(output_file, 'w', encoding='utf-8') as f:\n",
    "        f.write(\"[\\n\")\n",
    "    \n",
    "    file_count = 0\n",
    "    \n",
    "    for link, file_path in file_paths:#tqdm(file_paths, desc=\"Processing files\"):\n",
    "        try:\n",
    "            # Read the HTML content from the file\n",
    "            print(f\"Processing {file_path}\")\n",
    "            try:\n",
    "                print(f\"Reading file {file_path}\")\n",
    "                with open(file_path, 'r', encoding='utf-8') as f:\n",
    "                    content = f.read()\n",
    "            except Exception as e:\n",
    "                print(f\"Error reading file {file_path}: {str(e)}\")\n",
    "                continue\n",
    "            \n",
    "            # Create soup object from the content\n",
    "            try:\n",
    "                soup = BeautifulSoup(content, 'lxml')\n",
    "                print(f\"Parsed HTML from {file_path}\")\n",
    "            except Exception as e:\n",
    "                print(f\"Error parsing HTML in {file_path}: {str(e)}\")\n",
    "                continue\n",
    "            \n",
    "            # Find title element\n",
    "            try:\n",
    "                title_element = find_title(soup)\n",
    "                print(f\"Found title in {file_path}\")\n",
    "                if not title_element:\n",
    "                    print(f\"No title found in {file_path}, skipping\")\n",
    "                    continue\n",
    "                title_text = title_element.text.strip()\n",
    "            except Exception as e:\n",
    "                print(f\"Error extracting title from {file_path}: {str(e)}\")\n",
    "                continue\n",
    "            \n",
    "            # Find main content\n",
    "            try:\n",
    "                main_content = find_main_content(soup)\n",
    "                print(f\"Found main content in {file_path}\")\n",
    "                if not main_content:\n",
    "                    print(f\"No main content found in {file_path}, skipping\")\n",
    "                    continue\n",
    "            except Exception as e:\n",
    "                print(f\"Error finding main content in {file_path}: {str(e)}\")\n",
    "                continue\n",
    "            \n",
    "            # Create page object\n",
    "            page = {\n",
    "                \"title\": title_text,\n",
    "                \"url\": link\n",
    "            }\n",
    "            \n",
    "            # Process headings\n",
    "            try:\n",
    "                headings = find_all_headings(main_content)\n",
    "                print(f\"Found {len(headings)} headings in {file_path}\")\n",
    "            except Exception as e:\n",
    "                print(f\"Error finding headings in {file_path}: {str(e)}\")\n",
    "                headings = []\n",
    "            \n",
    "            # Track if we found any content\n",
    "            found_content = False\n",
    "            \n",
    "            # Process each heading - add directly to document\n",
    "            for heading in headings:\n",
    "                try:\n",
    "                    if not heading or \"id\" not in heading:\n",
    "                        continue\n",
    "                        \n",
    "                    text = get_all_text_from_heading_id(main_content, heading[\"id\"])\n",
    "                    if text:\n",
    "                        field_name = convert_to_valid_field(heading[\"heading\"])\n",
    "                        # Add content directly to the document with the field name\n",
    "                        page[field_name] = text[:max_text_len].replace(\"\\\"\", \"\")\n",
    "                        \n",
    "                        # Optionally store the original heading if needed\n",
    "                        # page[f\"heading_{field_name}\"] = heading[\"heading\"]\n",
    "                        \n",
    "                        # Add field to our set of field names\n",
    "                        field_names.add(field_name)\n",
    "                        # field_names.add(f\"heading_{field_name}\")\n",
    "                        \n",
    "                        found_content = True\n",
    "                except Exception as e:\n",
    "                    print(f\"Error processing heading {heading.get('heading', 'unknown')} in {file_path}: {str(e)}\")\n",
    "                    continue\n",
    "            \n",
    "            # Only write pages with actual content\n",
    "            if found_content:\n",
    "                # Append to the JSON file with proper commas\n",
    "                print(f\"Writing page to {output_file}\")\n",
    "                with open(output_file, 'a', encoding='utf-8') as f:\n",
    "                    if file_count > 0:\n",
    "                        print(f\"Writing comma before page {file_count}\")\n",
    "                        f.write(\",\\n\")\n",
    "                    json_data = json.dumps(page, indent=2, ensure_ascii=False)\n",
    "                    print(f\"Writing page {json_data}\")\n",
    "                    f.write(json_data)\n",
    "                file_count += 1\n",
    "            else:\n",
    "                print(f\"No usable content found in {file_path}, skipping\")\n",
    "            \n",
    "        except Exception as e:\n",
    "            print(f\"Unexpected error processing {file_path}: {str(e)}\")\n",
    "            continue\n",
    "    \n",
    "    # Close the JSON array\n",
    "    with open(output_file, 'a', encoding='utf-8') as f:\n",
    "        f.write(\"\\n]\")\n",
    "    \n",
    "    print(f\"Successfully processed {file_count} files and wrote them to {output_file}\")\n",
    "    return field_names\n",
    "\n",
    "# Save the field names instead of pages\n",
    "field_list = process_soups_content(file_paths)"
   ]
  },
  {
   "cell_type": "markdown",
   "metadata": {},
   "source": [
    "# (Optional) Felder extrahieren und als CSV speichern\n",
    "\n",
    "Dieser Abschnitt extrahiert die Feldnamen aus den gesammelten Daten und speichert sie als CSV-Datei."
   ]
  },
  {
   "cell_type": "code",
   "execution_count": null,
   "metadata": {},
   "outputs": [
    {
     "name": "stdout",
     "output_type": "stream",
     "text": [
      "{'bibliography', 'block_expressions_and_control_flow', 'external_links', 'function_syntax', 'rustfmt', 'history', 'controversy', 'union_types', 'modules_and_namespaces', 'lexical_closure', 'macros', 'integration_with_build_automation_tools', 'mozilla_sponsorship_', 'promises', 'declaration_files', 'traits', 'javafx_application', 'syntax_and_semantics', 'codedom_provider', 'misplaced_trust_in_the_client', 'pointers', 'libraries_and_frameworks', 'javascript_engine', 'reference_implementation', 'linting_tools', 'design_philosophy_and_features', 'syntax', 'book_sources', 'weakly_typed', 'while_loops', 'libraries', 'cross_site_request_forgery', 'object_composition_and_inheritance', 'api_documentation_generators', 'syntax_and_features', 'creation_at_netscape', 'cargo', 'servlet', 'swing_application', 'clippy', 'criticism', 'others', 'declarative_macros', 'trademark', 'promises_and_asyncawait', 'see_also', 'array_and_object_literals', 'editions', 'type_annotations', 'automatic_memory_management', 'indentation', 'programming_examples', 'rust_foundation', 'other_implementations', 'growth_and_standardization', 'enumerated_types', 'variables', 'compatibility_with_javascript', 'procedural_macros', 'functions_as_object_constructors', 'imperative_and_structured', 'development_tools', 'performance', 'interface_with_c_and_c', 'json', 'ecosystem', 'functions_as_methods', 'website_client_side_usage', 'classes', 'for_loops_and_iterators', 'trait_objects', 'development', 'typing', 'references', 'implementations', 'loop_and_break_statements', 'variadic_functions', 'memory_management', 'hardware_vulnerabilities', 'types', 'examples_of_scripted_behavior', 'notes', 'java', 'versioning_system', 'anonymous_function', 'reaching_maturity', 'transpilers', 'class_libraries', 'runtime_system', 'design', 'user_defined_types', 'sources', 'compiler', 'the_rise_of_jscript', 'delegative', 'adoption_by_microsoft', 'features', 'cross_site_scripting', 'standard_library', 'asyncawait', 'ownership', 'mozilla_layoffs_and_rust_foundation_present', 'languages_influenced_by_python', 'community', 'zero_based_numbering', 'misplaced_trust_in_developers', 'citations', 'if_expressions', 'in_academic_research', 'release_history', 'prototypes', 'methods', 'dynamic', 'sandbox_implementation_errors', 'functional', 'regular_expressions', 'memory_safety', 'ide_and_editor_support', 'governance_teams', 'early_years_', 'popularity', 'adoption', 'expressions', 'no_longer_supported_implementations', 'other_usage', 'applet', 'type_conversion', 'use_outside_the_java_platform', 'uses', 'ide_support', 'java_jvm_and_bytecode', 'vendor_specific_extensions', 'documentation', 'security', 'android', 'webassembly', 'naming', 'special_classes', 'hello_world', 'object_orientation_prototype_based', 'run_time_evaluation', 'evolution_', 'primitive_types', 'versions', 'development_environments', 'statements_and_control_flow', 'generics', 'lifetimes', 'further_reading', 'javaserver_pages', 'pattern_matching', 'arithmetic_operations', 'functions_as_roles_traits_and_mixins', 'browser_and_plugin_coding_errors', 'servo_and_early_adoption_', 'hello_world_program', 'non_jvm', 'cross_compilers_to_other_languages', 'principles'}\n"
     ]
    }
   ],
   "source": [
    "property = \"filed\"\n",
    "filed_list = set([item[property] for article in pages for item in article[\"data\"] if property in item]) \n",
    "print(filed_list)\n",
    "        \n",
    "with open(f\"{path}/prog_lang_fields.csv\", 'w', encoding='utf-8') as f:\n",
    "    f.write(\",\\n\".join(filed_list))"
   ]
  },
  {
   "cell_type": "markdown",
   "metadata": {},
   "source": [
    "# (Optional) JSON-Ausgabe als XML speichern\n",
    "\n",
    "Hier kann die gesammelte JSON-Ausgabe optional in das XML-Format konvertiert und gespeichert werden."
   ]
  },
  {
   "cell_type": "code",
   "execution_count": null,
   "metadata": {},
   "outputs": [],
   "source": [
    "# with open(f\"{path}/prog_lang.json\", 'w', encoding='utf-8') as f:\n",
    "#     f.write(json.dumps(pages, indent=2, ensure_ascii=False))"
   ]
  },
  {
   "cell_type": "code",
   "execution_count": null,
   "metadata": {},
   "outputs": [],
   "source": [
    "# def json_to_xml(json_data):\n",
    "#     # Convert to XML\n",
    "#     xml = dicttoxml(json_data, custom_root='root', attr_type=False)\n",
    "    \n",
    "#     # Pretty print the XML\n",
    "#     dom = parseString(xml)\n",
    "#     return dom.toprettyxml()\n",
    "\n",
    "# xml_string = json_to_xml(pages)\n",
    "# with open(f\"{path}/prog_lang.xml\", 'w', encoding='utf-8') as f:\n",
    "#     f.write(xml_string)"
   ]
  }
 ],
 "metadata": {
  "kernelspec": {
   "display_name": "Python 3",
   "language": "python",
   "name": "python3"
  },
  "language_info": {
   "codemirror_mode": {
    "name": "ipython",
    "version": 3
   },
   "file_extension": ".py",
   "mimetype": "text/x-python",
   "name": "python",
   "nbconvert_exporter": "python",
   "pygments_lexer": "ipython3",
   "version": "3.10.12"
  }
 },
 "nbformat": 4,
 "nbformat_minor": 2
}
