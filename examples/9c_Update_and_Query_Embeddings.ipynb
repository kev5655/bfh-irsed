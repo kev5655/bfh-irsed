{
 "cells": [
  {
   "cell_type": "markdown",
   "id": "6fb08926-45e3-48ca-a0ed-9196853ff637",
   "metadata": {},
   "source": [
    "# Update and Query Embeddings\n",
    "We update embeddings in the original index (core)"
   ]
  },
  {
   "cell_type": "code",
   "execution_count": null,
   "id": "f4a16480-40a8-4bbb-85ce-d45c6c00350d",
   "metadata": {},
   "outputs": [],
   "source": [
    "import pysolr\n",
    "from sentence_transformers import SentenceTransformer\n",
    "from IPython.display import display,HTML"
   ]
  },
  {
   "cell_type": "markdown",
   "id": "e8d084c9-e74a-46a3-aa99-133297c8b044",
   "metadata": {},
   "source": [
    "Create a Solr instance (set autocommit to True (ok for test purpose)"
   ]
  },
  {
   "cell_type": "code",
   "execution_count": null,
   "id": "c1c6bd9b-f8d0-4ad4-9212-fa3f2ce678b6",
   "metadata": {},
   "outputs": [],
   "source": [
    "solr = pysolr.Solr('http://localhost:8983/solr/DenseIndex', always_commit=True)"
   ]
  },
  {
   "cell_type": "markdown",
   "id": "f98981a2-90ce-4b76-a817-20f214e5dba6",
   "metadata": {},
   "source": [
    "Load the model"
   ]
  },
  {
   "cell_type": "code",
   "execution_count": null,
   "id": "10ee193f-e75c-489e-8128-7fcde30841ce",
   "metadata": {},
   "outputs": [],
   "source": [
    "model = SentenceTransformer(\"Snowflake/snowflake-arctic-embed-xs\")"
   ]
  },
  {
   "cell_type": "markdown",
   "id": "bfdc18de-71ee-4a8d-8280-808f06172697",
   "metadata": {},
   "source": [
    "## Update the Core \n",
    "Add embeddings to the existing core"
   ]
  },
  {
   "cell_type": "markdown",
   "id": "8847b500-2194-449f-8128-1d79aebf3d35",
   "metadata": {},
   "source": [
    "Define a function to embed any text"
   ]
  },
  {
   "cell_type": "code",
   "execution_count": null,
   "id": "e1c7a8ca-0561-4eff-b73d-0adfb444bc76",
   "metadata": {},
   "outputs": [],
   "source": [
    "def generate_text_embeddings(text):\n",
    "    embedding = model.encode([text])  # the encode function requires an array\n",
    "    return embedding[0]  # the encode function returns an array"
   ]
  },
  {
   "cell_type": "markdown",
   "id": "9ff96c9e-a655-4b7b-916f-d12692fecbed",
   "metadata": {},
   "source": [
    "Define a function to embed a query"
   ]
  },
  {
   "cell_type": "code",
   "execution_count": null,
   "id": "5153a3f5-c3be-45dd-8ca8-874b1400474b",
   "metadata": {},
   "outputs": [],
   "source": [
    "def generate_query_embeddings(query):\n",
    "    embedding = model.encode([query], prompt_name=\"query\")\n",
    "    return embedding[0]"
   ]
  },
  {
   "cell_type": "markdown",
   "id": "7d84b9be-acbe-4329-ab15-1c4565a95c2f",
   "metadata": {},
   "source": [
    "Define a function to update the embedding-field in the Solr core.\n",
    "\n",
    "1. all records are selected\n",
    "2. records are updated one a the time adding the embedding of the description-fiele"
   ]
  },
  {
   "cell_type": "code",
   "execution_count": null,
   "id": "86fdf7c6-1b6b-47a0-8f9b-d99c9e82c288",
   "metadata": {},
   "outputs": [],
   "source": [
    "def update_description_vector():\n",
    "\n",
    "    #retrieve all the recrods from collection\n",
    "    solr_response=solr.search(\n",
    "                        q='*:*',\n",
    "                        rows=30,\n",
    "                        start=0,\n",
    "                        fl='year, description',\n",
    "                        wt='json')\n",
    "\n",
    "    for item in solr_response:\n",
    "        description = item[\"description\"].lower()\n",
    "        year = item['year']  # year is the unique id - needed to identify to document to be updated\n",
    "       \n",
    "        embedding = generate_text_embeddings(description)\n",
    "        solr.add({'year':year, 'description_vector':{'set':[float(w) for w in embedding]}})\n",
    "        solr.commit()"
   ]
  },
  {
   "cell_type": "markdown",
   "id": "b1bd9db8-0c0a-4e6f-b56e-3bbe0050d94f",
   "metadata": {},
   "source": [
    "Execute the update"
   ]
  },
  {
   "cell_type": "code",
   "execution_count": null,
   "id": "f1216865-cf0c-4c3c-905a-e648660efce9",
   "metadata": {},
   "outputs": [],
   "source": [
    "update_description_vector()"
   ]
  },
  {
   "cell_type": "markdown",
   "id": "e68135b7-d4cd-4768-9ea4-8fdf0e4850d3",
   "metadata": {},
   "source": [
    "## Execute a semantic search"
   ]
  },
  {
   "cell_type": "markdown",
   "id": "fd669fd8-d0f1-42ea-a9e3-842b7ca74667",
   "metadata": {},
   "source": [
    "Define a query string"
   ]
  },
  {
   "cell_type": "code",
   "execution_count": null,
   "id": "b8f35e2e-abe6-4498-a656-e5275d35b718",
   "metadata": {},
   "outputs": [],
   "source": [
    "query = \"FIFA World Cup events with a toxic atmosphere\""
   ]
  },
  {
   "cell_type": "code",
   "execution_count": null,
   "id": "7a990723-6022-4f86-8ccc-dc89fc25ae73",
   "metadata": {},
   "outputs": [],
   "source": [
    "query_embedded = generate_query_embeddings(query)"
   ]
  },
  {
   "cell_type": "markdown",
   "id": "13b40097-3811-4fe8-96ce-226ccf5e7543",
   "metadata": {},
   "source": [
    "Execute the query"
   ]
  },
  {
   "cell_type": "code",
   "execution_count": null,
   "id": "2cafcb92-0cf4-4940-bdf5-6935c8eef1cf",
   "metadata": {},
   "outputs": [],
   "source": [
    "solr_response=solr.search(fl=['title', 'description', 'score'],\n",
    "    q=\"{!knn f=description_vector topK=3}\"+str([float(w) for w in query_embedded]),\n",
    "    rows = 30)\n"
   ]
  },
  {
   "cell_type": "markdown",
   "id": "251212bd-25df-4fd5-9a9d-ddaea506e2d7",
   "metadata": {},
   "source": [
    "Display the results"
   ]
  },
  {
   "cell_type": "code",
   "execution_count": null,
   "id": "db4ea44c-1653-4449-985b-397782f1046f",
   "metadata": {},
   "outputs": [],
   "source": [
    "print(f\"Found {len(solr_response)} results\")\n",
    "print(\"Query: \"+query)\n",
    "\n",
    "for doc in solr_response:\n",
    "    display(HTML(\"<h3>\"+doc['title']+\"   Score=\"+str(doc['score'])+\"</h3>\"))\n",
    "    display(HTML(doc['description']))\n",
    "    print(\"\")"
   ]
  },
  {
   "cell_type": "code",
   "execution_count": null,
   "id": "5767a259-01b4-44c5-8d14-4b1e7458c1ca",
   "metadata": {},
   "outputs": [],
   "source": []
  },
  {
   "cell_type": "code",
   "execution_count": null,
   "id": "be22b14b-5a8b-48d0-814f-f1fdfabc4e31",
   "metadata": {},
   "outputs": [],
   "source": []
  }
 ],
 "metadata": {
  "kernelspec": {
   "display_name": "Python 3 (ipykernel)",
   "language": "python",
   "name": "python3"
  },
  "language_info": {
   "codemirror_mode": {
    "name": "ipython",
    "version": 3
   },
   "file_extension": ".py",
   "mimetype": "text/x-python",
   "name": "python",
   "nbconvert_exporter": "python",
   "pygments_lexer": "ipython3",
   "version": "3.10.12"
  }
 },
 "nbformat": 4,
 "nbformat_minor": 5
}
