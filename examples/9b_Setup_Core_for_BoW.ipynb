{
 "cells": [
  {
   "cell_type": "markdown",
   "id": "def7ce3d-cd4d-4e72-89a3-b9c93e8aeb39",
   "metadata": {},
   "source": [
    "# Setup the core DenseIndex for classical Keyword Search"
   ]
  },
  {
   "cell_type": "code",
   "execution_count": null,
   "id": "4251cbe8-2592-41da-8c79-9ca8631c4e7c",
   "metadata": {},
   "outputs": [],
   "source": [
    "import xml.etree.ElementTree as ET\n",
    "import re\n",
    "import pysolr\n",
    "import requests\n",
    "from IPython.display import display,HTML"
   ]
  },
  {
   "cell_type": "markdown",
   "id": "523d5d68-443f-4491-843e-a7e809a06193",
   "metadata": {},
   "source": [
    "Create a Solr instance. We configure neither timeout nor authentication.\n",
    "Note: always_commit=True writes the documents to the core immediately. The parameter is\n",
    "False by default. This procedure is practical, but comes at the expense of performance."
   ]
  },
  {
   "cell_type": "code",
   "execution_count": null,
   "id": "f8746b6b-1576-4102-ac08-3d0182c3ddb4",
   "metadata": {},
   "outputs": [],
   "source": [
    "solr = pysolr.Solr('http://localhost:8983/solr/DenseIndex', always_commit=True)"
   ]
  },
  {
   "cell_type": "markdown",
   "id": "6ffefb9e-7c5e-4c90-88f4-aecb517fd3f7",
   "metadata": {},
   "source": [
    "A variable which contains the path to the original xml-file"
   ]
  },
  {
   "cell_type": "code",
   "execution_count": null,
   "id": "a2c21aa0-d2f3-4cde-b44c-7248da1d20d2",
   "metadata": {},
   "outputs": [],
   "source": [
    "file_path = '/home/bfh/irsed/daten/FIFA/fifa.xml'"
   ]
  },
  {
   "cell_type": "markdown",
   "id": "3acceab0-8c08-4de8-a10f-5e886daea29b",
   "metadata": {},
   "source": [
    "Define a fuction for some basic text-cleaning"
   ]
  },
  {
   "cell_type": "code",
   "execution_count": null,
   "id": "fb517b3f-f687-480b-81fd-4d9f3ab84766",
   "metadata": {},
   "outputs": [],
   "source": [
    "def clean_the_text(text):\n",
    "    text = text.replace(\"\\n\", \"\")\n",
    "    text = re.sub(r\"\\[.*?\\]\", \"\", text)\n",
    "    return(text)"
   ]
  },
  {
   "cell_type": "markdown",
   "id": "92e253a0-18e9-479e-80b7-0d57887eff00",
   "metadata": {},
   "source": [
    "Define a function to add documents to Solr \n",
    "\n",
    "Note: For practical reasons, we do not use embeddings here. If necessary, embeddings could also be inserted here right away."
   ]
  },
  {
   "cell_type": "code",
   "execution_count": null,
   "id": "59350021-70c8-4610-90f6-325c64fd2432",
   "metadata": {},
   "outputs": [],
   "source": [
    "def add_to_solr(year, title, description):\n",
    "    solr.add([\n",
    "        {\n",
    "            \"year\": year,\n",
    "            \"title\": title,\n",
    "            \"description\": description\n",
    "        }\n",
    "    ])\n",
    "    solr.commit()"
   ]
  },
  {
   "cell_type": "markdown",
   "id": "5c7bd89f-0bb0-4025-aded-dc8025bce93e",
   "metadata": {},
   "source": [
    "Parse the xml file and display some basic information"
   ]
  },
  {
   "cell_type": "code",
   "execution_count": null,
   "id": "d1a696cd-28d4-4b17-ad0a-bf0b8afd9747",
   "metadata": {},
   "outputs": [],
   "source": [
    "tree = ET.parse(file_path)\n",
    "root = tree.getroot()\n",
    "\n",
    "# Display basic information about the root element\n",
    "root_tag = root.tag\n",
    "root_attrib = root.attrib\n",
    "num_children = len(root)\n",
    "\n",
    "root_tag, root_attrib, num_children"
   ]
  },
  {
   "cell_type": "markdown",
   "id": "d3738760-695d-4072-a580-3719f113b742",
   "metadata": {},
   "source": [
    "Extracting all fields with the name 'year', 'title', 'description', and index in solr"
   ]
  },
  {
   "cell_type": "code",
   "execution_count": null,
   "id": "d117101f-614b-451c-8ac3-abaf0f1d7d1c",
   "metadata": {},
   "outputs": [],
   "source": [
    "for field in root.iter('field'):\n",
    "    if field.attrib.get('name') == 'year':\n",
    "        year = field.text\n",
    "    if field.attrib.get('name') == 'title':\n",
    "        # Extracting text content of the field\n",
    "        title_content = field.text\n",
    "    if field.attrib.get('name') == 'description':\n",
    "        description_content = field.text\n",
    "        add_to_solr(year, title_content, clean_the_text(description_content))"
   ]
  },
  {
   "cell_type": "markdown",
   "id": "e22d475d-47fc-4fbb-8fd5-dd750c6f0362",
   "metadata": {},
   "source": [
    "# Query the Index"
   ]
  },
  {
   "cell_type": "code",
   "execution_count": null,
   "id": "ef915dd4-2b1b-4b4d-be10-3417e5eab4d7",
   "metadata": {},
   "outputs": [],
   "source": [
    "solr_url = 'http://localhost:8983/solr/'\n",
    "collection = \"DenseIndex\"\n",
    "\n",
    "query = '\"toxic atmosphere\"'"
   ]
  },
  {
   "cell_type": "markdown",
   "id": "e104c11f-dc58-42bb-b46e-cb7dbec15dc9",
   "metadata": {},
   "source": [
    "Execute the query"
   ]
  },
  {
   "cell_type": "code",
   "execution_count": null,
   "id": "7fbad9cc-dc73-4d6b-80d2-5078ada29d5c",
   "metadata": {},
   "outputs": [],
   "source": [
    "string = {\n",
    "    \"query\": query,\n",
    "    \"params\": {\n",
    "        \"df\": \"title, description\",\n",
    "        \"df\": \"description\",\n",
    "        \"defType\": \"edismax\",\n",
    "        \"indent\": \"true\",\n",
    "        \"sort\": \"score desc\",\n",
    "    }\n",
    "}"
   ]
  },
  {
   "cell_type": "markdown",
   "id": "95df8c5e-92f9-48f0-8866-f9509c2c0246",
   "metadata": {},
   "source": [
    "Display the result"
   ]
  },
  {
   "cell_type": "code",
   "execution_count": null,
   "id": "673ffbaf-ba1c-4eaf-99b3-b204ee843c86",
   "metadata": {},
   "outputs": [],
   "source": [
    "docs = requests.post(solr_url + collection + \"/select\", json=string).json()[\"response\"][\"docs\"]\n",
    "for doc in docs:\n",
    "    display(HTML(\"<h3>\"+doc['title']+\"</h3>\"))\n",
    "    display(HTML(doc['description']))\n",
    "    print(\"\")"
   ]
  },
  {
   "cell_type": "markdown",
   "id": "43a9cd23-b339-441d-8769-0f7a80c51ef0",
   "metadata": {},
   "source": [
    "Note: The description, which originally comes from Wikipedia, explicitly mentions a \"toxic atmosphere\"."
   ]
  }
 ],
 "metadata": {
  "kernelspec": {
   "display_name": "Python 3 (ipykernel)",
   "language": "python",
   "name": "python3"
  },
  "language_info": {
   "codemirror_mode": {
    "name": "ipython",
    "version": 3
   },
   "file_extension": ".py",
   "mimetype": "text/x-python",
   "name": "python",
   "nbconvert_exporter": "python",
   "pygments_lexer": "ipython3",
   "version": "3.10.12"
  }
 },
 "nbformat": 4,
 "nbformat_minor": 5
}
