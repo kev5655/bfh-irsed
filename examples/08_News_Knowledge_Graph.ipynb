{
 "cells": [
  {
   "cell_type": "markdown",
   "id": "3a5101a4-f264-4df9-836d-5aa07b943b08",
   "metadata": {},
   "source": [
    "# News Knowledge Graph"
   ]
  },
  {
   "cell_type": "code",
   "execution_count": 1,
   "id": "ba23d1b4-d20b-48c2-9eb5-238033c9f88a",
   "metadata": {},
   "outputs": [],
   "source": [
    "import requests\n",
    "from IPython.core.display import HTML"
   ]
  },
  {
   "cell_type": "code",
   "execution_count": 33,
   "id": "3ffe7868-35fb-4efd-93df-3210864045c4",
   "metadata": {},
   "outputs": [
    {
     "data": {
      "text/plain": [
       "{'query': 'wetter',\n",
       " 'params': {'df': ['title', 'text'],\n",
       "  'fore': '{!type=$defType qf=$qf v=$q}',\n",
       "  'back': '*:*',\n",
       "  'defType': 'edismax',\n",
       "  'rows': 0,\n",
       "  'echoParams': 'none',\n",
       "  'omitHeader': 'true'},\n",
       " 'facet': {'facet_field': {'type': 'terms',\n",
       "   'field': 'facet_field',\n",
       "   'sort': {'relatedness': 'desc'},\n",
       "   'mincount': 1,\n",
       "   'limit': 20,\n",
       "   'facet': {'relatedness': {'type': 'func',\n",
       "     'func': 'relatedness($fore,$back)'}}}}}"
      ]
     },
     "execution_count": 33,
     "metadata": {},
     "output_type": "execute_result"
    }
   ],
   "source": [
    "collection=\"news\"\n",
    "query=\"wetter\"\n",
    "\n",
    "request = {\n",
    "    \"query\": query,\n",
    "    \"params\": {\n",
    "        \"df\": ['title', 'text'],\n",
    "        \"fore\": \"{!type=$defType qf=$qf v=$q}\",\n",
    "        \"back\": \"*:*\",\n",
    "        \"defType\": \"edismax\",\n",
    "        \"rows\": 0,\n",
    "        \"echoParams\": \"none\",\n",
    "        \"omitHeader\": \"true\"\n",
    "    },\n",
    "    \"facet\": {\n",
    "        \"facet_field\": {\n",
    "            \"type\": \"terms\",\n",
    "            \"field\": \"facet_field\",\n",
    "            \"sort\": { \"relatedness\": \"desc\"},\n",
    "            \"mincount\": 1,\n",
    "            \"limit\": 20,\n",
    "            \"facet\": {\n",
    "                \"relatedness\": {\n",
    "                    \"type\": \"func\",\n",
    "                    \"func\": \"relatedness($fore,$back)\"\n",
    "                    #\"min_popularity\": 0.00000005\n",
    "                }\n",
    "            }            \n",
    "        }\n",
    "    }\n",
    "}\n",
    "request"
   ]
  },
  {
   "cell_type": "code",
   "execution_count": 34,
   "id": "32ae1c45-3ec3-4da5-b6f4-e7d79f086703",
   "metadata": {},
   "outputs": [],
   "source": [
    "solr_url = 'http://localhost:8983/solr/'\n",
    "response = requests.post(f\"{solr_url}{collection}/select\", json=request).json()\n"
   ]
  },
  {
   "cell_type": "code",
   "execution_count": 35,
   "id": "66e4f892-aa9d-4ae7-96d6-5ab887169750",
   "metadata": {},
   "outputs": [
    {
     "data": {
      "text/plain": [
       "{'response': {'numFound': 67, 'start': 0, 'numFoundExact': True, 'docs': []},\n",
       " 'facets': {'count': 67,\n",
       "  'facet_field': {'buckets': [{'val': 'wetter',\n",
       "     'count': 67,\n",
       "     'relatedness': {'relatedness': 0.62119,\n",
       "      'foreground_popularity': 0.00687,\n",
       "      'background_popularity': 0.00862}},\n",
       "    {'val': 'grad',\n",
       "     'count': 61,\n",
       "     'relatedness': {'relatedness': 0.61713,\n",
       "      'foreground_popularity': 0.00626,\n",
       "      'background_popularity': 0.00728}},\n",
       "    {'val': 'bewoelkt',\n",
       "     'count': 36,\n",
       "     'relatedness': {'relatedness': 0.53534,\n",
       "      'foreground_popularity': 0.00369,\n",
       "      'background_popularity': 0.00369}},\n",
       "    {'val': 'regen',\n",
       "     'count': 46,\n",
       "     'relatedness': {'relatedness': 0.53433,\n",
       "      'foreground_popularity': 0.00472,\n",
       "      'background_popularity': 0.00605}},\n",
       "    {'val': 'aussichten',\n",
       "     'count': 43,\n",
       "     'relatedness': {'relatedness': 0.51586,\n",
       "      'foreground_popularity': 0.00441,\n",
       "      'background_popularity': 0.00585}},\n",
       "    {'val': 'trocken',\n",
       "     'count': 28,\n",
       "     'relatedness': {'relatedness': 0.48024,\n",
       "      'foreground_popularity': 0.00287,\n",
       "      'background_popularity': 0.00308}},\n",
       "    {'val': 'hoechstwerte',\n",
       "     'count': 26,\n",
       "     'relatedness': {'relatedness': 0.47953,\n",
       "      'foreground_popularity': 0.00267,\n",
       "      'background_popularity': 0.00267}},\n",
       "    {'val': 'hoechsttemperaturen',\n",
       "     'count': 25,\n",
       "     'relatedness': {'relatedness': 0.47342,\n",
       "      'foreground_popularity': 0.00256,\n",
       "      'background_popularity': 0.00256}},\n",
       "    {'val': 'wolkig',\n",
       "     'count': 20,\n",
       "     'relatedness': {'relatedness': 0.44004,\n",
       "      'foreground_popularity': 0.00205,\n",
       "      'background_popularity': 0.00205}},\n",
       "    {'val': 'schauer',\n",
       "     'count': 20,\n",
       "     'relatedness': {'relatedness': 0.4329,\n",
       "      'foreground_popularity': 0.00205,\n",
       "      'background_popularity': 0.00215}},\n",
       "    {'val': 'sonnig',\n",
       "     'count': 19,\n",
       "     'relatedness': {'relatedness': 0.43261,\n",
       "      'foreground_popularity': 0.00195,\n",
       "      'background_popularity': 0.00195}},\n",
       "    {'val': 'tiefstwerte',\n",
       "     'count': 19,\n",
       "     'relatedness': {'relatedness': 0.43261,\n",
       "      'foreground_popularity': 0.00195,\n",
       "      'background_popularity': 0.00195}},\n",
       "    {'val': 'norden',\n",
       "     'count': 30,\n",
       "     'relatedness': {'relatedness': 0.41828,\n",
       "      'foreground_popularity': 0.00308,\n",
       "      'background_popularity': 0.00533}},\n",
       "    {'val': 'heiter',\n",
       "     'count': 19,\n",
       "     'relatedness': {'relatedness': 0.41139,\n",
       "      'foreground_popularity': 0.00195,\n",
       "      'background_popularity': 0.00226}},\n",
       "    {'val': 'vorhersage',\n",
       "     'count': 18,\n",
       "     'relatedness': {'relatedness': 0.40963,\n",
       "      'foreground_popularity': 0.00185,\n",
       "      'background_popularity': 0.00205}},\n",
       "    {'val': 'schauern',\n",
       "     'count': 14,\n",
       "     'relatedness': {'relatedness': 0.38911,\n",
       "      'foreground_popularity': 0.00144,\n",
       "      'background_popularity': 0.00144}},\n",
       "    {'val': 'sueden',\n",
       "     'count': 27,\n",
       "     'relatedness': {'relatedness': 0.37993,\n",
       "      'foreground_popularity': 0.00277,\n",
       "      'background_popularity': 0.00564}},\n",
       "    {'val': 'zeitweise',\n",
       "     'count': 19,\n",
       "     'relatedness': {'relatedness': 0.35736,\n",
       "      'foreground_popularity': 0.00195,\n",
       "      'background_popularity': 0.00328}},\n",
       "    {'val': 'nachts',\n",
       "     'count': 17,\n",
       "     'relatedness': {'relatedness': 0.35546,\n",
       "      'foreground_popularity': 0.00174,\n",
       "      'background_popularity': 0.00267}},\n",
       "    {'val': 'bewoelkung',\n",
       "     'count': 11,\n",
       "     'relatedness': {'relatedness': 0.3548,\n",
       "      'foreground_popularity': 0.00113,\n",
       "      'background_popularity': 0.00113}}]}}}"
      ]
     },
     "execution_count": 35,
     "metadata": {},
     "output_type": "execute_result"
    }
   ],
   "source": [
    "response"
   ]
  },
  {
   "cell_type": "code",
   "execution_count": 36,
   "id": "1b0b7306-294b-4b6f-b747-8e67fea421c0",
   "metadata": {},
   "outputs": [
    {
     "data": {
      "text/html": [
       "<h3>Anzahl Treffer: 67</h3><h3>Facetten</h3><b>wetter: 67</b> (0.62119)<br><b>grad: 61</b> (0.61713)<br><b>bewoelkt: 36</b> (0.53534)<br><b>regen: 46</b> (0.53433)<br><b>aussichten: 43</b> (0.51586)<br><b>trocken: 28</b> (0.48024)<br><b>hoechstwerte: 26</b> (0.47953)<br><b>hoechsttemperaturen: 25</b> (0.47342)<br><b>wolkig: 20</b> (0.44004)<br><b>schauer: 20</b> (0.4329)<br><b>sonnig: 19</b> (0.43261)<br><b>tiefstwerte: 19</b> (0.43261)<br><b>norden: 30</b> (0.41828)<br><b>heiter: 19</b> (0.41139)<br><b>vorhersage: 18</b> (0.40963)<br><b>schauern: 14</b> (0.38911)<br><b>sueden: 27</b> (0.37993)<br><b>zeitweise: 19</b> (0.35736)<br><b>nachts: 17</b> (0.35546)<br><b>bewoelkung: 11</b> (0.3548)<br>"
      ],
      "text/plain": [
       "<IPython.core.display.HTML object>"
      ]
     },
     "execution_count": 36,
     "metadata": {},
     "output_type": "execute_result"
    }
   ],
   "source": [
    "html_str = '<h3>Anzahl Treffer: ' + str(response['response']['numFound']) + '</h3>'\n",
    "html_str += '<h3>Facetten</h3>'\n",
    "\n",
    "for bucket in response[\"facets\"][\"facet_field\"][\"buckets\"]:\n",
    "    # if len(bucket[\"val\"]) < 100:\n",
    "    html_str += \"<b>\" + bucket[\"val\"] + \": \" + str(bucket[\"count\"]) + \"</b> (\" + str(bucket[\"relatedness\"][\"relatedness\"]) + ')<br>'\n",
    "\n",
    "HTML(html_str)"
   ]
  },
  {
   "cell_type": "code",
   "execution_count": 38,
   "id": "54d9236e-6321-4fa8-ae51-f459edb16b02",
   "metadata": {},
   "outputs": [],
   "source": [
    "request = {\n",
    "    \"query\": \"'wetter^0.62 grad^0.61 bewoelkt^0.53 regen^0.53'\",\n",
    "    \"params\": {\n",
    "        \"df\": ['text'],\n",
    "        \"fore\": \"{!type=$defType qf=$qf v=$q}\",\n",
    "        \"back\": \"*:*\",\n",
    "        \"defType\": \"edismax\",\n",
    "        \"mm\": 2,        \n",
    "        \"rows\": 10,\n",
    "        \"qf\": \"text\",\n",
    "        \"echoParams\": \"none\",\n",
    "        \"omitHeader\": \"true\"\n",
    "    }\n",
    "}\n",
    "# request"
   ]
  },
  {
   "cell_type": "code",
   "execution_count": 39,
   "id": "f3b9ef22-af88-42a8-9b6a-de342a7a3c3f",
   "metadata": {},
   "outputs": [],
   "source": [
    "solr_url = 'http://localhost:8983/solr/'\n",
    "response = requests.post(f\"{solr_url}{collection}/select\", json=request).json()\n",
    "# response"
   ]
  },
  {
   "cell_type": "code",
   "execution_count": 40,
   "id": "a9ce21ec-028d-44d1-8373-51f819801199",
   "metadata": {},
   "outputs": [
    {
     "data": {
      "text/html": [
       "<h3>Anzahl Treffer: 56</h3><h3>Dokumente</h3><br><b>date</b><br>1997-11-15<br><b>title</b><br>Das Wetter <br><b>facet_field</b><br>Das Wetter Abends und nachst zunaechst in Sueddeutschland gering bewoelkt und Tiefsttemperaturen bis nahe null Grad. Sonst stark bewoelkt und gelegentlich Regen und Tiefsttemperaturen zwischen 8 und 3 Grad. Am Sonntag ruhiges und truebes Wetter, nur oestlich der Elbe und in Nordwestdeutschland nachmittags Aufheiterungen. Hoechsttemperaturen 5 bis 10 Grad, in der Koelner Bucht bis 12 Grad.  <br><b>text</b><br>Abends und nachst zunaechst in Sueddeutschland gering bewoelkt und Tiefsttemperaturen bis nahe null Grad. Sonst stark bewoelkt und gelegentlich Regen und Tiefsttemperaturen zwischen 8 und 3 Grad. Am Sonntag ruhiges und truebes Wetter, nur oestlich der Elbe und in Nordwestdeutschland nachmittags Aufheiterungen. Hoechsttemperaturen 5 bis 10 Grad, in der Koelner Bucht bis 12 Grad.  <hr/><br><b>date</b><br>1996-11-01<br><b>title</b><br>Das Wetter <br><b>facet_field</b><br>Das Wetter Im Norden wiederholt stark bewoelkt und Regen oder Schauer. In Sueddeutschland vormittags Regen, nachmittags heitere Abschnitte und nur vereinzelt Schauer. Hoechsttemperaturen 10 bis 15 Grad, naechtliche Tiefstwerte 10 bis 4 Grad. Die Aussichten: im Sueden oertliche Nebelfelder, sonst meist heiter und trocken. In Norddeutschland wechselnd, vielfach stark bewoelkt mit Regen oder Schauern, wenig geaenderte Temperaturen.  <br><b>text</b><br>Im Norden wiederholt stark bewoelkt und Regen oder Schauer. In Sueddeutschland vormittags Regen, nachmittags heitere Abschnitte und nur vereinzelt Schauer. Hoechsttemperaturen 10 bis 15 Grad, naechtliche Tiefstwerte 10 bis 4 Grad. Die Aussichten: im Sueden oertliche Nebelfelder, sonst meist heiter und trocken. In Norddeutschland wechselnd, vielfach stark bewoelkt mit Regen oder Schauern, wenig geaenderte Temperaturen.  <hr/><br><b>date</b><br>1998-03-25<br><b>title</b><br>Das Wetter <br><b>facet_field</b><br>Das Wetter Kommende Nacht gering bewoelkt oder klar, nochmals verbreitet Frost zwischen 2- und -9 Grad. Morgen erst sonnig oder locker bewoelkt, spaeter im Nordwesten staerker bewoelkt, und am Nachmittag von der Nordsee aufkommender Regen. Hoechsttemperaturen 10 - 13 Grad.  <br><b>text</b><br>Kommende Nacht gering bewoelkt oder klar, nochmals verbreitet Frost zwischen 2- und -9 Grad. Morgen erst sonnig oder locker bewoelkt, spaeter im Nordwesten staerker bewoelkt, und am Nachmittag von der Nordsee aufkommender Regen. Hoechsttemperaturen 10 - 13 Grad.  <hr/><br><b>date</b><br>1996-11-11<br><b>title</b><br>Das Wetter <br><b>facet_field</b><br>Das Wetter Im Suedosten zeitweise Foehn und hier bis 17 Grad, sonst ueberwiegend stark bewoelkt, zeitweise Regen und bis 12 Grad. Die weiteren Aussichten: wiederholt Regen, im Suedosten noch zeitweise Foehn. Hoechstwerte zwischen 8 Grad im Norden und nahe 20 Grad bei anhaltendem Foehn.  <br><b>text</b><br>Im Suedosten zeitweise Foehn und hier bis 17 Grad, sonst ueberwiegend stark bewoelkt, zeitweise Regen und bis 12 Grad. Die weiteren Aussichten: wiederholt Regen, im Suedosten noch zeitweise Foehn. Hoechstwerte zwischen 8 Grad im Norden und nahe 20 Grad bei anhaltendem Foehn.  <hr/><br><b>date</b><br>1997-02-02<br><b>title</b><br>Das Wetter <br><b>facet_field</b><br>Das Wetter Heute meist heiter bis wolkig und trocken. Hoechsttemperaturen bis +4 Grad. Abends und Nachts in der Westhaelfte einsetzender Schneefall, Tiefstwerte 0 bis -10 Grad. Morgen im Osten bedeckt und Schneefall, teilweise in Regen uebergehend. Im Westen meist trocken. Tagestemperaturen wenig veraendert. Die weiteren Aussichten: Am Dienstag im Norden bedeckt und zeitweise Regen. Im Sueden teils heiter, teils bewoelkt und trocken. Am Mittwoch wechselnd bewoelkt und erneut Regen, in den Hochlagen Schnee. Tagsueber 2 bis 5 Grad, nachts leichter Frost.  <br><b>text</b><br>Heute meist heiter bis wolkig und trocken. Hoechsttemperaturen bis +4 Grad. Abends und Nachts in der Westhaelfte einsetzender Schneefall, Tiefstwerte 0 bis -10 Grad. Morgen im Osten bedeckt und Schneefall, teilweise in Regen uebergehend. Im Westen meist trocken. Tagestemperaturen wenig veraendert. Die weiteren Aussichten: Am Dienstag im Norden bedeckt und zeitweise Regen. Im Sueden teils heiter, teils bewoelkt und trocken. Am Mittwoch wechselnd bewoelkt und erneut Regen, in den Hochlagen Schnee. Tagsueber 2 bis 5 Grad, nachts leichter Frost.  <hr/><br><b>date</b><br>1996-10-04<br><b>title</b><br>Das Wetter <br><b>facet_field</b><br>Das Wetter Im Sueden, sowie in Sachsen und Thueringen heiter. Insgesamt zunehmend bewoelkt aber trocken. In den anderen Gebieten von Nordwesten her Regen. Hoechstwerte 12 bis 18 Grad. Tiefstwerte morgen frueh 10 bis 4 Grad. Schwacher bis maessiger, in freien Lagen und an der Kueste starker Wind aus Sued bis Suedwest. Die weiteren Aussichten: Morgen in Bayern, Thueringen und Sachsen Regen. Im Norden und Westen wechselnd bewoelkt und weitgehend trocken. Am Sonntag im Norden nach Nebelaufloesung sonnig, im Sueden bewoelkt und noch etwas Regen.  <br><b>text</b><br>Im Sueden, sowie in Sachsen und Thueringen heiter. Insgesamt zunehmend bewoelkt aber trocken. In den anderen Gebieten von Nordwesten her Regen. Hoechstwerte 12 bis 18 Grad. Tiefstwerte morgen frueh 10 bis 4 Grad. Schwacher bis maessiger, in freien Lagen und an der Kueste starker Wind aus Sued bis Suedwest. Die weiteren Aussichten: Morgen in Bayern, Thueringen und Sachsen Regen. Im Norden und Westen wechselnd bewoelkt und weitgehend trocken. Am Sonntag im Norden nach Nebelaufloesung sonnig, im Sueden bewoelkt und noch etwas Regen.  <hr/><br><b>date</b><br>1996-12-21<br><b>title</b><br>Das Wetter <br><b>facet_field</b><br>Das Wetter In der Nordhaelfte ueberwiegend sonnig, etwa suedlich von Mosel und Main bewoelkt, aber nur am Oberrhein sowie suedlich der Donau gelegentlich Regen oder Schnee. Hoechstwerte im Norden um -6 Grad im Sueden um +2. Tiefstwerte in der Nacht 0 bis -15 Grad. Die weiteren Aussichten bis Dienstag: Im Sueden und Suedwesten stark bewoelkt und zeitweise Regen oder Schnee. Im Norden heiter bis wolkig und weitgehend trocken.  <br><b>text</b><br>In der Nordhaelfte ueberwiegend sonnig, etwa suedlich von Mosel und Main bewoelkt, aber nur am Oberrhein sowie suedlich der Donau gelegentlich Regen oder Schnee. Hoechstwerte im Norden um -6 Grad im Sueden um +2. Tiefstwerte in der Nacht 0 bis -15 Grad. Die weiteren Aussichten bis Dienstag: Im Sueden und Suedwesten stark bewoelkt und zeitweise Regen oder Schnee. Im Norden heiter bis wolkig und weitgehend trocken.  <hr/><br><b>date</b><br>1996-10-27<br><b>title</b><br>Das Wetter <br><b>facet_field</b><br>Das Wetter Die Lage: nach kurzem Zwischenhocheinfluss ueberqueren am Abend und in der Nacht Auslaeufer eines kraeftigen Tiefs bei Schottland Deutschland. Sie fuehren Meeresluft subtropischen Urspungs heran. Die Vorhersage: in Nordwestdeutschland Bewoelkungsverdichtung und ab Mittag Regen. Sonst zunaechst wolkig, in der Osthaelfte wolkig und meist trocken. Hoechsttemperaturen 12 bis 17 Grad. In der Nacht stark bewoelkt. Vor allem in der Nordhaelfte Regen und stark auffrischender Suedwestwind. Tiefsttemperaturen zwischen 12 und 6 Grad. Die weiteren Aussichten: Morgen in Norddeutschland stark bewoelkt und Regen, Hoechsttemperaturen um 15 Grad. Nach Sueden zu Aufheiterungen und Temperaturanstieg bis nahe 20 Grad. Am Dienstag verbreitet Schauer, wieder kuehler. Starker bis stuermischer Suedwest- bis Westwind.  <br><b>text</b><br>Die Lage: nach kurzem Zwischenhocheinfluss ueberqueren am Abend und in der Nacht Auslaeufer eines kraeftigen Tiefs bei Schottland Deutschland. Sie fuehren Meeresluft subtropischen Urspungs heran. Die Vorhersage: in Nordwestdeutschland Bewoelkungsverdichtung und ab Mittag Regen. Sonst zunaechst wolkig, in der Osthaelfte wolkig und meist trocken. Hoechsttemperaturen 12 bis 17 Grad. In der Nacht stark bewoelkt. Vor allem in der Nordhaelfte Regen und stark auffrischender Suedwestwind. Tiefsttemperaturen zwischen 12 und 6 Grad. Die weiteren Aussichten: Morgen in Norddeutschland stark bewoelkt und Regen, Hoechsttemperaturen um 15 Grad. Nach Sueden zu Aufheiterungen und Temperaturanstieg bis nahe 20 Grad. Am Dienstag verbreitet Schauer, wieder kuehler. Starker bis stuermischer Suedwest- bis Westwind.  <hr/><br><b>date</b><br>1997-04-27<br><b>title</b><br>Das Wetter <br><b>facet_field</b><br>Das Wetter Die Lage: Atlantische Tiefauslaeufer lenken milde und wolkenreiche Meeresluft in den groessten Teil Deutschlands. Nur die Gebiete nordoestlich der Elbe verbleiben heute noch unter Hochdruckeinfluss. Die Vorhersage: Heute nordwestlich der Elbe heiter bis wolkig, meist trocken und 17 bis 20 Grad. Im uebrigen Deutschland stark bewoelkt mit Schauern und Gewittern. Hoechstwerte 12 bis 19 Grad. Nachts nachlassende Schauer. Abkuehlung auf 10 bis 5 Grad. Morgen im Nordosten heiter bis wolkig und kaum Regen. Sonst weiterhin stark bewoelkt und insbesondere nachmittags im Westen wieder Regen. Tagestemperaturen 13 bis 21 Grad. Die weiteren Aussichten: Am Dienstag bedeckt und zeitweise Regen. Am Mittwoch voruebergehende Besserung. Weiterhin mild.  <br><b>text</b><br>Die Lage: Atlantische Tiefauslaeufer lenken milde und wolkenreiche Meeresluft in den groessten Teil Deutschlands. Nur die Gebiete nordoestlich der Elbe verbleiben heute noch unter Hochdruckeinfluss. Die Vorhersage: Heute nordwestlich der Elbe heiter bis wolkig, meist trocken und 17 bis 20 Grad. Im uebrigen Deutschland stark bewoelkt mit Schauern und Gewittern. Hoechstwerte 12 bis 19 Grad. Nachts nachlassende Schauer. Abkuehlung auf 10 bis 5 Grad. Morgen im Nordosten heiter bis wolkig und kaum Regen. Sonst weiterhin stark bewoelkt und insbesondere nachmittags im Westen wieder Regen. Tagestemperaturen 13 bis 21 Grad. Die weiteren Aussichten: Am Dienstag bedeckt und zeitweise Regen. Am Mittwoch voruebergehende Besserung. Weiterhin mild.  <hr/><br><b>date</b><br>1998-10-15<br><b>title</b><br>Wetter <br><b>facet_field</b><br>Wetter Nachts in der Nordhaelfte teilweise gering bewoelkt, am Oberrhein und im bayerischen Wald nachlassender Regen. Tiefstwerte 11 - 6 Grad. Morgen nach oertlichem Nebel Wechsel zwischen Sonne und Wolken, Hoechsttemperaturen 10 - 18 Grad.  <br><b>text</b><br>Nachts in der Nordhaelfte teilweise gering bewoelkt, am Oberrhein und im bayerischen Wald nachlassender Regen. Tiefstwerte 11 - 6 Grad. Morgen nach oertlichem Nebel Wechsel zwischen Sonne und Wolken, Hoechsttemperaturen 10 - 18 Grad.  <hr/>"
      ],
      "text/plain": [
       "<IPython.core.display.HTML object>"
      ]
     },
     "execution_count": 40,
     "metadata": {},
     "output_type": "execute_result"
    }
   ],
   "source": [
    "html_str = '<h3>Anzahl Treffer: ' + str(response['response']['numFound']) + '</h3>'\n",
    "html_str += '<h3>Dokumente</h3>'\n",
    "\n",
    "docs = response[\"response\"][\"docs\"]\n",
    "\n",
    "for doc in docs:\n",
    "    for key in doc.keys():\n",
    "        value = doc[key]\n",
    "        html_str += '<br><b>' + key + '</b><br>'\n",
    "        if isinstance(value,list):\n",
    "            for elt in value:\n",
    "                html_str += (elt.replace('\\\\n', '').replace(\", '\", \"'\"))\n",
    "        else:\n",
    "            html_str += (value.replace('\\\\n', '').replace(\", '\", \"'\"))\n",
    "    html_str += '<hr/>'\n",
    "HTML(html_str)"
   ]
  }
 ],
 "metadata": {
  "kernelspec": {
   "display_name": "Python 3 (ipykernel)",
   "language": "python",
   "name": "python3"
  },
  "language_info": {
   "codemirror_mode": {
    "name": "ipython",
    "version": 3
   },
   "file_extension": ".py",
   "mimetype": "text/x-python",
   "name": "python",
   "nbconvert_exporter": "python",
   "pygments_lexer": "ipython3",
   "version": "3.10.12"
  }
 },
 "nbformat": 4,
 "nbformat_minor": 5
}
