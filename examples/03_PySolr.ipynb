{
 "cells": [
  {
   "cell_type": "markdown",
   "id": "d772938e-f182-427a-aea4-c7754dd911d1",
   "metadata": {},
   "source": [
    "# APIs"
   ]
  },
  {
   "cell_type": "markdown",
   "id": "0c1a8e97-8f41-4545-99cf-e9ac060b9f1a",
   "metadata": {},
   "source": [
    "The admin GUI and the post script are a practical interface for operating Solr.\n",
    "But ultimately we need an API to connect Solr to our programs.\n",
    "\n",
    "Here we show the Python library pysolr as a representative of all APIs. It is already installed on the virtual machine.\n",
    "Further libraries for Java (SolrJ), JavaScript and Ruby"
   ]
  },
  {
   "cell_type": "markdown",
   "id": "7d8b6935-8d2c-46cd-819c-23a7c0094377",
   "metadata": {},
   "source": [
    "## Index"
   ]
  },
  {
   "cell_type": "code",
   "execution_count": 4,
   "id": "723f5329-de3d-44de-899c-34e7c96ac8e7",
   "metadata": {},
   "outputs": [
    {
     "data": {
      "text/plain": [
       "'<?xml version=\"1.0\" encoding=\"UTF-8\"?>\\n<response>\\n\\n<lst name=\"responseHeader\">\\n  <int name=\"status\">0</int>\\n  <int name=\"QTime\">3</int>\\n</lst>\\n</response>\\n'"
      ]
     },
     "execution_count": 4,
     "metadata": {},
     "output_type": "execute_result"
    }
   ],
   "source": [
    "import pysolr\n",
    "\n",
    "# Create a Solr instance. Wie do not configer Ti \n",
    "# Eine Solr-Instanz kreieren. We configure neither timeout nor authentication.\n",
    "# Note: always_commit=True writes the documents to the core immediately. The parameter is\n",
    "# False by default. This procedure is practical, but comes at the expense of performance.\n",
    "solr = pysolr.Solr('http://localhost:8983/solr/HelloWorld', always_commit=True)\n",
    "\n",
    "\n",
    "# We add two more du to this core\n",
    "\n",
    "solr.add([\n",
    "    {\n",
    "        \"id\": \"Noch ein weiteres Dokument\",\n",
    "        \"content\": \"Statt Dokument, sagt man Dokumentationseinheit oder DE\"\n",
    "    },\n",
    "    {\n",
    "        \"id\": \"Und schon wieder ein DE\",\n",
    "        \"content\": \"DE sind auf Englisch DU, also Documentation Units\"\n",
    "    },\n",
    "])\n",
    "solr.commit()\n",
    "\n",
    "# In the ADMIN interface, we check whether the two documents have been inserted."
   ]
  },
  {
   "cell_type": "markdown",
   "id": "b64ff675-69cf-4ada-993e-a867bfc49c73",
   "metadata": {},
   "source": [
    "## Query"
   ]
  },
  {
   "cell_type": "code",
   "execution_count": 8,
   "id": "5e0d0356-b64b-4a23-b0b7-96579513b808",
   "metadata": {},
   "outputs": [
    {
     "data": {
      "text/plain": [
       "{'responseHeader': {'status': 400,\n",
       "  'QTime': 1,\n",
       "  'params': {'json': '{\"query\": \"Inhalt\", \"fields\": [\"id\", \"content\"], \"limit\": 5, \"params\": {\"qf\": \"content\", \"defType\": \"edismax\", \"indent\": \"true\", \"sort\": \"score desc\"}}'}},\n",
       " 'error': {'metadata': ['error-class',\n",
       "   'org.apache.solr.common.SolrException',\n",
       "   'root-error-class',\n",
       "   'org.apache.solr.common.SolrException'],\n",
       "  'msg': \"no field name specified in query and no default specified via 'df' param\",\n",
       "  'code': 400}}"
      ]
     },
     "execution_count": 8,
     "metadata": {},
     "output_type": "execute_result"
    }
   ],
   "source": [
    "import requests\n",
    "from IPython.display import display,HTML\n",
    "\n",
    "\n",
    "solr_url = 'http://localhost:8983/solr/'\n",
    "collection = \"HelloWorld\"\n",
    "string = {\n",
    "    \"query\": \"Inhalt\",\n",
    "    \"fields\": [\"id\", \"content\"],\n",
    "    \"limit\": 5,\n",
    "    \"params\": {\n",
    "        \"qf\": \"content\",\n",
    "        \"defType\": \"edismax\",\n",
    "        \"indent\": \"true\",\n",
    "        \"sort\": \"score desc\",\n",
    "        \"qf\": \"content\"\n",
    "    }\n",
    "}\n",
    "\n",
    "docs = requests.post(solr_url + collection + \"/select\", json=string).json()\n",
    "docs\n",
    "#[\"response\"][\"docs\"]\n"
   ]
  },
  {
   "cell_type": "code",
   "execution_count": null,
   "id": "45c4b327-539e-4139-860e-657a0984428e",
   "metadata": {},
   "outputs": [],
   "source": [
    "# response = json.load(connection)\n",
    "response = str(requests.post(solr_url + collection + \"/select\", json=string).json()[\"response\"][\"docs\"]).replace('\\\\n', '').replace(\", '\", \",<br/>'\")\n",
    "# print(response)\n",
    "display(HTML(response))\n",
    "\n",
    "# We can prepare the content of the response for display in the GUI\n",
    "# We simply show the content here"
   ]
  }
 ],
 "metadata": {
  "kernelspec": {
   "display_name": "Python 3 (ipykernel)",
   "language": "python",
   "name": "python3"
  },
  "language_info": {
   "codemirror_mode": {
    "name": "ipython",
    "version": 3
   },
   "file_extension": ".py",
   "mimetype": "text/x-python",
   "name": "python",
   "nbconvert_exporter": "python",
   "pygments_lexer": "ipython3",
   "version": "3.10.12"
  }
 },
 "nbformat": 4,
 "nbformat_minor": 5
}
