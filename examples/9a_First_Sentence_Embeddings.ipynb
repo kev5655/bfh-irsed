{
 "cells": [
  {
   "cell_type": "markdown",
   "id": "2c850687-c0e3-48a3-89af-325b45767a71",
   "metadata": {},
   "source": [
    "# First Sentence Embeddings\n",
    "In this notebook, we try out our first sentence embeddings.\n"
   ]
  },
  {
   "cell_type": "markdown",
   "id": "d9f3885e-5584-409e-b9a1-40b0127968ef",
   "metadata": {},
   "source": [
    "Install the Hugging Face sentence_transformers package and all its dependencies."
   ]
  },
  {
   "cell_type": "code",
   "execution_count": null,
   "id": "a107ec88-f581-4ca3-a52a-21bb752668e7",
   "metadata": {},
   "outputs": [],
   "source": [
    "!pip install sentence_transformers"
   ]
  },
  {
   "cell_type": "markdown",
   "id": "1e407d26-ac1b-4986-93f1-2e9bcbe164cc",
   "metadata": {},
   "source": [
    "Import the SentenceTransformer library (https://www.sbert.net/)"
   ]
  },
  {
   "cell_type": "code",
   "execution_count": 1,
   "id": "1c646a58-e39d-428b-92e3-bb8aedc97c5b",
   "metadata": {},
   "outputs": [],
   "source": [
    "from sentence_transformers import SentenceTransformer"
   ]
  },
  {
   "cell_type": "markdown",
   "id": "d59b571e-174c-4ec9-b8c6-1cfc93e01f72",
   "metadata": {},
   "source": [
    "Create an instance of the model Snowflake/snowflake-arctic-embed-xs\n",
    "\n",
    "The model is hosted on Hugging Face https://huggingface.co/Snowflake/snowflake-arctic-embed-xs\n"
   ]
  },
  {
   "cell_type": "code",
   "execution_count": 2,
   "id": "67e2a785-1f06-45f6-89fe-11b0a6b346b3",
   "metadata": {},
   "outputs": [
    {
     "data": {
      "application/vnd.jupyter.widget-view+json": {
       "model_id": "35978c11396247bfb666ef02f20a9c36",
       "version_major": 2,
       "version_minor": 0
      },
      "text/plain": [
       "modules.json:   0%|          | 0.00/349 [00:00<?, ?B/s]"
      ]
     },
     "metadata": {},
     "output_type": "display_data"
    },
    {
     "data": {
      "application/vnd.jupyter.widget-view+json": {
       "model_id": "5c71d0fe9a7c47588e575a44ef597549",
       "version_major": 2,
       "version_minor": 0
      },
      "text/plain": [
       "config_sentence_transformers.json:   0%|          | 0.00/252 [00:00<?, ?B/s]"
      ]
     },
     "metadata": {},
     "output_type": "display_data"
    },
    {
     "data": {
      "application/vnd.jupyter.widget-view+json": {
       "model_id": "9a9500ef86e440d1a55aeb95bd588fa8",
       "version_major": 2,
       "version_minor": 0
      },
      "text/plain": [
       "README.md:   0%|          | 0.00/85.2k [00:00<?, ?B/s]"
      ]
     },
     "metadata": {},
     "output_type": "display_data"
    },
    {
     "data": {
      "application/vnd.jupyter.widget-view+json": {
       "model_id": "077eaa83f021451e8e796f67b37c334c",
       "version_major": 2,
       "version_minor": 0
      },
      "text/plain": [
       "sentence_bert_config.json:   0%|          | 0.00/107 [00:00<?, ?B/s]"
      ]
     },
     "metadata": {},
     "output_type": "display_data"
    },
    {
     "data": {
      "application/vnd.jupyter.widget-view+json": {
       "model_id": "bd136793dbf6499a8d1f8fed8d596ea3",
       "version_major": 2,
       "version_minor": 0
      },
      "text/plain": [
       "config.json:   0%|          | 0.00/737 [00:00<?, ?B/s]"
      ]
     },
     "metadata": {},
     "output_type": "display_data"
    },
    {
     "data": {
      "application/vnd.jupyter.widget-view+json": {
       "model_id": "1887a9701fab4d4481d83ced72ac8431",
       "version_major": 2,
       "version_minor": 0
      },
      "text/plain": [
       "model.safetensors:   0%|          | 0.00/90.3M [00:00<?, ?B/s]"
      ]
     },
     "metadata": {},
     "output_type": "display_data"
    },
    {
     "data": {
      "application/vnd.jupyter.widget-view+json": {
       "model_id": "62c45c29afcb44079c2eda2afc3b0782",
       "version_major": 2,
       "version_minor": 0
      },
      "text/plain": [
       "tokenizer_config.json:   0%|          | 0.00/1.43k [00:00<?, ?B/s]"
      ]
     },
     "metadata": {},
     "output_type": "display_data"
    },
    {
     "data": {
      "application/vnd.jupyter.widget-view+json": {
       "model_id": "3ce5ed81b0844aed911d8ede262222ff",
       "version_major": 2,
       "version_minor": 0
      },
      "text/plain": [
       "vocab.txt:   0%|          | 0.00/232k [00:00<?, ?B/s]"
      ]
     },
     "metadata": {},
     "output_type": "display_data"
    },
    {
     "data": {
      "application/vnd.jupyter.widget-view+json": {
       "model_id": "a43fe519b883483097c5bf27a565198f",
       "version_major": 2,
       "version_minor": 0
      },
      "text/plain": [
       "tokenizer.json:   0%|          | 0.00/712k [00:00<?, ?B/s]"
      ]
     },
     "metadata": {},
     "output_type": "display_data"
    },
    {
     "data": {
      "application/vnd.jupyter.widget-view+json": {
       "model_id": "bb228bcd452e468f902913c47831071e",
       "version_major": 2,
       "version_minor": 0
      },
      "text/plain": [
       "special_tokens_map.json:   0%|          | 0.00/695 [00:00<?, ?B/s]"
      ]
     },
     "metadata": {},
     "output_type": "display_data"
    },
    {
     "data": {
      "application/vnd.jupyter.widget-view+json": {
       "model_id": "3a8dd9e2504b4f459106db1eea2ccfeb",
       "version_major": 2,
       "version_minor": 0
      },
      "text/plain": [
       "config.json:   0%|          | 0.00/296 [00:00<?, ?B/s]"
      ]
     },
     "metadata": {},
     "output_type": "display_data"
    }
   ],
   "source": [
    "model = SentenceTransformer(\"Snowflake/snowflake-arctic-embed-xs\")"
   ]
  },
  {
   "cell_type": "markdown",
   "id": "50aacf64-6cec-4ae9-82b5-57fc941d591a",
   "metadata": {},
   "source": [
    "Setup two arrays of strings:\n",
    "- two query strings\n",
    "- two very short document strings"
   ]
  },
  {
   "cell_type": "code",
   "execution_count": 3,
   "id": "f583106e-57f1-467e-b394-f1d6925d8da6",
   "metadata": {},
   "outputs": [],
   "source": [
    "queries = ['what is snowflake?', 'Where can I get the best tacos?']\n",
    "documents = ['The Data Cloud!', 'Mexico City of Course!']"
   ]
  },
  {
   "cell_type": "markdown",
   "id": "78257c53-a301-4a6f-808d-5862e0033043",
   "metadata": {},
   "source": [
    "Generate the embeddings for all strings and put them into two new arrays."
   ]
  },
  {
   "cell_type": "markdown",
   "id": "24248909-6124-4223-a0a7-13f8aa9f1bd1",
   "metadata": {},
   "source": [
    "The prompt_name parameter is explained in the source code: https://github.com/UKPLab/sentence-transformers/blob/master/sentence_transformers/SentenceTransformer.py#L274\n",
    "<pre>\n",
    "prompts (Dict[str, str], optional): A dictionary with prompts for the model. The key is the prompt name, the value is the prompt text.\n",
    "            The prompt text will be prepended before any text to encode. For example:\n",
    "            `{\"query\": \"query: \", \"passage\": \"passage: \"}` or `{\"clustering\": \"Identify the main category based on the\n",
    "            titles in \"}`\n",
    "</pre>\n"
   ]
  },
  {
   "cell_type": "code",
   "execution_count": 4,
   "id": "c1d2054c-baed-44ba-bc96-53a6c5be6b51",
   "metadata": {},
   "outputs": [],
   "source": [
    "query_embeddings = model.encode(queries, prompt_name=\"query\")\n",
    "document_embeddings = model.encode(documents)"
   ]
  },
  {
   "cell_type": "markdown",
   "id": "b638463d-33d2-474d-9983-eed26fb7bdb4",
   "metadata": {},
   "source": [
    "Find out the dimension of an embedding"
   ]
  },
  {
   "cell_type": "markdown",
   "id": "f5439bd8-cde1-475f-823c-81bb23f08160",
   "metadata": {},
   "source": [
    "Compute the scores:\n",
    "\n",
    "@ In Python, the @ operator performs matrix multiplication. \n",
    "\n",
    "T transposes the matrix document_embeddings (necessary for correct maths)"
   ]
  },
  {
   "cell_type": "code",
   "execution_count": 5,
   "id": "5856a309-2014-45d8-b352-5c0ebef88c02",
   "metadata": {},
   "outputs": [
    {
     "data": {
      "text/plain": [
       "384"
      ]
     },
     "execution_count": 5,
     "metadata": {},
     "output_type": "execute_result"
    }
   ],
   "source": [
    "len(query_embeddings[0])"
   ]
  },
  {
   "cell_type": "code",
   "execution_count": 6,
   "id": "5e9ab056-021b-4596-a070-9407a162bfc0",
   "metadata": {},
   "outputs": [],
   "source": [
    "scores = query_embeddings @ document_embeddings.T"
   ]
  },
  {
   "cell_type": "code",
   "execution_count": 7,
   "id": "ede9d419-486e-47e2-9a03-a2c582a11103",
   "metadata": {},
   "outputs": [
    {
     "data": {
      "text/plain": [
       "array([[0.57515126, 0.45798576],\n",
       "       [0.50448984, 0.563602  ]], dtype=float32)"
      ]
     },
     "execution_count": 7,
     "metadata": {},
     "output_type": "execute_result"
    }
   ],
   "source": [
    "scores"
   ]
  },
  {
   "cell_type": "markdown",
   "id": "72a7eccf-e5cd-4b3d-9626-eea4d66ecb2a",
   "metadata": {},
   "source": [
    "Output the results:\n",
    "\n",
    "Each query is scored with each document (more precisely: the query embeddings and the document embeddings)\n",
    "\n",
    "All four resulting scores are displayed"
   ]
  },
  {
   "cell_type": "code",
   "execution_count": 8,
   "id": "2011248c-2fb5-49b1-a2b7-3b4fb6e64af7",
   "metadata": {},
   "outputs": [
    {
     "name": "stdout",
     "output_type": "stream",
     "text": [
      "\n",
      "Query: what is snowflake?\n",
      "0.57515126 The Data Cloud!\n",
      "0.45798576 Mexico City of Course!\n",
      "\n",
      "Query: Where can I get the best tacos?\n",
      "0.563602 Mexico City of Course!\n",
      "0.50448984 The Data Cloud!\n"
     ]
    }
   ],
   "source": [
    "for query, query_scores in zip(queries, scores):\n",
    "    doc_score_pairs = list(zip(documents, query_scores))\n",
    "    doc_score_pairs = sorted(doc_score_pairs, key=lambda x: x[1], reverse=True)\n",
    "    # Output passages & scores\n",
    "    print(\"\")\n",
    "    print(\"Query:\", query)\n",
    "    for document, score in doc_score_pairs:\n",
    "        print(score, document)"
   ]
  },
  {
   "cell_type": "markdown",
   "id": "cb8dc659-17ca-47f1-80d4-7e63a89a96cb",
   "metadata": {},
   "source": [
    "#### Play with other queries and vectors:\n",
    "\n",
    "Repeat the steps above with the new texts"
   ]
  },
  {
   "cell_type": "code",
   "execution_count": null,
   "id": "e79bb8e8-a67c-4baf-84c1-42d4fac35cab",
   "metadata": {},
   "outputs": [],
   "source": [
    "queries = ['what is snowflake?', 'Where can I get the best tacos?']\n",
    "documents = ['The Data Cloud!', 'Mexico City of Course!', 'a software company', 'snow in winter']\n"
   ]
  },
  {
   "cell_type": "code",
   "execution_count": null,
   "id": "110d63a0-1090-4110-8d2a-53837c5e983b",
   "metadata": {},
   "outputs": [],
   "source": [
    "queries = ['Wie heisst die Hauptstadt der Schweiz?', 'Wie heisst die Hauptstadt Frankreichs', 'Wo isst man die besten Tacos?']\n",
    "documents = ['Bern ist eine schöne Stadt an der Aare', 'Mexico City of Course!', \n",
    "             'Viele Banken sind in Zürich', 'Die UNO ist in Genf', 'Paris ist die Hauptstadt Frankreichs', \n",
    "             'In Lyon fliessen zwei Flüsse zusammen']"
   ]
  },
  {
   "cell_type": "code",
   "execution_count": null,
   "id": "a4cb6d84-eb6c-427e-b687-bb04ec11d36d",
   "metadata": {},
   "outputs": [],
   "source": []
  }
 ],
 "metadata": {
  "kernelspec": {
   "display_name": ".venv",
   "language": "python",
   "name": "python3"
  },
  "language_info": {
   "codemirror_mode": {
    "name": "ipython",
    "version": 3
   },
   "file_extension": ".py",
   "mimetype": "text/x-python",
   "name": "python",
   "nbconvert_exporter": "python",
   "pygments_lexer": "ipython3",
   "version": "3.12.7"
  }
 },
 "nbformat": 4,
 "nbformat_minor": 5
}
