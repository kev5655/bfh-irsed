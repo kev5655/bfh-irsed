{
"cells": [
{
"cell_type": "markdown",
"id": "aed68269-0201-42a3-b71d-01ef8b6c7bf1",
"metadata": {
"id": "aed68269-0201-42a3-b71d-01ef8b6c7bf1"
},
"source": [
"# Extract Categories from FIFA-Texts"
]
},
{
"cell_type": "code",
"execution_count": 8,
"id": "8136ddfb-4f3a-4185-aba5-599ccd471d79",
"metadata": {
"id": "8136ddfb-4f3a-4185-aba5-599ccd471d79"
},
"outputs": [],
"source": [
"path = '/home/bfh/irsed/daten/FIFA/'"
]
},
{
"cell_type": "code",
"execution_count": 9,
"id": "2c3036b9-0d55-48c1-b3d1-f57d493d2ca0",
"metadata": {
"id": "2c3036b9-0d55-48c1-b3d1-f57d493d2ca0"
},
"outputs": [],
"source": [
"from bs4 import BeautifulSoup\n",
"import requests"
]
},
{
"cell_type": "code",
"execution_count": 10,
"id": "e1b45916-1c8f-47e9-b819-f764bcfe4392",
"metadata": {
"id": "e1b45916-1c8f-47e9-b819-f764bcfe4392"
},
"outputs": [],
"source": [
"web = 'https://en.wikipedia.org/wiki/2014_FIFA_World_Cup'\n",
"response = requests.get(web)\n",
"content = response.text\n",
"soup = BeautifulSoup(content, 'lxml')"
]
},
{
"cell_type": "code",
"execution_count": 11,
"id": "454709ae-0b55-421c-b290-570bda25669b",
"metadata": {
"id": "454709ae-0b55-421c-b290-570bda25669b",
"outputId": "00f3e813-b8f1-48dd-e6a3-1b7307dfebb4"
},
"outputs": [
{
"name": "stdout",
"output_type": "stream",
"text": [
"<th class=\"infobox-header\" colspan=\"2\">Tournament details</th>\n",
"<th class=\"infobox-header\" colspan=\"2\">Final positions</th>\n",
"<th class=\"infobox-header\" colspan=\"2\">Tournament statistics</th>\n"
]
}
],
"source": [
"# Find the subheadings - they can serve as superordinate categories\n",
"lines = soup.find('table', class_='infobox')\n",
"headers = lines.find_all('th', class_='infobox-header')\n",
"\n",
"for h in headers:\n",
"    print(h)"
]
},
{
"cell_type": "code",
"execution_count": 12,
"id": "ef2f7545-7503-4ecd-8f90-32a26370291f",
"metadata": {
"id": "ef2f7545-7503-4ecd-8f90-32a26370291f",
"outputId": "6fbd0436-5e57-4dec-c689-e0ee491477ce"
},
"outputs": [
{
"name": "stdout",
"output_type": "stream",
"text": [
"Copa do Mundo da FIFA Brasil 2014 (Brazilian Portuguese)\n",
"Juntos num só ritmo(lit. 'Together in a single rhythm')\n",
"Tournament details\n",
"Host countryBrazil\n",
"Dates12 June – 13 July\n",
"Teams32 (from 5 confederations)\n",
"Venue(s)12 (in 12 host cities)\n",
"Final positions\n",
"Champions Germany (4th title)\n",
"Runners-up Argentina\n",
"Third place Netherlands\n",
"Fourth place Brazil\n",
"Tournament statistics\n",
"Matches played64\n",
"Goals scored171 (2.67 per match)\n",
"Attendance3,429,873 (53,592 per match)\n",
"Top scorer(s) James Rodríguez(6 goals)[1]\n",
"Best player(s) Lionel Messi[2]\n",
"Best young player Paul Pogba[3]\n",
"Best goalkeeper Manuel Neuer[4]\n",
"Fair play award Colombia[5]\n",
"← 2010 2018 → \n"
]
}
],
"source": [
"# Find the subordinate categories\n",
"lines = soup.find('table', class_='infobox')\n",
"headers = lines.find_all('tr')\n",
"\n",
"for h in headers:\n",
"    s = h.getText()\n",
"    print(str(s))"
]
},
{
"cell_type": "code",
"execution_count": 13,
"id": "c67f61a8-3af8-4f21-a5fa-75be223eaad1",
"metadata": {
"id": "c67f61a8-3af8-4f21-a5fa-75be223eaad1"
},
"outputs": [],
"source": [
"\n",
"def clean_text(content):\n",
"    try:\n",
"        start = content.index('[')  #exption, if missing\n",
"        end = content.index(']')\n",
"        text = content[0:start]\n",
"        count = content[start+1:end]\n",
"        try:\n",
"            z = int(count)\n",
"            content = text\n",
"            # skip footnotes e.g. [42]\n",
"        except:\n",
"            pass\n",
"    except:\n",
"        pass\n",
"    return content"
]
},
{
"cell_type": "code",
"execution_count": 14,
"id": "71d93bae-a995-4b8f-851b-e0819b5b025e",
"metadata": {
"id": "71d93bae-a995-4b8f-851b-e0819b5b025e",
"outputId": "59aba316-b566-4581-90a0-da2c9211ae65"
},
"outputs": [
{
"name": "stdout",
"output_type": "stream",
"text": [
"1930\n",
"1934\n",
"1938\n",
"1950\n",
"1954\n",
"1958\n",
"1962\n",
"1966\n",
"1970\n",
"1974\n",
"1978\n",
"1982\n",
"1986\n",
"1990\n",
"1994\n",
"1998\n",
"2002\n",
"2006\n",
"2010\n",
"2014\n",
"2018\n",
"2022\n",
"Final positions/Champions\n",
"Final positions/Fourth place\n",
"Final positions/Runners-up\n",
"Final positions/Third place\n",
"Tournament details/Dates\n",
"Tournament details/Host countries\n",
"Tournament details/Host country\n",
"Tournament details/Teams\n",
"Tournament details/Venue(s)\n",
"Tournament statistics/Attendance\n",
"Tournament statistics/Best goalkeeper\n",
"Tournament statistics/Best player(s)\n",
"Tournament statistics/Best young player\n",
"Tournament statistics/Fair play award\n",
"Tournament statistics/Goals scored\n",
"Tournament statistics/Matches played\n",
"Tournament statistics/Top scorer(s)\n",
"<?xml version=\"1.0\" encoding=\"utf-8\"?>\n",
"<add><doc><field name=\"year\">1930</field><field name=\"Tournament details/Host country\">Uruguay</field><field name=\"Tournament details/Dates\">13–30 July</field><field name=\"Tournament details/Teams\">13 (from 3 confederations)</field><field name=\"Tournament details/Venue(s)\">3 (in 1 host city)</field><field name=\"Final positions/Champions\"> Uruguay (1st title)</field><field name=\"Final positions/Runners-up\"> Argentina</field><field name=\"Final positions/Third place\"> United States[nb 1]</field><field name=\"Final positions/Fourth place\"> Yugoslavia[nb 1]</field><field name=\"Tournament statistics/Matches played\">18</field><field name=\"Tournament statistics/Goals scored\">70 (3.89 per match)</field><field name=\"Tournament statistics/Attendance\">590,549 (32,808 per match)</field><field name=\"Tournament statistics/Top scorer(s)\"> Guillermo Stábile(8 goals)</field></doc><doc><field name=\"year\">1934</field><field name=\"Tournament details/Host country\">Italy</field><field name=\"Tournament details/Dates\">27 May – 10 June</field><field name=\"Tournament details/Teams\">16 (from 4 confederations)</field><field name=\"Tournament details/Venue(s)\">8 (in 8 host cities)</field><field name=\"Final positions/Champions\"> Italy (1st title)</field><field name=\"Final positions/Runners-up\"> Czechoslovakia</field><field name=\"Final positions/Third place\"> Germany</field><field name=\"Final positions/Fourth place\"> Austria</field><field name=\"Tournament statistics/Matches played\">17</field><field name=\"Tournament statistics/Goals scored\">70 (4.12 per match)</field><field name=\"Tournament statistics/Attendance\">363,000 (21,353 per match)</field><field name=\"Tournament statistics/Top scorer(s)\"> Oldřich Nejedlý(5 goals)</field></doc><doc><field name=\"year\">1938</field><field name=\"Tournament details/Host country\">France</field><field name=\"Tournament details/Dates\">4–19 June</field><field name=\"Tournament details/Teams\">15 (from 4 confederations)</field><field name=\"Tournament details/Venue(s)\">10 (in 9 host cities)</field><field name=\"Final positions/Champions\"> Italy (2nd title)</field><field name=\"Final positions/Runners-up\"> Hungary</field><field name=\"Final positions/Third place\"> Brazil</field><field name=\"Final positions/Fourth place\"> Sweden</field><field name=\"Tournament statistics/Matches played\">18</field><field name=\"Tournament statistics/Goals scored\">84 (4.67 per match)</field><field name=\"Tournament statistics/Attendance\">374,835 (20,824 per match)</field><field name=\"Tournament statistics/Top scorer(s)\"> Leônidas (7 goals)</field></doc><doc><field name=\"year\">1950</field><field name=\"Tournament details/Host country\">Brazil</field><field name=\"Tournament details/Dates\">24 June – 16 July</field><field name=\"Tournament details/Teams\">13 (from 3 confederations)</field><field name=\"Tournament details/Venue(s)\">6 (in 6 host cities)</field><field name=\"Final positions/Champions\"> Uruguay (2nd title)</field><field name=\"Final positions/Runners-up\"> Brazil</field><field name=\"Final positions/Third place\"> Sweden</field><field name=\"Final positions/Fourth place\"> Spain</field><field name=\"Tournament statistics/Matches played\">22</field><field name=\"Tournament statistics/Goals scored\">88 (4 per match)</field><field name=\"Tournament statistics/Attendance\">1,045,246 (47,511 per match)</field><field name=\"Tournament statistics/Top scorer(s)\"> Ademir (9 goals)</field></doc><doc><field name=\"year\">1954</field><field name=\"Tournament details/Host country\">Switzerland</field><field name=\"Tournament details/Dates\">16 June – 4 July</field><field name=\"Tournament details/Teams\">16 (from 4 confederations)</field><field name=\"Tournament details/Venue(s)\">6 (in 6 host cities)</field><field name=\"Final positions/Champions\"> West Germany (1st title)</field><field name=\"Final positions/Runners-up\"> Hungary</field><field name=\"Final positions/Third place\"> Austria</field><field name=\"Final positions/Fourth place\"> Uruguay</field><field name=\"Tournament statistics/Matches played\">26</field><field name=\"Tournament statistics/Goals scored\">140 (5.38 per match)</field><field name=\"Tournament statistics/Attendance\">768,607 (29,562 per match)</field><field name=\"Tournament statistics/Top scorer(s)\"> Sándor Kocsis (11 goals)</field></doc><doc><field name=\"year\">1958</field><field name=\"Tournament details/Host country\">Sweden</field><field name=\"Tournament details/Dates\">8–29 June</field><field name=\"Tournament details/Teams\">16 (from 3 confederations)</field><field name=\"Tournament details/Venue(s)\">12 (in 12 host cities)</field><field name=\"Final positions/Champions\"> Brazil (1st title)</field><field name=\"Final positions/Runners-up\"> Sweden</field><field name=\"Final positions/Third place\"> France</field><field name=\"Final positions/Fourth place\"> West Germany</field><field name=\"Tournament statistics/Matches played\">35</field><field name=\"Tournament statistics/Goals scored\">126 (3.6 per match)</field><field name=\"Tournament statistics/Attendance\">819,810 (23,423 per match)</field><field name=\"Tournament statistics/Top scorer(s)\"> Just Fontaine (13 goals)</field></doc><doc><field name=\"year\">1962</field><field name=\"Tournament details/Host country\">Chile</field><field name=\"Tournament details/Dates\">30 May – 17 June</field><field name=\"Tournament details/Teams\">16 (from 3 confederations)</field><field name=\"Tournament details/Venue(s)\">4 (in 4 host cities)</field><field name=\"Final positions/Champions\"> Brazil (2nd title)</field><field name=\"Final positions/Runners-up\"> Czechoslovakia</field><field name=\"Final positions/Third place\"> Chile</field><field name=\"Final positions/Fourth place\"> Yugoslavia</field><field name=\"Tournament statistics/Matches played\">32</field><field name=\"Tournament statistics/Goals scored\">89 (2.78 per match)</field><field name=\"Tournament statistics/Attendance\">893,172 (27,912 per match)</field><field name=\"Tournament statistics/Top scorer(s)\"> Garrincha Vavá Leonel Sánchez Flórián Albert Valentin Ivanov Dražan Jerković(4 goals each)</field></doc><doc><field name=\"year\">1966</field><field name=\"Tournament details/Host country\">England</field><field name=\"Tournament details/Dates\">11–30 July</field><field name=\"Tournament details/Teams\">16 (from 4 confederations)</field><field name=\"Tournament details/Venue(s)\">8 (in 7 host cities)</field><field name=\"Final positions/Champions\"> England (1st title)</field><field name=\"Final positions/Runners-up\"> West Germany</field><field name=\"Final positions/Third place\"> Portugal</field><field name=\"Final positions/Fourth place\"> Soviet Union</field><field name=\"Tournament statistics/Matches played\">32</field><field name=\"Tournament statistics/Goals scored\">89 (2.78 per match)</field><field name=\"Tournament statistics/Attendance\">1,563,135 (48,848 per match)</field><field name=\"Tournament statistics/Top scorer(s)\"> Eusébio (9 goals)</field></doc><doc><field name=\"year\">1970</field><field name=\"Tournament details/Host country\">Mexico</field><field name=\"Tournament details/Dates\">31 May – 21 June</field><field name=\"Tournament details/Teams\">16 (from 5 confederations)</field><field name=\"Tournament details/Venue(s)\">5 (in 5 host cities)</field><field name=\"Final positions/Champions\"> Brazil (3rd title)</field><field name=\"Final positions/Runners-up\"> Italy</field><field name=\"Final positions/Third place\"> West Germany</field><field name=\"Final positions/Fourth place\"> Uruguay</field><field name=\"Tournament statistics/Matches played\">32</field><field name=\"Tournament statistics/Goals scored\">95 (2.97 per match)</field><field name=\"Tournament statistics/Attendance\">1,604,065 (50,127 per match)</field><field name=\"Tournament statistics/Top scorer(s)\"> Gerd Müller (10 goals)</field><field name=\"Tournament statistics/Best young player\"> Teófilo Cubillas</field><field name=\"Tournament statistics/Fair play award\"> Peru</field></doc><doc><field name=\"year\">1974</field><field name=\"Tournament details/Host country\">West Germany \n",
"West Berlin</field><field name=\"Tournament details/Dates\">13 June – 7 July</field><field name=\"Tournament details/Teams\">16 (from 5 confederations)</field><field name=\"Tournament details/Venue(s)\">9 (in 9 host cities)</field><field name=\"Final positions/Champions\"> West Germany (2nd title)</field><field name=\"Final positions/Runners-up\"> Netherlands</field><field name=\"Final positions/Third place\"> Poland</field><field name=\"Final positions/Fourth place\"> Brazil</field><field name=\"Tournament statistics/Matches played\">38</field><field name=\"Tournament statistics/Goals scored\">97 (2.55 per match)</field><field name=\"Tournament statistics/Attendance\">1,865,762 (49,099 per match)</field><field name=\"Tournament statistics/Top scorer(s)\"> Grzegorz Lato (7 goals)</field><field name=\"Tournament statistics/Best young player\"> Władysław Żmuda[1]</field><field name=\"Tournament statistics/Fair play award\"> West Germany[1]</field></doc><doc><field name=\"year\">1978</field><field name=\"Tournament details/Host country\">Argentina</field><field name=\"Tournament details/Dates\">1–25 June</field><field name=\"Tournament details/Teams\">16 (from 5 confederations)</field><field name=\"Tournament details/Venue(s)\">6 (in 5 host cities)</field><field name=\"Final positions/Champions\"> Argentina (1st title)</field><field name=\"Final positions/Runners-up\"> Netherlands</field><field name=\"Final positions/Third place\"> Brazil</field><field name=\"Final positions/Fourth place\"> Italy</field><field name=\"Tournament statistics/Matches played\">38</field><field name=\"Tournament statistics/Goals scored\">102 (2.68 per match)</field><field name=\"Tournament statistics/Attendance\">1,545,791 (40,679 per match)</field><field name=\"Tournament statistics/Top scorer(s)\"> Mario Kempes (6 goals)</field><field name=\"Tournament statistics/Best player(s)\"> Mario Kempes[1]</field><field name=\"Tournament statistics/Best young player\"> Antonio Cabrini[2]</field><field name=\"Tournament statistics/Fair play award\"> Argentina[2]</field></doc><doc><field name=\"year\">1982</field><field name=\"Tournament details/Host country\">Spain</field><field name=\"Tournament details/Dates\">13 June – 11 July</field><field name=\"Tournament details/Teams\">24 (from 6 confederations)</field><field name=\"Tournament details/Venue(s)\">17 (in 14 host cities)</field><field name=\"Final positions/Champions\"> Italy (3rd title)</field><field name=\"Final positions/Runners-up\"> West Germany</field><field name=\"Final positions/Third place\"> Poland</field><field name=\"Final positions/Fourth place\"> France</field><field name=\"Tournament statistics/Matches played\">52</field><field name=\"Tournament statistics/Goals scored\">146 (2.81 per match)</field><field name=\"Tournament statistics/Attendance\">2,109,723 (40,572 per match)</field><field name=\"Tournament statistics/Top scorer(s)\"> Paolo Rossi (6 goals)</field><field name=\"Tournament statistics/Best player(s)\"> Paolo Rossi[1]</field><field name=\"Tournament statistics/Best young player\"> Manuel Amoros[1]</field><field name=\"Tournament statistics/Fair play award\"> Brazil[1]</field></doc><doc><field name=\"year\">1986</field><field name=\"Tournament details/Host country\">Mexico</field><field name=\"Tournament details/Dates\">31 May – 29 June</field><field name=\"Tournament details/Teams\">24 (from 5 confederations)</field><field name=\"Tournament details/Venue(s)\">12 (in 11 host cities)</field><field name=\"Final positions/Champions\"> Argentina (2nd title)</field><field name=\"Final positions/Runners-up\"> West Germany</field><field name=\"Final positions/Third place\"> France</field><field name=\"Final positions/Fourth place\"> Belgium</field><field name=\"Tournament statistics/Matches played\">52</field><field name=\"Tournament statistics/Goals scored\">132 (2.54 per match)</field><field name=\"Tournament statistics/Attendance\">2,394,031 (46,039 per match)</field><field name=\"Tournament statistics/Top scorer(s)\"> Gary Lineker (6 goals)</field><field name=\"Tournament statistics/Best player(s)\"> Diego Maradona</field><field name=\"Tournament statistics/Best young player\"> Enzo Scifo</field><field name=\"Tournament statistics/Fair play award\"> Brazil</field></doc><doc><field name=\"year\">1990</field><field name=\"Tournament details/Host country\">Italy</field><field name=\"Tournament details/Dates\">8 June – 8 July</field><field name=\"Tournament details/Teams\">24 (from 5 confederations)</field><field name=\"Tournament details/Venue(s)\">12 (in 12 host cities)</field><field name=\"Final positions/Champions\"> West Germany (3rd title)</field><field name=\"Final positions/Runners-up\"> Argentina</field><field name=\"Final positions/Third place\"> Italy</field><field name=\"Final positions/Fourth place\"> England</field><field name=\"Tournament statistics/Matches played\">52</field><field name=\"Tournament statistics/Goals scored\">115 (2.21 per match)</field><field name=\"Tournament statistics/Attendance\">2,516,215 (48,389 per match)</field><field name=\"Tournament statistics/Top scorer(s)\"> Salvatore Schillaci (6 goals)</field><field name=\"Tournament statistics/Best player(s)\"> Salvatore Schillaci</field><field name=\"Tournament statistics/Best young player\"> Robert Prosinečki</field><field name=\"Tournament statistics/Fair play award\"> England</field></doc><doc><field name=\"year\">1994</field><field name=\"Tournament details/Host country\">United States</field><field name=\"Tournament details/Dates\">June 17 – July 17</field><field name=\"Tournament details/Teams\">24 (from 5 confederations)</field><field name=\"Tournament details/Venue(s)\">9 (in 9 host cities)</field><field name=\"Final positions/Champions\"> Brazil (4th title)</field><field name=\"Final positions/Runners-up\"> Italy</field><field name=\"Final positions/Third place\"> Sweden</field><field name=\"Final positions/Fourth place\"> Bulgaria</field><field name=\"Tournament statistics/Matches played\">52</field><field name=\"Tournament statistics/Goals scored\">141 (2.71 per match)</field><field name=\"Tournament statistics/Attendance\">3,597,042 (69,174 per match)</field><field name=\"Tournament statistics/Top scorer(s)\"> Hristo Stoichkov Oleg Salenko(6 goals each)</field><field name=\"Tournament statistics/Best player(s)\"> Romário</field><field name=\"Tournament statistics/Best young player\"> Marc Overmars</field><field name=\"Tournament statistics/Best goalkeeper\"> Michel Preud'homme</field><field name=\"Tournament statistics/Fair play award\"> Brazil</field></doc><doc><field name=\"year\">1998</field><field name=\"Tournament details/Host country\">France</field><field name=\"Tournament details/Dates\">10 June – 12 July</field><field name=\"Tournament details/Teams\">32 (from 5 confederations)</field><field name=\"Tournament details/Venue(s)\">10 (in 10 host cities)</field><field name=\"Final positions/Champions\"> France (1st title)</field><field name=\"Final positions/Runners-up\"> Brazil</field><field name=\"Final positions/Third place\"> Croatia</field><field name=\"Final positions/Fourth place\"> Netherlands</field><field name=\"Tournament statistics/Matches played\">64</field><field name=\"Tournament statistics/Goals scored\">171 (2.67 per match)</field><field name=\"Tournament statistics/Attendance\">2,785,100 (43,517 per match)</field><field name=\"Tournament statistics/Top scorer(s)\"> Davor Šuker (6 goals)</field><field name=\"Tournament statistics/Best player(s)\"> Ronaldo</field><field name=\"Tournament statistics/Best young player\"> Michael Owen</field><field name=\"Tournament statistics/Best goalkeeper\"> Fabien Barthez</field><field name=\"Tournament statistics/Fair play award\"> England France</field></doc><doc><field name=\"year\">2002</field><field name=\"Tournament details/Host countries\">South KoreaJapan</field><field name=\"Tournament details/Dates\">31 May – 30 June</field><field name=\"Tournament details/Teams\">32 (from 5 confederations)</field><field name=\"Tournament details/Venue(s)\">20 (in 20 host cities)</field><field name=\"Final positions/Champions\"> Brazil (5th title)</field><field name=\"Final positions/Runners-up\"> Germany</field><field name=\"Final positions/Third place\"> Turkey</field><field name=\"Final positions/Fourth place\"> South Korea</field><field name=\"Tournament statistics/Matches played\">64</field><field name=\"Tournament statistics/Goals scored\">161 (2.52 per match)</field><field name=\"Tournament statistics/Attendance\">2,705,198 (42,269 per match)</field><field name=\"Tournament statistics/Top scorer(s)\"> Ronaldo (8 goals)</field><field name=\"Tournament statistics/Best player(s)\"> Oliver Kahn</field><field name=\"Tournament statistics/Best young player\"> Landon Donovan</field><field name=\"Tournament statistics/Best goalkeeper\"> Oliver Kahn</field><field name=\"Tournament statistics/Fair play award\"> Belgium</field></doc><doc><field name=\"year\">2006</field><field name=\"Tournament details/Host country\">Germany</field><field name=\"Tournament details/Dates\">9 June – 9 July</field><field name=\"Tournament details/Teams\">32 (from 6 confederations)</field><field name=\"Tournament details/Venue(s)\">12 (in 12 host cities)</field><field name=\"Final positions/Champions\"> Italy (4th title)</field><field name=\"Final positions/Runners-up\"> France</field><field name=\"Final positions/Third place\"> Germany</field><field name=\"Final positions/Fourth place\"> Portugal</field><field name=\"Tournament statistics/Matches played\">64</field><field name=\"Tournament statistics/Goals scored\">147 (2.3 per match)</field><field name=\"Tournament statistics/Attendance\">3,359,439 (52,491 per match)</field><field name=\"Tournament statistics/Top scorer(s)\"> Miroslav Klose(5 goals)</field><field name=\"Tournament statistics/Best player(s)\"> Zinedine Zidane</field><field name=\"Tournament statistics/Best young player\"> Lukas Podolski</field><field name=\"Tournament statistics/Best goalkeeper\"> Gianluigi Buffon</field><field name=\"Tournament statistics/Fair play award\"> Brazil Spain</field></doc><doc><field name=\"year\">2010</field><field name=\"Tournament details/Host country\">South Africa</field><field name=\"Tournament details/Dates\">11 June – 11 July</field><field name=\"Tournament details/Teams\">32 (from 6 confederations)</field><field name=\"Tournament details/Venue(s)\">10 (in 9 host cities)</field><field name=\"Final positions/Champions\"> Spain (1st title)</field><field name=\"Final positions/Runners-up\"> Netherlands</field><field name=\"Final positions/Third place\"> Germany</field><field name=\"Final positions/Fourth place\"> Uruguay</field><field name=\"Tournament statistics/Matches played\">64</field><field name=\"Tournament statistics/Goals scored\">145 (2.27 per match)</field><field name=\"Tournament statistics/Attendance\">3,178,856 (49,670 per match)</field><field name=\"Tournament statistics/Top scorer(s)\"> Diego Forlán Thomas Müller Wesley Sneijder David Villa(5 goals each)[1]</field><field name=\"Tournament statistics/Best player(s)\"> Diego Forlán[2]</field><field name=\"Tournament statistics/Best young player\"> Thomas Müller[3]</field><field name=\"Tournament statistics/Best goalkeeper\"> Iker Casillas[4]</field><field name=\"Tournament statistics/Fair play award\"> Spain[5]</field></doc><doc><field name=\"year\">2014</field><field name=\"Tournament details/Host country\">Brazil</field><field name=\"Tournament details/Dates\">12 June – 13 July</field><field name=\"Tournament details/Teams\">32 (from 5 confederations)</field><field name=\"Tournament details/Venue(s)\">12 (in 12 host cities)</field><field name=\"Final positions/Champions\"> Germany (4th title)</field><field name=\"Final positions/Runners-up\"> Argentina</field><field name=\"Final positions/Third place\"> Netherlands</field><field name=\"Final positions/Fourth place\"> Brazil</field><field name=\"Tournament statistics/Matches played\">64</field><field name=\"Tournament statistics/Goals scored\">171 (2.67 per match)</field><field name=\"Tournament statistics/Attendance\">3,429,873 (53,592 per match)</field><field name=\"Tournament statistics/Top scorer(s)\"> James Rodríguez(6 goals)[1]</field><field name=\"Tournament statistics/Best player(s)\"> Lionel Messi[2]</field><field name=\"Tournament statistics/Best young player\"> Paul Pogba[3]</field><field name=\"Tournament statistics/Best goalkeeper\"> Manuel Neuer[4]</field><field name=\"Tournament statistics/Fair play award\"> Colombia[5]</field></doc><doc><field name=\"year\">2018</field><field name=\"Tournament details/Host country\">Russia</field><field name=\"Tournament details/Dates\">14 June – 15 July</field><field name=\"Tournament details/Teams\">32 (from 5 confederations)</field><field name=\"Tournament details/Venue(s)\">12 (in 11 host cities)</field><field name=\"Final positions/Champions\"> France (2nd title)</field><field name=\"Final positions/Runners-up\"> Croatia</field><field name=\"Final positions/Third place\"> Belgium</field><field name=\"Final positions/Fourth place\"> England</field><field name=\"Tournament statistics/Matches played\">64</field><field name=\"Tournament statistics/Goals scored\">169 (2.64 per match)</field><field name=\"Tournament statistics/Attendance\">3,031,768 (47,371 per match)</field><field name=\"Tournament statistics/Top scorer(s)\"> Harry Kane (6 goals)</field><field name=\"Tournament statistics/Best player(s)\"> Luka Modrić</field><field name=\"Tournament statistics/Best young player\"> Kylian Mbappé</field><field name=\"Tournament statistics/Best goalkeeper\"> Thibaut Courtois</field><field name=\"Tournament statistics/Fair play award\"> Spain</field></doc><doc><field name=\"year\">2022</field><field name=\"Tournament details/Host country\">Qatar</field><field name=\"Tournament details/Dates\">20 November – 18 December</field><field name=\"Tournament details/Teams\">32 (from 5 confederations)</field><field name=\"Tournament details/Venue(s)\">8 (in 5 host cities)</field><field name=\"Final positions/Champions\"> Argentina (3rd title)</field><field name=\"Final positions/Runners-up\"> France</field><field name=\"Final positions/Third place\"> Croatia</field><field name=\"Final positions/Fourth place\"> Morocco</field><field name=\"Tournament statistics/Matches played\">64</field><field name=\"Tournament statistics/Goals scored\">172 (2.69 per match)</field><field name=\"Tournament statistics/Attendance\">3,404,252 (53,191 per match)</field><field name=\"Tournament statistics/Top scorer(s)\"> Kylian Mbappé (8 goals)</field><field name=\"Tournament statistics/Best player(s)\"> Lionel Messi</field><field name=\"Tournament statistics/Best young player\"> Enzo Fernández</field><field name=\"Tournament statistics/Best goalkeeper\"> Emiliano Martínez</field><field name=\"Tournament statistics/Fair play award\"> England</field></doc></add>\n"
]
}
],
"source": [
"def clean_text(content):\n",
"    # skipt footn otes in []\n",
"    try:\n",
"        start = content.index('[')  #exption, if missing\n",
"        end = content.index(']')\n",
"        text = content[0:start]\n",
"        count = content[start+1:end]\n",
"        try:\n",
"            z = int(count)\n",
"            content = text\n",
"            # skip footnotes e.g. [42]\n",
"        except:\n",
"            pass\n",
"    except:\n",
"        pass\n",
"    # Information after the opening round brackets is no longer relevant\n",
"    try:\n",
"        start = content.index('(')\n",
"        content = content[0:start]\n",
"    except:\n",
"        pass\n",
"    return content.strip()\n",
"\n",
"\n",
"\n",
"def one_document(year, document, categories):\n",
"    # Get the document again\n",
"    web = f'https://en.wikipedia.org/wiki/{year}_FIFA_World_Cup'\n",
"    response = requests.get(web)\n",
"    content = response.text\n",
"    soup = BeautifulSoup(content, 'lxml')\n",
"    # Analysis of the input shows that the tr tags must be read in sequence.\n",
"    lines = soup.find('table', class_='infobox')\n",
"    trs = lines.find_all('tr')\n",
"    header = \"\"\n",
"    text = \"\"\n",
"    for tr in trs:\n",
"        label = tr.find('th', class_='infobox-label')\n",
"        content = tr.find('td', class_='infobox-data')\n",
"        newheader = tr.find('th', class_='infobox-header')\n",
"        if newheader != None:\n",
"            header = newheader.getText()\n",
"        if label != None:\n",
"            label = label.getText()\n",
"            content = tr.find('td', class_='infobox-data')\n",
"            text = \"\"\n",
"            if content != None:\n",
"                content = content.getText()\n",
"            v = clean_text(content)\n",
"            category = header + '/' + label\n",
"            categories.add(category)\n",
"            text += category+\"=\"+content\n",
"            create_field(document, category, content)\n",
"            text=\"\"\n",
"\n",
"\n",
"def create_field (document, fieldname, text):\n",
"    if len(text.strip()) > 0:\n",
"        field = xml.new_tag('field', attrs = {'name':fieldname})\n",
"        field.string = text\n",
"        document.append(field)\n",
"\n",
"\n",
"\"\"\"\n",
"extract single categories\n",
"\"\"\"\n",
"categories = set()\n",
"\n",
"\n",
"# Define the years we are interested in\n",
"years = [1930, 1934, 1938, 1950, 1954, 1958, 1962, 1966, 1970, 1974,\n",
"         1978, 1982, 1986, 1990, 1994, 1998, 2002, 2006, 2010, 2014,\n",
"         2018, 2022]\n",
"# years = [1958, 2014]\n",
"\n",
"xml = BeautifulSoup(features='xml')\n",
"add = xml.new_tag('add')\n",
"xml.append(add)\n",
"\n",
"# For each year we create a new doc-tab\n",
"for year in years:\n",
"    print(year)\n",
"    document = xml.new_tag('doc')\n",
"    create_field(document, \"year\", str(year))   # id generate field id\n",
"    one_document(year,document, categories)\n",
"    xml.add.append(document)\n",
"\n",
"categories = list(categories)\n",
"categories.sort()\n",
"for cat in categories:\n",
"    print(cat)\n",
"with open(path+\"fifa_categories.csv\", \"w\") as f:\n",
"    for category in categories:\n",
"        f.write(category+\"\\n\")\n",
"\n",
"# Und jetzt noch schön herausschreiben\n",
"from bs4.formatter import XMLFormatter\n",
"formatter = XMLFormatter(indent=0)\n",
"with open(path+\"fifa_categories.xml\", \"w\") as f:\n",
"    output = str(xml)\n",
"    output.replace('\\n',' ')\n",
"    print(output)\n",
"    f.write(output)"
]
},
{
"cell_type": "code",
"execution_count": null,
"id": "322b859d-4a19-4c33-ac29-28931f2ebbc1",
"metadata": {
"id": "322b859d-4a19-4c33-ac29-28931f2ebbc1"
},
"outputs": [],
"source": []
}
],
"metadata": {
"colab": {
"provenance": []
},
"kernelspec": {
"display_name": "Python 3 (ipykernel)",
"language": "python",
"name": "python3"
},
"language_info": {
"codemirror_mode": {
"name": "ipython",
"version": 3
},
"file_extension": ".py",
"mimetype": "text/x-python",
"name": "python",
"nbconvert_exporter": "python",
"pygments_lexer": "ipython3",
"version": "3.10.12"
}
},
"nbformat": 4,
"nbformat_minor": 5
}