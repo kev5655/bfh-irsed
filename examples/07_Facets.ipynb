{
"cells": [
{
"cell_type": "markdown",
"id": "759d4e41-1b24-4272-ab99-703f5f542ef6",
"metadata": {},
"source": [
"# Facets a simple example\n",
"\n",
"https://solr.apache.org/guide/solr/latest/query-guide/json-facet-api.html#terms-facet"
]
},
{
"cell_type": "code",
"execution_count": 1,
"id": "ad67def3-a2fe-4bfa-a1f5-0482bc8e5c0c",
"metadata": {},
"outputs": [],
"source": [
"import requests"
]
},
{
"cell_type": "code",
"execution_count": 4,
"id": "18bd4099-09ef-434c-9956-4272b19db92b",
"metadata": {},
"outputs": [],
"source": [
"query=\"world\"\n",
"\n",
"request = {\n",
"    \"query\": query,\n",
"    \"params\": {\n",
"        \"df\": ['title'],\n",
"        \"fl\": \"*\",\n",
"        \"defType\": \"edismax\",\n",
"        \"rows\": 0,\n",
"        \"echoParams\": \"none\",\n",
"        \"omitHeader\": \"true\"\n",
"    },\n",
"    \"facet\": {\n",
"        \"categories\": {\n",
"            \"type\": \"terms\",\n",
"            \"field\": \"final_positions_champions\",\n",
"            \"mincount\": 1,\n",
"            \"limit\": 20,\n",
"            }\n",
"    }\n",
"}"
]
},
{
"cell_type": "code",
"execution_count": 5,
"id": "650c1f38-4c89-43b4-a15a-e5d45f40ddfe",
"metadata": {},
"outputs": [
{
"data": {
"text/plain": [
"{'response': {'numFound': 22, 'start': 0, 'numFoundExact': True, 'docs': []},\n",
" 'facets': {'count': 22,\n",
"  'categories': {'buckets': [{'val': 'brazil', 'count': 5},\n",
"    {'val': 'germany', 'count': 4},\n",
"    {'val': 'italy', 'count': 4},\n",
"    {'val': 'argentina', 'count': 3},\n",
"    {'val': 'west', 'count': 3},\n",
"    {'val': 'france', 'count': 2},\n",
"    {'val': 'uruguay', 'count': 2},\n",
"    {'val': 'england', 'count': 1},\n",
"    {'val': 'spain', 'count': 1}]}}}"
]
},
"execution_count": 5,
"metadata": {},
"output_type": "execute_result"
}
],
"source": [
"import requests\n",
"solr_url = 'http://localhost:8983/solr/'\n",
"collection = 'FIFA3'\n",
"\n",
"response = requests.post(f\"{solr_url}{collection}/select\", json=request).json()\n",
"\n",
"response\n"
]
},
{
"cell_type": "code",
"execution_count": null,
"id": "57154e43-427f-4251-a60f-049944a4048f",
"metadata": {},
"outputs": [],
"source": []
},
{
"cell_type": "code",
"execution_count": null,
"id": "7a3e947d-767b-44b9-92a8-ee59bf886393",
"metadata": {},
"outputs": [],
"source": []
}
],
"metadata": {
"kernelspec": {
"display_name": "Python 3 (ipykernel)",
"language": "python",
"name": "python3"
},
"language_info": {
"codemirror_mode": {
"name": "ipython",
"version": 3
},
"file_extension": ".py",
"mimetype": "text/x-python",
"name": "python",
"nbconvert_exporter": "python",
"pygments_lexer": "ipython3",
"version": "3.10.12"
}
},
"nbformat": 4,
"nbformat_minor": 5
}