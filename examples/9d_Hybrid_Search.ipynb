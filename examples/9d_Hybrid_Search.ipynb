{
 "cells": [
  {
   "cell_type": "markdown",
   "id": "6fb08926-45e3-48ca-a0ed-9196853ff637",
   "metadata": {},
   "source": [
    "# Hybrid Search\n",
    "This notebook shows how dense and spares vector search are combined to hybrid search.\n",
    "\n",
    "Please note: there is research in progress on hybrid search strategies"
   ]
  },
  {
   "cell_type": "code",
   "execution_count": 1,
   "id": "f4a16480-40a8-4bbb-85ce-d45c6c00350d",
   "metadata": {},
   "outputs": [],
   "source": [
    "import pysolr\n",
    "from sentence_transformers import SentenceTransformer\n",
    "from IPython.display import display,HTML"
   ]
  },
  {
   "cell_type": "code",
   "execution_count": 2,
   "id": "6fdd23e0-2fde-4b61-b178-3e6611ab82ed",
   "metadata": {},
   "outputs": [],
   "source": [
    "solr = pysolr.Solr('http://localhost:8983/solr/DenseIndex', always_commit=True)\n",
    "model = SentenceTransformer(\"Snowflake/snowflake-arctic-embed-xs\")"
   ]
  },
  {
   "cell_type": "code",
   "execution_count": 3,
   "id": "56b7b97f-ed81-4d81-8af0-0f682a3019ca",
   "metadata": {},
   "outputs": [],
   "source": [
    "import urllib.request\n",
    "import urllib.parse\n",
    "import json"
   ]
  },
  {
   "cell_type": "markdown",
   "id": "e68135b7-d4cd-4768-9ea4-8fdf0e4850d3",
   "metadata": {},
   "source": []
  },
  {
   "cell_type": "markdown",
   "id": "fd669fd8-d0f1-42ea-a9e3-842b7ca74667",
   "metadata": {},
   "source": [
    "Define a query string"
   ]
  },
  {
   "cell_type": "code",
   "execution_count": 15,
   "id": "b8f35e2e-abe6-4498-a656-e5275d35b718",
   "metadata": {},
   "outputs": [],
   "source": [
    "semantic_query = \"FIFA World Cup events with a toxic atmosphere\""
   ]
  },
  {
   "cell_type": "markdown",
   "id": "d2abfde1-8384-4b50-ae76-80ad9714a6a2",
   "metadata": {},
   "source": [
    "embed the sematic query and cast to a list, as later on we will need a list"
   ]
  },
  {
   "cell_type": "code",
   "execution_count": 16,
   "id": "7a990723-6022-4f86-8ccc-dc89fc25ae73",
   "metadata": {},
   "outputs": [],
   "source": [
    "sematic_query_embedded = list(model.encode([semantic_query], prompt_name=\"query\")[0])"
   ]
  },
  {
   "cell_type": "code",
   "execution_count": 17,
   "id": "3a6e7fac-13e7-40d0-8ac3-61d9e14a042c",
   "metadata": {},
   "outputs": [],
   "source": [
    "keyword_query = \"toxic\""
   ]
  },
  {
   "cell_type": "markdown",
   "id": "13b40097-3811-4fe8-96ce-226ccf5e7543",
   "metadata": {},
   "source": [
    "Execute the query"
   ]
  },
  {
   "cell_type": "code",
   "execution_count": 18,
   "id": "5767a259-01b4-44c5-8d14-4b1e7458c1ca",
   "metadata": {},
   "outputs": [],
   "source": [
    "solr_response=solr.search(fl=['title', 'description', 'score'],\n",
    "    q=\"{!knn f=description_vector topK=3}\"+str([float(w) for w in sematic_query_embedded]),\n",
    "    rows = 30)"
   ]
  },
  {
   "cell_type": "markdown",
   "id": "16f00865-cc3f-4200-af54-c0286e610651",
   "metadata": {},
   "source": [
    "## Define some queries"
   ]
  },
  {
   "cell_type": "markdown",
   "id": "051a2c5a-92ab-4cc0-98d8-67e9f180b2ea",
   "metadata": {},
   "source": [
    "#### Combine Semantic and Keyword Search"
   ]
  },
  {
   "cell_type": "code",
   "execution_count": 37,
   "id": "c15d86d9-c95a-4512-b3e1-45b014552494",
   "metadata": {},
   "outputs": [],
   "source": [
    "solr_response=solr.search(fl=['title', 'description', 'score'],\n",
    "    df=\"description\",                    \n",
    "    q=\"t{!bool should=$lexicalQuery should=$vectorQuery}\",\n",
    "    lexicalQuery=\"{!type=edismax qf=description}Switzerland\",\n",
    "    vectorQuery=\"{!knn f=description_vector topK=3}\"+str([float(w) for w in sematic_query_embedded]),                        \n",
    "    rows = 30)"
   ]
  },
  {
   "cell_type": "code",
   "execution_count": 42,
   "id": "1c3ed450-ab10-42ae-90e4-4c5f93c821c1",
   "metadata": {},
   "outputs": [],
   "source": [
    "solr_response=solr.search(fl=['title', 'description', 'score'],\n",
    "    df=\"description\",                    \n",
    "    q=\"t{!bool must=$lexicalQuery must=$vectorQuery}\",\n",
    "    lexicalQuery=\"{!type=edismax qf=description}Italy\",\n",
    "    vectorQuery=\"{!knn f=description_vector topK=3}\"+str([float(w) for w in sematic_query_embedded]),                        \n",
    "    rows = 30)"
   ]
  },
  {
   "cell_type": "markdown",
   "id": "4e039815-5f17-4e1c-aa09-dba79dcfc387",
   "metadata": {},
   "source": [
    "#### Reranking"
   ]
  },
  {
   "cell_type": "code",
   "execution_count": 19,
   "id": "09410fcc-537e-4b59-a5e3-80cf41122efc",
   "metadata": {},
   "outputs": [],
   "source": [
    "solr_response=solr.search(fl=['title', 'description', 'score'],\n",
    "    df=\"description\",                    \n",
    "    q=\"year:(1962 2022 1934)\",\n",
    "    rq=\"{!rerank reRankQuery=$rqq reRankDocs=4 reRankWeight=1}\",\n",
    "    rqq=\"{!knn f=description_vector topK=3}\"+str([float(w) for w in sematic_query_embedded]),                        \n",
    "    rows = 30)"
   ]
  },
  {
   "cell_type": "code",
   "execution_count": 20,
   "id": "03139ed7-cb72-4192-b2d2-a1036f398edc",
   "metadata": {},
   "outputs": [],
   "source": [
    "solr_response=solr.search(fl=['title', 'description', 'score'],\n",
    "    df=\"description\",                    \n",
    "    q=\"portugal switzerland brasil\",\n",
    "    rq=\"{!rerank reRankQuery=$rqq reRankDocs=4 reRankWeight=1}\",\n",
    "    rqq=\"{!knn f=description_vector topK=3}\"+str([float(w) for w in sematic_query_embedded]),                        \n",
    "    rows = 30)"
   ]
  },
  {
   "cell_type": "code",
   "execution_count": 22,
   "id": "99d81fed-a384-4d70-ac28-40b1c6604957",
   "metadata": {},
   "outputs": [],
   "source": [
    "solr_response=solr.search(fl=['title', 'description', 'score'],\n",
    "    df=\"description\",                    \n",
    "    q=\"toxic atmosphere\",\n",
    "    rq=\"{!rerank reRankQuery=$rqq reRankDocs=4 reRankWeight=1}\",\n",
    "    rqq=\"{!knn f=description_vector topK=3}\"+str([float(w) for w in sematic_query_embedded]),                        \n",
    "    rows = 30)"
   ]
  },
  {
   "cell_type": "markdown",
   "id": "71173052-5d81-4ad3-8445-d49329922470",
   "metadata": {},
   "source": [
    "Out of the box, we get a score from -1 to 1 from the K-Nearest Neighbours search that is summed to an unbounded score from the lexical side (that could be way above that scale)."
   ]
  },
  {
   "cell_type": "markdown",
   "id": "04ef0eca-5d1c-4c1d-9fd7-67faf1f55b74",
   "metadata": {},
   "source": [
    "#### Recompute Scores"
   ]
  },
  {
   "cell_type": "code",
   "execution_count": null,
   "id": "dbd3d051-9424-4dac-863d-2c5cc2b23685",
   "metadata": {},
   "outputs": [],
   "source": [
    "The filter component ignores any scoring and just builds the hybrid result set.\n",
    "The must clause is responsible for assigning the score, using the appropriate function query.\n",
    "\n",
    "The lexical score is min-max normalised to be scaled between 0 and 1 and it is summed to the K-Nearest Neighbours score.\n",
    "This simple linear combination of the scores could be a good starting point."
   ]
  },
  {
   "cell_type": "code",
   "execution_count": 50,
   "id": "12678e7f-071f-4fe7-887b-68b937d70471",
   "metadata": {},
   "outputs": [],
   "source": [
    "solr_response=solr.search(fl=['title', 'description', 'score'],\n",
    "    df=\"description\",                    \n",
    "    q=\"t{!bool filter=$retrievalStage must=$rankingStage}\",\n",
    "    retrievalStage = \"{!bool should=$lexicalQuery should=$vectorQuery}\",\n",
    "    rankingStage = \"{!func}sum(query($normalisedLexialQuery),query($vectorQuery))\",\n",
    "    normalisedLexialQuery = \"{!func}scale(query($lexicalQuery),0,1)\",\n",
    "    lexicalQuery=\"{!type=edismax qf=description}Italy\",\n",
    "    vectorQuery=\"{!knn f=description_vector topK=3}\"+str([float(w) for w in sematic_query_embedded]),                        \n",
    "    rows = 30)"
   ]
  },
  {
   "cell_type": "markdown",
   "id": "ea42fc9d-d40b-4039-9253-a2a48db7fb32",
   "metadata": {},
   "source": [
    "The filter component ignores any scoring and just builds the hybrid result set.\n",
    "The must clause is responsible for assigning the score, using the appropriate function query.\n",
    "\n",
    "The lexical score is min-max normalised to be scaled between 0.1 and 1 and it is multiplied by the K-Nearest Neighbours score.\n",
    "There’s no evidence that this should bring better results than the simple sum, it’s always recommended to build a prototype and test your assumptions on real queries and rated datasets."
   ]
  },
  {
   "cell_type": "code",
   "execution_count": 52,
   "id": "5b9fa58d-373c-4caa-82cd-7600be5028d0",
   "metadata": {},
   "outputs": [],
   "source": [
    "solr_response=solr.search(fl=['title', 'description', 'score'],\n",
    "    df=\"description\",                    \n",
    "    q=\"t{!bool filter=$retrievalStage must=$rankingStage}\",\n",
    "    retrievalStage = \"{!bool should=$lexicalQuery should=$vectorQuery}\",\n",
    "    rankingStage = \"{!func}product(query($normalisedLexialQuery),query($vectorQuery))\",\n",
    "    normalisedLexialQuery = \"{!func}scale(query($lexicalQuery),0.1,1)\",\n",
    "    lexicalQuery=\"{!type=edismax qf=description}Italy\",\n",
    "    vectorQuery=\"{!knn f=description_vector topK=3}\"+str([float(w) for w in sematic_query_embedded]),                        \n",
    "    rows = 30)"
   ]
  },
  {
   "cell_type": "markdown",
   "id": "6b2109f2-78c1-46ea-b903-811fecb76ea6",
   "metadata": {},
   "source": [
    "Build the union of the keyword search and the semantic search - duplicates eliminated"
   ]
  },
  {
   "cell_type": "markdown",
   "id": "0b1bed3c-f9a1-4dc2-b5aa-dc797b8e3a00",
   "metadata": {},
   "source": [
    "Build the intersection of both search methods"
   ]
  },
  {
   "cell_type": "markdown",
   "id": "fd019806-a5f3-478e-961e-59a7f8a67ce0",
   "metadata": {},
   "source": [
    "## Show the results\n",
    "First run one of the queries above"
   ]
  },
  {
   "cell_type": "code",
   "execution_count": 53,
   "id": "be22b14b-5a8b-48d0-814f-f1fdfabc4e31",
   "metadata": {},
   "outputs": [
    {
     "name": "stdout",
     "output_type": "stream",
     "text": [
      "Found 16 results\n"
     ]
    },
    {
     "data": {
      "text/html": [
       "<h3>1982 FIFA World Cup   Score=0.20051226</h3>"
      ],
      "text/plain": [
       "<IPython.core.display.HTML object>"
      ]
     },
     "metadata": {},
     "output_type": "display_data"
    },
    {
     "data": {
      "text/html": [
       "The 1982 FIFA World Cup was the 12th FIFA World Cup, a quadrennial football tournament for men's senior national teams, and was played in Spain from 13 June to 11 July 1982. The tournament was won by Italy, who defeated West Germany 3–1 in the final held in the Santiago Bernabéu Stadium in the capital, Madrid. It was Italy's third World Cup title, but their first since 1938. The defending champions, Argentina, were eliminated in the second round (finishing third and last in their group). Algeria, Cameroon, Honduras, Kuwait and New Zealand made their first appearances in the finals.The tournament featured the first penalty shootout in World Cup competition. This was the third and last World Cup to feature two rounds of group stages. It was also the third time (after 1934 and 1966) that all four semi-finalists were European.In the first round of Group 3, Hungary defeated El Salvador 10–1, equalling the largest margin of victory recorded in the finals (Hungary over South Korea 9–0 in 1954, and Yugoslavia over Zaire 9–0 in 1974).Although successful and filled with compelling and entertaining matches, this tournament also was blighted by violent fouls, some poor officiating and some overcrowded stadiums. One particular incident of note was West German goalkeeper Harald Schumacher's foul of French player Patrick Battiston during a semi-final match in Seville, and another was Italian player Claudio Gentile's intense and often violent match-long fouling and marking of Argentine player Diego Maradona. FIFA changed the regulations to somewhat prevent this kind of brutality on the pitch for the subsequent tournament in Mexico."
      ],
      "text/plain": [
       "<IPython.core.display.HTML object>"
      ]
     },
     "metadata": {},
     "output_type": "display_data"
    },
    {
     "name": "stdout",
     "output_type": "stream",
     "text": [
      "\n"
     ]
    },
    {
     "data": {
      "text/html": [
       "<h3>2018 FIFA World Cup   Score=0.1809169</h3>"
      ],
      "text/plain": [
       "<IPython.core.display.HTML object>"
      ]
     },
     "metadata": {},
     "output_type": "display_data"
    },
    {
     "data": {
      "text/html": [
       "The 2018 FIFA World Cup was the 21st FIFA World Cup, the quadrennial world championship for national football teams organized by FIFA. It took place in Russia from 14 June to 15 July 2018, after the country was awarded the hosting rights in late 2010. It was the eleventh time the championships had been held in Europe and the first time they were held in Eastern Europe, also featuring one or two venues, depending on definition, located across the boundary with Asia. At an estimated cost of over $14.2 billion, it was the most expensive World Cup ever held until it was surpassed by the 2022 World Cup in Qatar.The tournament phase involved 32 teams, of which 31 came through qualifying competitions, while the host nation Russia qualified automatically. Of the 32, 20 had also appeared in the 2014 event, while Iceland and Panama each made their debut at the World Cup. 64 matches were played in 12 venues across 11 cities. Germany, the defending champions, were eliminated in the group stage for the first time since 1938. Host nation  Russia was eliminated in the quarter-finals. In the final, France played Croatia on 15 July at Luzhniki Stadium in Moscow. France won the match 4–2, claiming their second World Cup and becoming the fourth consecutive title won by a European team, after Italy in 2006, Spain in 2010, and Germany in 2014.Croatian player Luka Modrić was voted the tournament's best player, winning the Golden Ball. England's Harry Kane won the Golden Boot as he scored the most goals during the tournament with six. Belgium's Thibaut Courtois won the Golden Glove, awarded to the goalkeeper with the best performance. It has been estimated that more than 3 million people attended games during the tournament."
      ],
      "text/plain": [
       "<IPython.core.display.HTML object>"
      ]
     },
     "metadata": {},
     "output_type": "display_data"
    },
    {
     "name": "stdout",
     "output_type": "stream",
     "text": [
      "\n"
     ]
    },
    {
     "data": {
      "text/html": [
       "<h3>1970 FIFA World Cup   Score=0.0</h3>"
      ],
      "text/plain": [
       "<IPython.core.display.HTML object>"
      ]
     },
     "metadata": {},
     "output_type": "display_data"
    },
    {
     "data": {
      "text/html": [
       "The 1970 FIFA World Cup was the 9th edition of the FIFA World Cup, the quadrennial international football championship for men's senior national teams. Held from 31 May to 21 June in Mexico, it was the first World Cup tournament held outside Europe and South America, and also the first held in North America. Teams representing 75 nations from all six populated continents entered the competition, and its qualification rounds began in May 1968. Fourteen teams qualified from this process to join host nation Mexico and defending champions England in the 16-team final tournament. El Salvador, Israel and Morocco made their debut appearances at the final stage.In the tournament final, Brazil won 4–1 against Italy, another FIFA two-time champion (and UEFA Euro 1968 winner). Brazil also overcame another two-time champion and South American champions Uruguay, by 3–1 in the semi-final, and defending champions England 1–0 in the group stage as they were also eliminated by West Germany in the quarter-finals. This is currently the only time that the winning team defeated the European and South American champions alongside the tournament's defending champions.The win gave Brazil its third World Cup title, which allowed them to permanently keep the Jules Rimet Trophy, and a new trophy was introduced in 1974. The victorious team, led by Carlos Alberto and featuring players such as Pelé, Gérson, Jairzinho, Rivellino and Tostão, is often cited as the greatest football team of all time. They achieved a perfect record of wins in all six games in the finals, as well as winning all their qualifying fixtures.Despite the issues of altitude and high temperature, the finals largely produced attacking football which created an average goals per game record not since bettered by any subsequent World Cup Finals. With the advancements in satellite communications, the 1970 Finals attracted a new record television audience for the FIFA World Cup as games were broadcast live around the world and, in a few cases, in colour—the first time that this was the case."
      ],
      "text/plain": [
       "<IPython.core.display.HTML object>"
      ]
     },
     "metadata": {},
     "output_type": "display_data"
    },
    {
     "name": "stdout",
     "output_type": "stream",
     "text": [
      "\n"
     ]
    },
    {
     "data": {
      "text/html": [
       "<h3>1978 FIFA World Cup   Score=0.0</h3>"
      ],
      "text/plain": [
       "<IPython.core.display.HTML object>"
      ]
     },
     "metadata": {},
     "output_type": "display_data"
    },
    {
     "data": {
      "text/html": [
       "The 1978 FIFA World Cup was the 11th edition of the FIFA World Cup, a quadrennial international football world championship tournament among the men's senior national teams. It was held in Argentina between 1 and 25 June.The Cup was won by the host nation, Argentina, who defeated the Netherlands 3–1 in the final, after extra time. The final was held at River Plate's home stadium, Estadio Monumental, in the Argentine capital of Buenos Aires. This win was the first World Cup title for Argentina, who became the fifth team (after Uruguay, Italy, England, and West Germany) to be both hosts and world champions and the third South American team to win a World Cup. Argentina, the Netherlands, and Brazil were the gold, silver, and bronze medalists, respectively. Iran and Tunisia made their first appearances in the tournament. The defending champions, West Germany were eliminated in the second round (finishing third in their group). This was also the last World Cup tournament to use the original inclusion of 16 teams. Since the first World Cup in 1930, only 15 teams (plus the host, who automatically qualified) had been allowed to qualify (the reigning title holders also received automatic qualification from 1934 through 2002); but for the next World Cup, in Spain, FIFA expanded that tournament to 24 teams.This tournament was marred by flagrant controversy, domestic politics, and alleged interference and match-fixing by the Argentine authoritarian military junta government, who were using this tournament as an opportunity for nationalistic propaganda, and for the relatively new military junta to seek legitimacy on the world stage. During the months before the start of the World Cup, the junta was intending to dismantle those who were against them and mitigate criticism from the public on their policies.The official match ball was the Adidas Tango."
      ],
      "text/plain": [
       "<IPython.core.display.HTML object>"
      ]
     },
     "metadata": {},
     "output_type": "display_data"
    },
    {
     "name": "stdout",
     "output_type": "stream",
     "text": [
      "\n"
     ]
    },
    {
     "data": {
      "text/html": [
       "<h3>1962 FIFA World Cup   Score=0.0</h3>"
      ],
      "text/plain": [
       "<IPython.core.display.HTML object>"
      ]
     },
     "metadata": {},
     "output_type": "display_data"
    },
    {
     "data": {
      "text/html": [
       "The 1962 FIFA World Cup was the 7th edition of the FIFA World Cup, the quadrennial international football championship for senior men's national teams. It was held from 30 May to 17 June 1962 in Chile. The qualification rounds took place between August 1960 and December 1961, with 56 teams entering from six confederations, and fourteen qualifying for the finals tournament alongside Chile, the hosts, and Brazil, the defending champions.Brazil successfully defended their World Cup title, defeating Czechoslovakia 3–1 in the final in the Chilean capital Santiago. They became the second team, after Italy in 1934 and 1938, to win the World Cup twice consecutively; no team has since achieved the feat. Host nation Chile finished third, defeating Yugoslavia 1–0 in the third-place play-off.The tournament was marred by violence between players on the pitch and a toxic atmosphere; it included the first-round match between Chile and Italy (2–0), which became known as the Battle of Santiago, one of a number of violent matches played throughout the tournament. It was the first World Cup that used goal average as a means of separating teams with the same number of points. It was also the first World Cup in which the average number of goals per match was less than three (2.78); this has been repeated at every World Cup since."
      ],
      "text/plain": [
       "<IPython.core.display.HTML object>"
      ]
     },
     "metadata": {},
     "output_type": "display_data"
    },
    {
     "name": "stdout",
     "output_type": "stream",
     "text": [
      "\n"
     ]
    },
    {
     "data": {
      "text/html": [
       "<h3>1934 FIFA World Cup   Score=0.0</h3>"
      ],
      "text/plain": [
       "<IPython.core.display.HTML object>"
      ]
     },
     "metadata": {},
     "output_type": "display_data"
    },
    {
     "data": {
      "text/html": [
       "The 1934 FIFA World Cup was the 2nd edition of the FIFA World Cup, the quadrennial international football championship for senior men's national teams. It took place in Italy from 27 May to 10 June 1934.The 1934 World Cup was the first in which teams had to qualify to take part. Thirty-two nations entered the competition; 16 teams would qualify for the final tournament. Reigning champions Uruguay boycotted the tournament as only four European teams had accepted their invitation to the 1930 tournament. Italy beat Czechoslovakia 2–1 to become the second World Cup champions and the first European winners.The 1934 World Cup was marred by being a high-profile instance of a sporting event being used for overt political gain. In particular, Benito Mussolini was keen to use this World Cup as a means of promoting fascism. Although some historians and sports journalists have made accusations of corruption and meddling by Mussolini to influence the competition to the benefit of Italy, Italy has always claimed that it deserved victory in the competition and the successful national team, considered one of the best in the country's history, emerged victorious also in the Olympic football tournament of 1936 hosted by Germany and in the 1938 World Cup hosted by France.The Federale 102 ball, which was manufactured in Italy, was the match ball provided for the 1934 World Cup."
      ],
      "text/plain": [
       "<IPython.core.display.HTML object>"
      ]
     },
     "metadata": {},
     "output_type": "display_data"
    },
    {
     "name": "stdout",
     "output_type": "stream",
     "text": [
      "\n"
     ]
    },
    {
     "data": {
      "text/html": [
       "<h3>1990 FIFA World Cup   Score=0.0</h3>"
      ],
      "text/plain": [
       "<IPython.core.display.HTML object>"
      ]
     },
     "metadata": {},
     "output_type": "display_data"
    },
    {
     "data": {
      "text/html": [
       "The 1990 FIFA World Cup was the 14th FIFA World Cup, a quadrennial football tournament for men's senior national teams. It was held from 8 June to 8 July 1990 in Italy, the second country to host the event for a second time (the first being Mexico in 1986). Teams representing 116 national football associations entered and qualification began in April 1988. 22 teams qualified from this process, along with the host nation Italy and defending champions Argentina.The tournament was won by West Germany, for the third time. They beat defending champions Argentina 1–0 at the Stadio Olimpico in Rome, a rematch of the previous final four years earlier. Italy finished third and England fourth, after both lost their semi-finals in penalty shootouts. This was the last tournament to feature a team from West Germany, with the country being reunified with East Germany a few months later in October, as well as teams from the Eastern Bloc before the end of the Cold War in 1991, as the Soviet Union and Czechoslovakia teams made their final appearances. Costa Rica, Ireland and the United Arab Emirates made their first appearances in the finals. As of 2022, this was the last time the United Arab Emirates qualified for a FIFA World Cup finals. Cameroon went on an unexpectedly strong run in the tournament, becoming the first African team to reach the quarter-finals of the World Cup. The official match ball was the Adidas Etrusco Unico.The 1990 World Cup is widely regarded as one of the poorest World Cups in terms of the games. It generated an average 2.21 goals per game – a record low that still stands – and a then-record 16 red cards, including the first dismissal in a final. The tournament also had a significant lasting influence on the game as a whole. In England, the team's success in this tournament led to the resurgence of the domestic top-flight, which had suffered from violence on the pitch and hooliganism by spectators throughout the 1980s. It saw the introduction of the pre-match Fair Play Flag (then inscribed with \"Fair Play Please\") to encourage fair play. Overly defensive tactics of many teams  led to the introduction of the back-pass rule in 1992 and three points for a win instead of two, both of which have encouraged attacking play, increasing spectator interest in the sport. The tournament also produced some of the World Cup's best remembered moments and stories, including the emergence of African nations, in addition to what has become the World Cup soundtrack: \"Nessun dorma\".The 1990 World Cup stands as one of the most watched events in television history, garnering an estimated 26.69 billion non-unique viewers over the course of the tournament. This was the first World Cup to be officially recorded and transmitted in HDTV by the Italian broadcaster RAI in association with Japan's NHK. The huge success of the broadcasting model has also had a lasting impact on the sport. At the time it was the most watched World Cup in history in non-unique viewers, but was bettered by the 1994 and 2002 World Cups."
      ],
      "text/plain": [
       "<IPython.core.display.HTML object>"
      ]
     },
     "metadata": {},
     "output_type": "display_data"
    },
    {
     "name": "stdout",
     "output_type": "stream",
     "text": [
      "\n"
     ]
    },
    {
     "data": {
      "text/html": [
       "<h3>1966 FIFA World Cup   Score=0.0</h3>"
      ],
      "text/plain": [
       "<IPython.core.display.HTML object>"
      ]
     },
     "metadata": {},
     "output_type": "display_data"
    },
    {
     "data": {
      "text/html": [
       "The 1966 FIFA World Cup was the eighth FIFA World Cup, a quadrennial football tournament for men's senior national teams. It was played in England from 11 to 30 July 1966. England defeated West Germany 4–2 in the final to win their first ever World Cup title. The final was level at 2–2 after 90 minutes and went to extra time, when Geoff Hurst scored two goals to complete his hat-trick, the first to be scored in a men's World Cup final. Portuguese striker Eusébio was the tournament's top scorer, with nine goals clinching the golden boot with three goals more than second placed Helmut Haller. It was opened by Queen Elizabeth II during the opening ceremony.England were the fifth nation to win the event, and the third host nation to win after Uruguay in 1930 and Italy in 1934. Two time reigning champions Brazil failed to get past the group stages as they were defeated by Hungary and Portugal. It was the first time that defending champions were eliminated in the group stages after Italy in 1950. This would not occur again until 36 years later. The two debut teams performed well at the competition – North Korea beat Italy 1–0 on the way to reaching the quarter-finals, where they lost to Portugal 5–3 after leading 3–0. Portugal themselves finished third, losing 2–1 to England in the semi-final. All 15 African nations who entered the qualifying later boycotted the tournament in protest after FIFA, citing competitive and logistical issues, ruled that there would be no direct qualification for any African team. The 1966 World Cup was the first FIFA World Cup held in the English-speaking world. Matches were played at eight stadiums across England, with the final being held at Wembley Stadium, which had a capacity of 98,600. Prior to the tournament, the Jules Rimet trophy was stolen, but was recovered by a dog named Pickles four months before the tournament began. It was the first World Cup to have selected matches broadcast via satellite to countries on other continents. The final, which was broadcast locally by the BBC, was the last to be shown entirely in black and white."
      ],
      "text/plain": [
       "<IPython.core.display.HTML object>"
      ]
     },
     "metadata": {},
     "output_type": "display_data"
    },
    {
     "name": "stdout",
     "output_type": "stream",
     "text": [
      "\n"
     ]
    },
    {
     "data": {
      "text/html": [
       "<h3>1950 FIFA World Cup   Score=0.0</h3>"
      ],
      "text/plain": [
       "<IPython.core.display.HTML object>"
      ]
     },
     "metadata": {},
     "output_type": "display_data"
    },
    {
     "data": {
      "text/html": [
       "The 1950 FIFA World Cup was the 4th edition of the FIFA World Cup, the quadrennial international football championship for senior men's national teams. It was held in Brazil from 24 June to 16 July 1950. It was the first World Cup tournament in over twelve years, as the 1942 and 1946 World Cups were cancelled due to World War II. Italy, the two-time defending champions, were eliminated in the first round for the first time in history. Uruguay, who had won the inaugural competition in 1930, defeated the host nation, Brazil, in the deciding match of the four-team group of the final round, causing what is sometimes known as one of the biggest upsets in sports history, occasionally called the Maracanaço. This was the only tournament not decided by a one-match final. It was also the inaugural tournament where the trophy was referred to as the Jules Rimet Cup, to mark the 25th anniversary of Jules Rimet's presidency of FIFA."
      ],
      "text/plain": [
       "<IPython.core.display.HTML object>"
      ]
     },
     "metadata": {},
     "output_type": "display_data"
    },
    {
     "name": "stdout",
     "output_type": "stream",
     "text": [
      "\n"
     ]
    },
    {
     "data": {
      "text/html": [
       "<h3>1938 FIFA World Cup   Score=0.0</h3>"
      ],
      "text/plain": [
       "<IPython.core.display.HTML object>"
      ]
     },
     "metadata": {},
     "output_type": "display_data"
    },
    {
     "data": {
      "text/html": [
       "The 1938 FIFA World Cup was the 3rd edition of the World Cup, the quadrennial international football championship for senior men's national teams. It was held in France from 4 to 19 June 1938. Italy defended its title in the final, beating Hungary 4–2. Italy's 1934 and 1938 teams hold the distinction of being the only men's national team to win the World Cup multiple times under the same coach, Vittorio Pozzo. It would be the last World Cup until 1950; the 1942 and 1946 World Cups were cancelled due to World War II."
      ],
      "text/plain": [
       "<IPython.core.display.HTML object>"
      ]
     },
     "metadata": {},
     "output_type": "display_data"
    },
    {
     "name": "stdout",
     "output_type": "stream",
     "text": [
      "\n"
     ]
    },
    {
     "data": {
      "text/html": [
       "<h3>2002 FIFA World Cup   Score=0.0</h3>"
      ],
      "text/plain": [
       "<IPython.core.display.HTML object>"
      ]
     },
     "metadata": {},
     "output_type": "display_data"
    },
    {
     "data": {
      "text/html": [
       "The 2002 FIFA World Cup, also branded as Korea/Japan 2002, was the 17th FIFA World Cup, the quadrennial football world championship for men's national teams organized by FIFA. It was held from 31 May to 30 June 2002 at sites in South Korea and Japan, with its final match hosted by Japan at International Stadium in Yokohama. During the opening ceremony, the championship was declared opened by President of South Korea Kim Dae-jung.A field of 32 teams qualified for this World Cup, which was the first to be held in Asia, the first to be held outside of the Americas or Europe, as well as the first to be jointly hosted by more than one nation. China, Ecuador, Senegal and Slovenia made their World Cup debuts, with Senegal being the only debutant to qualify from the group stages and make it to the quarterfinals.The tournament had several upsets and surprise results, which included the defending champions France being eliminated in the group stage after earning a single point without scoring a goal and second favourites Argentina also being eliminated in the group stage. South Korea managed to reach the semi-finals, beating Poland, Portugal, Italy and Spain en route. They became the first team from outside of the UEFA, CONMEBOL, and CONCACAF regions and one of the first Asian teams (along with Turkey in this World Cup) to reach the semi-finals of a World Cup. However, the most potent team at the tournament, Brazil, prevailed, winning the final against Germany 2–0, making them the first and only country to have won the World Cup five times. The victory qualified Brazil for the 2003 and subsequently 2005 FIFA Confederations Cups, its fourth and fifth Confederations Cup appearance in a row. In the third place play-off match against South Korea, Turkey won 3–2, taking third place in only their second ever FIFA World Cup, and scored the fastest goal in the FIFA World Cup history (10.8 seconds after kick-off).The 2002 World Cup was also the last one to use the golden goal rule and the last one to use the same ball for all matches. Starting in 2006 and continuing to the present, a ball with the same technical specifications but different colors has been used in the final."
      ],
      "text/plain": [
       "<IPython.core.display.HTML object>"
      ]
     },
     "metadata": {},
     "output_type": "display_data"
    },
    {
     "name": "stdout",
     "output_type": "stream",
     "text": [
      "\n"
     ]
    },
    {
     "data": {
      "text/html": [
       "<h3>1994 FIFA World Cup   Score=0.0</h3>"
      ],
      "text/plain": [
       "<IPython.core.display.HTML object>"
      ]
     },
     "metadata": {},
     "output_type": "display_data"
    },
    {
     "data": {
      "text/html": [
       "The 1994 FIFA World Cup was the 15th FIFA World Cup, the world championship for men's national soccer teams. It was hosted by the United States and took place from June 17 to July 17, 1994, at nine venues across the country. The United States was chosen as the host by FIFA on July 4, 1988. Despite soccer's relative lack of popularity in the host nation, the tournament was the most financially successful in World Cup history. It broke tournament records with overall attendance of 3,587,538 and an average of 68,991 per game, figures that stand unsurpassed as of 2022, despite the expansion of the competition from 24 to 32 teams starting with the 1998 World Cup.Brazil was crowned the winner after defeating Italy 3–2 in a penalty shootout at the Rose Bowl in Pasadena, California, near Los Angeles, after the game had ended 0–0 after extra time. It was the first World Cup final to be decided on penalties. The victory made Brazil the first nation to win four World Cup titles. There were three new entrants in the tournament: Greece, Nigeria, and Saudi Arabia; Russia also appeared as a separate nation for the first time, following the breakup of the Soviet Union, and for the first time since 1938, a unified Germany took part in the tournament. It was also the defending champion, but was eliminated in the quarterfinals by Bulgaria. It was the first World Cup where three points were awarded for a victory instead of two and also the first with the back-pass rule. This was done to encourage a more attacking style of soccer as a response to the criticism of the defensive tactics and low-scoring matches of the 1990 World Cup. This resulted in an average of 2.71 goals per match, compared to 2.21 in 1990."
      ],
      "text/plain": [
       "<IPython.core.display.HTML object>"
      ]
     },
     "metadata": {},
     "output_type": "display_data"
    },
    {
     "name": "stdout",
     "output_type": "stream",
     "text": [
      "\n"
     ]
    },
    {
     "data": {
      "text/html": [
       "<h3>2010 FIFA World Cup   Score=0.0</h3>"
      ],
      "text/plain": [
       "<IPython.core.display.HTML object>"
      ]
     },
     "metadata": {},
     "output_type": "display_data"
    },
    {
     "data": {
      "text/html": [
       "The 2010 FIFA World Cup was the 19th FIFA World Cup, the world championship for men's national football teams. It took place in South Africa from 11 June to 11 July 2010. The bidding process for hosting the tournament finals was open only to African nations. In 2004, the international football federation, FIFA, selected South Africa over Egypt and Morocco to become the first African nation to host the finals.The matches were played in 10 stadiums in nine host cities around the country, with the opening and final played at the Soccer City stadium in South Africa's largest city, Johannesburg. Thirty-two teams were selected for participation via a worldwide qualification tournament that began in August 2007. In the first round of the tournament finals, the teams competed in round-robin groups of four teams for points, with the top two teams in each group proceeding. These 16 teams advanced to the knockout stage, where three rounds of play decided which teams would participate in the final.In the final, Spain, the European champions, beat third-time losing finalists the Netherlands 1–0 after extra time to win their first world title. Spain became the eighth nation to win the tournament and the first European nation to win a World Cup hosted outside its home continent: all previous World Cups held outside Europe had been won by South American nations. They are also the first national team since 1978 to win a World Cup after losing a game in the group stage.  As a result of their win, Spain represented the World in the 2013 FIFA Confederations Cup. Host nation South Africa were eliminated in the group stage, as were both 2006 World Cup finalists, Italy and France. It was the first time that the hosts had been eliminated in the first stage. New Zealand, with their three draws, were the only undefeated team in the tournament, but they were also eliminated in the group stage."
      ],
      "text/plain": [
       "<IPython.core.display.HTML object>"
      ]
     },
     "metadata": {},
     "output_type": "display_data"
    },
    {
     "name": "stdout",
     "output_type": "stream",
     "text": [
      "\n"
     ]
    },
    {
     "data": {
      "text/html": [
       "<h3>2014 FIFA World Cup   Score=0.0</h3>"
      ],
      "text/plain": [
       "<IPython.core.display.HTML object>"
      ]
     },
     "metadata": {},
     "output_type": "display_data"
    },
    {
     "data": {
      "text/html": [
       "The 2014 FIFA World Cup was the 20th FIFA World Cup, the quadrennial world championship for men's national football teams organised by FIFA. It took place in Brazil from 12 June to 13 July 2014, after the country was awarded the hosting rights in 2007. It was the second time that Brazil staged the competition, the first being in 1950, and the fifth time that it was held in South America.31 national teams advanced through qualification competitions to join the host nation in the final tournament (with Bosnia and Herzegovina as the only debutant). A total of 64 matches were played in 12 venues located in as many host cities across Brazil. For the first time at a World Cup finals, match officials used goal-line technology, as well as vanishing spray for free kicks. FIFA Fan Fests in each host city gathered a total of 5 million people, and the country received 1 million visitors from 202 countries. Spain, the defending champions, were eliminated at the group stage. Host nation Brazil, who had won the 2013 FIFA Confederations Cup, lost to Germany 7–1 in the semi-finals and eventually finished in fourth place.In the final, Germany defeated Argentina 1–0 after extra time thanks to a Mario Götze half-volley in the 113th minute of the final to win the tournament and secure the country's fourth world title, their first major tournament win since UEFA Euro 1996, the first after German reunification in 1990, when as West Germany they also beat Argentina by the same score in 90 minutes in the World Cup final. Germany became the first European team to win a World Cup staged in the Americas, and this result marked the third consecutive title won by a European team, after Italy in 2006 and Spain in 2010."
      ],
      "text/plain": [
       "<IPython.core.display.HTML object>"
      ]
     },
     "metadata": {},
     "output_type": "display_data"
    },
    {
     "name": "stdout",
     "output_type": "stream",
     "text": [
      "\n"
     ]
    },
    {
     "data": {
      "text/html": [
       "<h3>1998 FIFA World Cup   Score=0.0</h3>"
      ],
      "text/plain": [
       "<IPython.core.display.HTML object>"
      ]
     },
     "metadata": {},
     "output_type": "display_data"
    },
    {
     "data": {
      "text/html": [
       "The 1998 FIFA World Cup was the 16th FIFA World Cup, the football world championship for men's national teams. The finals tournament was held in France from 10 June to 12 July 1998. The country was chosen as the host nation by FIFA for the second time in the history of the tournament (the first was in 1938), defeating Morocco in the bidding process. It was the ninth time that it was held in Europe. Spanning 32 days, it was the longest World Cup tournament ever held.Qualification for the finals began in March 1996 and concluded in November 1997. For the first time in the competition, the group stage was expanded from 24 teams to 32, with eight groups of four. 64 matches were played in 10 stadiums in 10 host cities, with the opening match and final staged at the newly built Stade de France in the Parisian commune of Saint-Denis.The tournament was won by host country France, who beat defending champions Brazil 3–0 in the final. France won their first title, becoming the seventh nation to win a World Cup, and the sixth (after Uruguay, Italy, England, West Germany and Argentina) to win the World Cup on home soil. As of 2022, they are the most recent team to win the tournament on home soil. Croatia, Jamaica, Japan and South Africa made their first appearances in the tournament."
      ],
      "text/plain": [
       "<IPython.core.display.HTML object>"
      ]
     },
     "metadata": {},
     "output_type": "display_data"
    },
    {
     "name": "stdout",
     "output_type": "stream",
     "text": [
      "\n"
     ]
    },
    {
     "data": {
      "text/html": [
       "<h3>2022 FIFA World Cup   Score=0.0</h3>"
      ],
      "text/plain": [
       "<IPython.core.display.HTML object>"
      ]
     },
     "metadata": {},
     "output_type": "display_data"
    },
    {
     "data": {
      "text/html": [
       "The 2022 FIFA World Cup was the 22nd FIFA World Cup, the quadrennial world championship for national football teams organized by FIFA. It took place in Qatar from 20 November to 18 December 2022, after the country was awarded the hosting rights in 2010. It was the first World Cup to be held in the Middle East and Persian Gulf countries, and the second in an Asian country after the 2002 tournament in South Korea and Japan.This tournament was the last with 32 participating teams, with the number of teams being increased to 48 for the 2026 World Cup. To avoid the extremes of Qatar's hot and humid climate in summers, the event was held in November and December, becoming the first one to take place outside the traditional months of May, June, and July. It was held over a reduced time frame of 29 days with 64 matches played in eight venues across five cities. Qatar entered the event—their first World Cup—automatically as the host's national team, alongside 31 teams determined by the qualification process.Argentina were crowned the champions after winning the final against the title holder France 4–2 on penalties following a 3–3 draw after extra time. It was Argentina's third title and their first since 1986, as well as being the first nation from outside of Europe to win the tournament since 2002. French player Kylian Mbappé became the first player to score a hat-trick in a World Cup final since Geoff Hurst in the 1966 final and won the Golden Boot as he scored the most goals (eight) during the tournament. Mbappé also became the first player to score in two consecutive finals since Vavá of Brazil did the same in 1958 and 1962.Argentine captain Lionel Messi was voted the tournament's best player, winning his second Golden Ball. The tournament has been considered exceptionally poetic as the capstone of his career, with the win fulfilling for some commentators a previously unmet criterion to be regarded as the greatest player of all time. Teammates Emiliano Martínez and Enzo Fernández won the Golden Glove, awarded to the tournament's best goalkeeper; and the Young Player Award, awarded to the tournament's best young player, respectively. With 172 goals, the tournament set a record for the highest number of goals scored in the 32-team format, with every participating team scoring at least one goal.The choice to host the World Cup in Qatar attracted significant criticism, with concerns raised over the country's treatment of migrant workers, women, and members of the LGBTQ+ community, as well as Qatar's climate, lack of a strong football culture, scheduling changes, and allegations of bribery for hosting rights and wider FIFA corruption."
      ],
      "text/plain": [
       "<IPython.core.display.HTML object>"
      ]
     },
     "metadata": {},
     "output_type": "display_data"
    },
    {
     "name": "stdout",
     "output_type": "stream",
     "text": [
      "\n"
     ]
    }
   ],
   "source": [
    "\n",
    "print(f\"Found {len(solr_response)} results\")\n",
    "\n",
    "\n",
    "for doc in solr_response:\n",
    "    display(HTML(\"<h3>\"+doc['title']+\"   Score=\"+str(doc['score'])+\"</h3>\"))\n",
    "    display(HTML(doc['description']))\n",
    "    print(\"\")"
   ]
  },
  {
   "cell_type": "markdown",
   "id": "dd509922-1a91-40f5-bed7-177f2e8f92dc",
   "metadata": {},
   "source": [
    "See also:\n",
    "https://sease.io/2023/12/hybrid-search-with-apache-solr.html\n"
   ]
  },
  {
   "cell_type": "code",
   "execution_count": null,
   "id": "0b123fa7-4ffe-4687-b89b-b9ab567352ca",
   "metadata": {},
   "outputs": [],
   "source": []
  }
 ],
 "metadata": {
  "kernelspec": {
   "display_name": "Python 3 (ipykernel)",
   "language": "python",
   "name": "python3"
  },
  "language_info": {
   "codemirror_mode": {
    "name": "ipython",
    "version": 3
   },
   "file_extension": ".py",
   "mimetype": "text/x-python",
   "name": "python",
   "nbconvert_exporter": "python",
   "pygments_lexer": "ipython3",
   "version": "3.10.12"
  }
 },
 "nbformat": 4,
 "nbformat_minor": 5
}
