{
 "cells": [
  {
   "cell_type": "markdown",
   "id": "6c876eab",
   "metadata": {},
   "source": [
    "# Ranking\n",
    "\n",
    "Ranking Evaluation form query `document:functional`"
   ]
  },
  {
   "cell_type": "code",
   "execution_count": 18,
   "id": "579f82e4",
   "metadata": {},
   "outputs": [],
   "source": [
    "expect_rank = [\n",
    "    {\"lang\": \"Haskell\",      \"rank\": 1},\n",
    "    {\"lang\": \"Elixir\",       \"rank\": 2},\n",
    "    {\"lang\": \"Scala\",        \"rank\": 3},\n",
    "    {\"lang\": \"R\",            \"rank\": 4},\n",
    "    {\"lang\": \"Rust\",         \"rank\": 5},\n",
    "    {\"lang\": \"Python\",       \"rank\": 6},\n",
    "    {\"lang\": \"TypeScript\",   \"rank\": 7},\n",
    "    {\"lang\": \"JavaScript\",   \"rank\": 8},\n",
    "    {\"lang\": \"Kotlin\",       \"rank\": 9},\n",
    "    {\"lang\": \"Swift\",        \"rank\": 10},\n",
    "    {\"lang\": \"Lua\",          \"rank\": 11},\n",
    "    {\"lang\": \"Ruby\",         \"rank\": 12},\n",
    "    {\"lang\": \"Apache Groovy\", \"rank\": 13},\n",
    "]\n",
    "\n",
    "lang_rankings = [\n",
    "    {\n",
    "        \"name\": \"document:functional\",\n",
    "        \"expected_langs\": expect_rank\n",
    "    },\n",
    "    {\n",
    "        \"name\": \"document:\\\"functional\\\" AND NOT document:\\\"object-oriented\\\"\",\n",
    "        \"expected_langs\": expect_rank\n",
    "    },\n",
    "    {\n",
    "        \"name\": \"document:\\\"functional\\\"^50 AND NOT document:\\\"object-oriented\\\"\",\n",
    "        \"expected_langs\": expect_rank\n",
    "    },\n",
    "    {\n",
    "        \"name\": \"document:\\\"functional\\\" AND NOT document:\\\"function\\\"\",\n",
    "        \"expected_langs\": expect_rank\n",
    "    },\n",
    "    {\n",
    "        \"name\": \"document:\\\"functional\\\" AND NOT document:\\\"methode\\\"\",\n",
    "        \"expected_langs\": expect_rank\n",
    "    },\n",
    "    {\n",
    "        \"name\": \"document:\\\"functional\\\"^50 AND NOT document:\\\"function\\\"\",\n",
    "        \"expected_langs\": expect_rank\n",
    "    },\n",
    "    {\n",
    "        \"name\": \"paradigm:functional\",\n",
    "        \"expected_langs\": expect_rank\n",
    "    },\n",
    "    {\n",
    "        \"name\": \"paradigm:\\\"functional\\\" AND NOT paradigm:\\\"object-oriented\\\"\",\n",
    "        \"expected_langs\": expect_rank\n",
    "    }\n",
    "    ]"
   ]
  },
  {
   "cell_type": "code",
   "execution_count": null,
   "id": "b4ee555f",
   "metadata": {},
   "outputs": [
    {
     "name": "stdout",
     "output_type": "stream",
     "text": [
      "Evaluating case: document:functional on core: ProgLang24_4\n",
      "Ranking-Abgleich:\n",
      "Evaluating case: document:\"functional\" AND NOT document:\"object-oriented\" on core: ProgLang24_4\n",
      "Ranking-Abgleich:\n",
      "Evaluating case: document:\"functional\"^50 AND NOT document:\"object-oriented\" on core: ProgLang24_4\n",
      "Ranking-Abgleich:\n",
      "Evaluating case: document:\"functional\" AND NOT document:\"function\" on core: ProgLang24_4\n",
      "Ranking-Abgleich:\n",
      "Evaluating case: document:\"functional\" AND NOT document:\"methode\" on core: ProgLang24_4\n",
      "Ranking-Abgleich:\n",
      "Evaluating case: document:\"functional\"^50 AND NOT document:\"function\" on core: ProgLang24_4\n",
      "Ranking-Abgleich:\n",
      "Evaluating case: paradigm:functional on core: ProgLang24_4\n",
      "Ranking-Abgleich:\n",
      "Evaluating case: paradigm:\"functional\" AND NOT paradigm:\"object-oriented\" on core: ProgLang24_4\n",
      "Ranking-Abgleich:\n"
     ]
    }
   ],
   "source": [
    "from core import evaluate_case, EvaluationResult\n",
    "\n",
    "# Beispiel: core und Konfiguration\n",
    "cores = [\"ProgLang24_4\"]\n",
    "\n",
    "results = []\n",
    "for core in cores:\n",
    "    solr_url = f'http://10.248.16.116:8983/solr/{core}/select'\n",
    "    for case in lang_rankings:\n",
    "        print(f\"Evaluating case: {case['name']} on core: {core}\")\n",
    "        result: EvaluationResult = evaluate_case(case, solr_url, core)\n",
    "        results.append(result)"
   ]
  },
  {
   "cell_type": "code",
   "execution_count": 20,
   "id": "86771162",
   "metadata": {},
   "outputs": [],
   "source": [
    "import json\n",
    "\n",
    "with open(\"results-ranking-func.json\", \"w\", encoding=\"utf-8\") as f:\n",
    "    json.dump(results, f, ensure_ascii=False, indent=2)"
   ]
  }
 ],
 "metadata": {
  "kernelspec": {
   "display_name": "Python 3",
   "language": "python",
   "name": "python3"
  },
  "language_info": {
   "codemirror_mode": {
    "name": "ipython",
    "version": 3
   },
   "file_extension": ".py",
   "mimetype": "text/x-python",
   "name": "python",
   "nbconvert_exporter": "python",
   "pygments_lexer": "ipython3",
   "version": "3.10.12"
  }
 },
 "nbformat": 4,
 "nbformat_minor": 5
}
